{
 "cells": [
  {
   "cell_type": "markdown",
   "metadata": {
    "id": "G4GdhWM2EjBo"
   },
   "source": [
    "# AI/Cyber Foundry Workshop on Practical Data Manipulation and Exploration with Python (28-May-2021)"
   ]
  },
  {
   "cell_type": "markdown",
   "metadata": {
    "id": "hyHlXjFeFGsI"
   },
   "source": [
    "## Preamble: Required Modules, Configuration, ..."
   ]
  },
  {
   "cell_type": "code",
   "execution_count": 1,
   "metadata": {
    "id": "BpOnOwz0FQWP"
   },
   "outputs": [],
   "source": [
    "%matplotlib inline\n",
    "import numpy as np\n",
    "import pandas as pd\n",
    "import matplotlib.pyplot as plt\n",
    "import seaborn as sns\n",
    "import pandas as pd\n",
    "import seaborn as sns\n",
    "sns.set(style=\"ticks\", color_codes=True)\n",
    "sns.set_context(\"notebook\")\n",
    "sns.set({ \"figure.figsize\": (11,7) })\n",
    "%config InlineBackend.figure_format = 'retina' "
   ]
  },
  {
   "cell_type": "markdown",
   "metadata": {
    "id": "bZVR1cB9FWKI"
   },
   "source": [
    "## A First Quick Pass with GapMinder as Case Study"
   ]
  },
  {
   "cell_type": "markdown",
   "metadata": {
    "id": "TsWSD6FjFyYa"
   },
   "source": [
    "could add here the text and code from my slides at `content/week-1/7z1018-2021-w1-google_colab_demo-gapminder_example.md`"
   ]
  },
  {
   "cell_type": "markdown",
   "metadata": {
    "id": "EhQ3tmWZGkTx"
   },
   "source": [
    "## Data Understanding, Subsetting, and Sorting with the GapMinder Dataset"
   ]
  },
  {
   "cell_type": "markdown",
   "metadata": {
    "id": "nDmoudApHgra"
   },
   "source": [
    "* We will make use of the simplified [`gapminder` dataset](https://github.com/jennybc/gapminder/blob/master/inst/extdata/gapminder.tsv)), which concerns records of population, life expectancy, and GDP of countries spanning some 50 years. You might want to have a look at the dataset rendered at the GitHub link and browse its structure and content for a quick understanding of the data.\n",
    "\n",
    "* It is a tab-separated value (`.tsv`) text file. One is able to see it raw [here](https://github.com/jennybc/gapminder/blob/master/inst/extdata/gapminder.tsv?raw=True).\n",
    "\n",
    "* For more on `gapminder`, you might want to check some of [Hans Rosling's TED talks](https://www.ted.com/playlists/474/the_best_hans_rosling_talks_yo) or the book [Factfulness: Ten Reasons We're Wrong About the World--and Why Things Are Better Than You Think](https://g.co/kgs/bEBSWN).\n",
    "\n",
    "\n",
    "* This section's main takeaways are:\n",
    "\n",
    "    - Using `pandas` for data understanding, subsetting, and sorting.\n",
    "\n",
    "    - Gaining some familiarity with the fundamentals of DataFrames and the essential Python needed.\n",
    "\n",
    "    - Making use of the `gapminder` dataset introduced as case study.\n",
    "\n",
    "    - Importing and loading data (e.g., via `.read_csv()`).\n",
    "\n",
    "    - **Dataframes** as tabular structures with **rows** and **columns**.\n",
    "\n",
    "    - Rows and columns are associated with **indices**; indices contain **labels**. One can think of each label being a name to a column (i.e., a header) or to a row (i.e., a row number).\n",
    "\n",
    "    - Subsetting with `[]` and `.loc[]`.\n",
    "\n",
    "    - Obtaining quick data summaries with `.describe()`, `.unique()`, and `.value_counts()`.\n",
    "\n",
    "    - Sorting rows, and selecting top/bottom rows.\n",
    "\n",
    "\n",
    "* Selected sections of the Python Data Science Handbook that could be useful as support material are:\n",
    "    * Introducing Pandas Objects\n",
    "    * Data Indexing and Selection\n",
    "    * Operations On Data In Pandas  \n"
   ]
  },
  {
   "cell_type": "markdown",
   "metadata": {
    "id": "hQ3Smn7d2l8p"
   },
   "source": [
    "### Loading, and Quick Inspection of the Data"
   ]
  },
  {
   "cell_type": "markdown",
   "metadata": {
    "id": "yhDf2tKZ2l8q"
   },
   "source": [
    "Right - let us have a quick look at the dataset. Typically, some data inspection is performed at early stages of a data science project or pipeline."
   ]
  },
  {
   "cell_type": "markdown",
   "metadata": {
    "id": "pCDDT_aA2l8q"
   },
   "source": [
    "Firstly, we use `pandas` to read the file and instantiate a **DataFrame** object that we will use to manipulate the dataset."
   ]
  },
  {
   "cell_type": "code",
   "execution_count": 2,
   "metadata": {
    "id": "mR9GToxr2l8r"
   },
   "outputs": [],
   "source": [
    "dataset_location = 'https://github.com/jennybc/gapminder/blob/master/inst/extdata/gapminder.tsv?raw=True'\n",
    "\n",
    "gm_df = pd.read_csv(\n",
    "    dataset_location,\n",
    "    sep='\\t'\n",
    ")"
   ]
  },
  {
   "cell_type": "markdown",
   "metadata": {
    "id": "iqaPEBXy2l8t"
   },
   "source": [
    "What follows are some variations on getting familiar with the data with some simple inspection that relies on DataFrame **methods**."
   ]
  },
  {
   "cell_type": "code",
   "execution_count": 3,
   "metadata": {
    "id": "aqFg_4eH2l8t"
   },
   "outputs": [
    {
     "data": {
      "text/html": [
       "<div>\n",
       "<style scoped>\n",
       "    .dataframe tbody tr th:only-of-type {\n",
       "        vertical-align: middle;\n",
       "    }\n",
       "\n",
       "    .dataframe tbody tr th {\n",
       "        vertical-align: top;\n",
       "    }\n",
       "\n",
       "    .dataframe thead th {\n",
       "        text-align: right;\n",
       "    }\n",
       "</style>\n",
       "<table border=\"1\" class=\"dataframe\">\n",
       "  <thead>\n",
       "    <tr style=\"text-align: right;\">\n",
       "      <th></th>\n",
       "      <th>country</th>\n",
       "      <th>continent</th>\n",
       "      <th>year</th>\n",
       "      <th>lifeExp</th>\n",
       "      <th>pop</th>\n",
       "      <th>gdpPercap</th>\n",
       "    </tr>\n",
       "  </thead>\n",
       "  <tbody>\n",
       "    <tr>\n",
       "      <th>0</th>\n",
       "      <td>Afghanistan</td>\n",
       "      <td>Asia</td>\n",
       "      <td>1952</td>\n",
       "      <td>28.801</td>\n",
       "      <td>8425333</td>\n",
       "      <td>779.445314</td>\n",
       "    </tr>\n",
       "    <tr>\n",
       "      <th>1</th>\n",
       "      <td>Afghanistan</td>\n",
       "      <td>Asia</td>\n",
       "      <td>1957</td>\n",
       "      <td>30.332</td>\n",
       "      <td>9240934</td>\n",
       "      <td>820.853030</td>\n",
       "    </tr>\n",
       "    <tr>\n",
       "      <th>2</th>\n",
       "      <td>Afghanistan</td>\n",
       "      <td>Asia</td>\n",
       "      <td>1962</td>\n",
       "      <td>31.997</td>\n",
       "      <td>10267083</td>\n",
       "      <td>853.100710</td>\n",
       "    </tr>\n",
       "    <tr>\n",
       "      <th>3</th>\n",
       "      <td>Afghanistan</td>\n",
       "      <td>Asia</td>\n",
       "      <td>1967</td>\n",
       "      <td>34.020</td>\n",
       "      <td>11537966</td>\n",
       "      <td>836.197138</td>\n",
       "    </tr>\n",
       "    <tr>\n",
       "      <th>4</th>\n",
       "      <td>Afghanistan</td>\n",
       "      <td>Asia</td>\n",
       "      <td>1972</td>\n",
       "      <td>36.088</td>\n",
       "      <td>13079460</td>\n",
       "      <td>739.981106</td>\n",
       "    </tr>\n",
       "  </tbody>\n",
       "</table>\n",
       "</div>"
      ],
      "text/plain": [
       "       country continent  year  lifeExp       pop   gdpPercap\n",
       "0  Afghanistan      Asia  1952   28.801   8425333  779.445314\n",
       "1  Afghanistan      Asia  1957   30.332   9240934  820.853030\n",
       "2  Afghanistan      Asia  1962   31.997  10267083  853.100710\n",
       "3  Afghanistan      Asia  1967   34.020  11537966  836.197138\n",
       "4  Afghanistan      Asia  1972   36.088  13079460  739.981106"
      ]
     },
     "execution_count": 3,
     "metadata": {},
     "output_type": "execute_result"
    }
   ],
   "source": [
    "gm_df.head()"
   ]
  },
  {
   "cell_type": "code",
   "execution_count": null,
   "metadata": {
    "id": "1QrFSh-r2l8v"
   },
   "outputs": [],
   "source": [
    "gm_df.sample()"
   ]
  },
  {
   "cell_type": "code",
   "execution_count": null,
   "metadata": {
    "id": "WErrji2w2l8x"
   },
   "outputs": [],
   "source": [
    "gm_df.sample(5)"
   ]
  },
  {
   "cell_type": "code",
   "execution_count": null,
   "metadata": {
    "id": "ea7zjIvH2l8z"
   },
   "outputs": [],
   "source": [
    "gm_df.tail(12)"
   ]
  },
  {
   "cell_type": "code",
   "execution_count": null,
   "metadata": {
    "id": "8KChYPiG601Z"
   },
   "outputs": [],
   "source": [
    "gm_df"
   ]
  },
  {
   "cell_type": "markdown",
   "metadata": {
    "id": "9Kcsidiu2l81"
   },
   "source": [
    "**checkpoint**: say we would like to inspect the first 20 rows, and sample at least 10 observations from the dataset. Please write the corresponding code."
   ]
  },
  {
   "cell_type": "code",
   "execution_count": null,
   "metadata": {
    "id": "5TgQ3GYs_Nll"
   },
   "outputs": [],
   "source": [
    "gm_df.head(20)\n",
    "gm_df.sample(10)"
   ]
  },
  {
   "cell_type": "code",
   "execution_count": null,
   "metadata": {
    "id": "f7Yhbtc-94KD"
   },
   "outputs": [],
   "source": [
    "# this is an example of a pipeline - the output of .head() becomes the input\n",
    "# of .sample()\n",
    "gm_df.head(20).sample(10)"
   ]
  },
  {
   "cell_type": "markdown",
   "metadata": {
    "id": "Zq0x7kd92l82"
   },
   "source": [
    "### Subsetting DataFrames by Specifying Row and Column Labels"
   ]
  },
  {
   "cell_type": "markdown",
   "metadata": {
    "id": "CopQwh0m2l82"
   },
   "source": [
    "**Dataframes** are **objects** that can be seen as tabular structures with **rows** and **columns**. Rows and columns are associated with **indices**, and indices contain **labels**. One can think of each label being a name of a column (i.e., a header) or of a row (i.e., a row number). \n",
    "\n",
    "Accessing individual rows and columns is achieved via the operator `[]` or the method `.loc[]`.\n",
    "\n",
    "In many scenarios, the application of a method such as `.head()` or `.loc[]` on a DataFrame returns a new DataFrame object (or view of an object, but let us not worry about this right now)."
   ]
  },
  {
   "cell_type": "code",
   "execution_count": null,
   "metadata": {
    "id": "Kz_DSI6tAyl2"
   },
   "outputs": [],
   "source": [
    "gm_df.head()"
   ]
  },
  {
   "cell_type": "code",
   "execution_count": null,
   "metadata": {
    "id": "gdRD8Rod2l82"
   },
   "outputs": [],
   "source": [
    "gm_df['year'].head()"
   ]
  },
  {
   "cell_type": "code",
   "execution_count": null,
   "metadata": {
    "id": "ezwrn6q22l84"
   },
   "outputs": [],
   "source": [
    "gm_df.head()['year']"
   ]
  },
  {
   "cell_type": "code",
   "execution_count": null,
   "metadata": {
    "id": "7xcFFe6J2l86"
   },
   "outputs": [],
   "source": [
    "gm_df.loc[0]"
   ]
  },
  {
   "cell_type": "code",
   "execution_count": null,
   "metadata": {
    "id": "fK5TxgHq2l88"
   },
   "outputs": [],
   "source": [
    "gm_df.loc[0, 'lifeExp']"
   ]
  },
  {
   "cell_type": "code",
   "execution_count": null,
   "metadata": {
    "id": "SXDeUms12l8-"
   },
   "outputs": [],
   "source": [
    "gm_df.loc[0]['lifeExp']"
   ]
  },
  {
   "cell_type": "markdown",
   "metadata": {
    "id": "ssfv75cY2l9B"
   },
   "source": [
    "Instead of using a single row or column label, one can provide **a list** of labels."
   ]
  },
  {
   "cell_type": "code",
   "execution_count": null,
   "metadata": {
    "id": "I0k153n42l9B"
   },
   "outputs": [],
   "source": [
    "gm_df.loc[ [0,12,24] ]"
   ]
  },
  {
   "cell_type": "code",
   "execution_count": null,
   "metadata": {
    "id": "3yFgi6V-2l9D"
   },
   "outputs": [],
   "source": [
    "gm_df[ ['country', 'year', 'lifeExp'] ]"
   ]
  },
  {
   "cell_type": "code",
   "execution_count": null,
   "metadata": {
    "id": "-IKEa7102l9F"
   },
   "outputs": [],
   "source": [
    "gm_df.loc[ [0,12,24], ['country', 'year', 'lifeExp'] ]"
   ]
  },
  {
   "cell_type": "code",
   "execution_count": null,
   "metadata": {
    "id": "BoS6BfnL2l9H"
   },
   "outputs": [],
   "source": [
    "gm_df.loc[    [  0  ]    ]"
   ]
  },
  {
   "cell_type": "code",
   "execution_count": null,
   "metadata": {
    "id": "j0yhheum2l9J"
   },
   "outputs": [],
   "source": [
    "gm_df.loc[0]"
   ]
  },
  {
   "cell_type": "markdown",
   "metadata": {
    "id": "rnxp-wMW2l9H"
   },
   "source": [
    "The two cells above are not quite equivalent - we shouldn't worry too much about the distinction at this stage. But we should say that one returns a two-dimensional DataFrame and the other a **uni-dimensional DataFrame** (referred to as a `pandas` **Series**), if you'd like."
   ]
  },
  {
   "cell_type": "markdown",
   "metadata": {
    "id": "Ax1C6IGC2l9L"
   },
   "source": [
    "**checkpoint**: it is a good idea to practice some of the above. You could write code cells that do the following:\n",
    "\n",
    "* produce a DataFrame with only the columns `year` and `pop`. For conciseness, you can simply take the `.head()` of the result.\n",
    "* obtain a DataFrame with the rows with labels `10`, `20`, `100`, and `1000` - for no particular reason, rather than just trying out subsetting expressions.\n",
    "* finally, a DataFrame for the subset of columns and rows expressed above."
   ]
  },
  {
   "cell_type": "code",
   "execution_count": null,
   "metadata": {
    "id": "spqsmiuwH4ao"
   },
   "outputs": [],
   "source": [
    "columns_I_am_interested = [ 'year', 'pop' ]\n",
    "gm_df[ columns_I_am_interested ]"
   ]
  },
  {
   "cell_type": "code",
   "execution_count": null,
   "metadata": {
    "id": "GYgAfOSkIlD9"
   },
   "outputs": [],
   "source": [
    "gm_df.loc[ [10,20,100,1000], ['year','pop'] ]"
   ]
  },
  {
   "cell_type": "markdown",
   "metadata": {
    "id": "1GzfZrgM2l9L"
   },
   "source": [
    "By the way, one could also use **ranges of labels**, rather than listing every single one were are interesting in:"
   ]
  },
  {
   "cell_type": "code",
   "execution_count": null,
   "metadata": {
    "id": "5dFh4SKA2l9L"
   },
   "outputs": [],
   "source": [
    "gm_df.loc[0:5]"
   ]
  },
  {
   "cell_type": "code",
   "execution_count": null,
   "metadata": {
    "id": "a4e9NWFv2l9N"
   },
   "outputs": [],
   "source": [
    "gm_df.loc[0:5, 'lifeExp':'gdpPercap']"
   ]
  },
  {
   "cell_type": "markdown",
   "metadata": {
    "id": "qVqkUyjf2l9P"
   },
   "source": [
    "One can omit the beginning and/or the end of the range:"
   ]
  },
  {
   "cell_type": "code",
   "execution_count": null,
   "metadata": {
    "id": "_ri8NenY2l9P"
   },
   "outputs": [],
   "source": [
    "gm_df.loc[1700:]"
   ]
  },
  {
   "cell_type": "code",
   "execution_count": null,
   "metadata": {
    "id": "6OmRooft2l9R"
   },
   "outputs": [],
   "source": [
    "gm_df.loc[1700:, 'lifeExp':]"
   ]
  },
  {
   "cell_type": "code",
   "execution_count": null,
   "metadata": {
    "id": "qdoaxL5h2l9S"
   },
   "outputs": [],
   "source": [
    "gm_df.loc[:, 'lifeExp':]"
   ]
  },
  {
   "cell_type": "markdown",
   "metadata": {
    "id": "OcV6Uuoz2l9U"
   },
   "source": [
    "**checkpoint**: perhaps you would like to play with code on ranges above and try some alternatives?"
   ]
  },
  {
   "cell_type": "code",
   "execution_count": null,
   "metadata": {
    "id": "uXwge_YO4DQU"
   },
   "outputs": [],
   "source": [
    "a_list_of_values = [ 10, 20, 30, 40, 50]\n",
    "a_list_of_values[0:2]"
   ]
  },
  {
   "cell_type": "code",
   "execution_count": null,
   "metadata": {
    "id": "6latRpdJ4tup"
   },
   "outputs": [],
   "source": [
    "gm_df.loc[0:2]"
   ]
  },
  {
   "cell_type": "markdown",
   "metadata": {
    "id": "ts9tLnsn2l9V"
   },
   "source": [
    "### Subsetting DataFrames with Logical Conditions"
   ]
  },
  {
   "cell_type": "markdown",
   "metadata": {
    "id": "pItMgjFT2l9V"
   },
   "source": [
    "If I am interested in only those latest observations dated of 2007..."
   ]
  },
  {
   "cell_type": "markdown",
   "metadata": {
    "id": "YwCj-rX92l9V"
   },
   "source": [
    "One of the options is to use the method `.query()` - it can be more intuitive than our second option, but more limited, perhaps."
   ]
  },
  {
   "cell_type": "code",
   "execution_count": null,
   "metadata": {
    "id": "-PF2mobQ2l9W"
   },
   "outputs": [],
   "source": [
    "gm_df.query(\"year==2007\").head(1)"
   ]
  },
  {
   "cell_type": "markdown",
   "metadata": {
    "id": "ym9_hney2l9Y"
   },
   "source": [
    "Quite commonly, Python data scientists will use **boolean masks** (in other words, vectors of True/False values). I am only using `.head()` to supress the output of too many rows - this is typical strategy in inspecting data and expressions."
   ]
  },
  {
   "cell_type": "code",
   "execution_count": null,
   "metadata": {
    "id": "RVtRXWYA2l9Z"
   },
   "outputs": [],
   "source": [
    "gm_df.loc[ gm_df['year']==2007 ]"
   ]
  },
  {
   "cell_type": "code",
   "execution_count": null,
   "metadata": {
    "id": "MXPKAM8g2l9b"
   },
   "outputs": [],
   "source": [
    "gm_df['year']==2007"
   ]
  },
  {
   "cell_type": "markdown",
   "metadata": {
    "id": "RYqs4ktn2l9c"
   },
   "source": [
    "How about which countries have had life expectancy equals to or greater than 80 years?"
   ]
  },
  {
   "cell_type": "code",
   "execution_count": null,
   "metadata": {
    "id": "I-S1140C2l9d"
   },
   "outputs": [],
   "source": [
    "gm_df.loc[ gm_df['lifeExp']>=80 ]"
   ]
  },
  {
   "cell_type": "markdown",
   "metadata": {
    "id": "IY9XlFAl2l9e"
   },
   "source": [
    "OK, some countries appear more than once. Can I get a quick list of unique country names? Yes, I can. It is worth emphasising that can **chain** DataFrame-producing statements, creating pipelines. The output of one method becomes the input of another."
   ]
  },
  {
   "cell_type": "code",
   "execution_count": null,
   "metadata": {
    "id": "2Sk4nQeo2l9e"
   },
   "outputs": [],
   "source": [
    "gm_df.loc[ gm_df['lifeExp']>=80 ]['country'].drop_duplicates()"
   ]
  },
  {
   "cell_type": "markdown",
   "metadata": {
    "id": "G0iTcA-Q2l9g"
   },
   "source": [
    "Confusing? You can split a single statement into several lines, by assigning intermediate results to variables."
   ]
  },
  {
   "cell_type": "code",
   "execution_count": 4,
   "metadata": {
    "id": "Wh2qH3832l9g"
   },
   "outputs": [
    {
     "data": {
      "text/html": [
       "<div>\n",
       "<style scoped>\n",
       "    .dataframe tbody tr th:only-of-type {\n",
       "        vertical-align: middle;\n",
       "    }\n",
       "\n",
       "    .dataframe tbody tr th {\n",
       "        vertical-align: top;\n",
       "    }\n",
       "\n",
       "    .dataframe thead th {\n",
       "        text-align: right;\n",
       "    }\n",
       "</style>\n",
       "<table border=\"1\" class=\"dataframe\">\n",
       "  <thead>\n",
       "    <tr style=\"text-align: right;\">\n",
       "      <th></th>\n",
       "      <th>country</th>\n",
       "    </tr>\n",
       "  </thead>\n",
       "  <tbody>\n",
       "    <tr>\n",
       "      <th>70</th>\n",
       "      <td>Australia</td>\n",
       "    </tr>\n",
       "    <tr>\n",
       "      <th>251</th>\n",
       "      <td>Canada</td>\n",
       "    </tr>\n",
       "    <tr>\n",
       "      <th>539</th>\n",
       "      <td>France</td>\n",
       "    </tr>\n",
       "    <tr>\n",
       "      <th>669</th>\n",
       "      <td>Hong Kong, China</td>\n",
       "    </tr>\n",
       "    <tr>\n",
       "      <th>694</th>\n",
       "      <td>Iceland</td>\n",
       "    </tr>\n",
       "    <tr>\n",
       "      <th>767</th>\n",
       "      <td>Israel</td>\n",
       "    </tr>\n",
       "    <tr>\n",
       "      <th>778</th>\n",
       "      <td>Italy</td>\n",
       "    </tr>\n",
       "    <tr>\n",
       "      <th>801</th>\n",
       "      <td>Japan</td>\n",
       "    </tr>\n",
       "    <tr>\n",
       "      <th>1103</th>\n",
       "      <td>New Zealand</td>\n",
       "    </tr>\n",
       "    <tr>\n",
       "      <th>1151</th>\n",
       "      <td>Norway</td>\n",
       "    </tr>\n",
       "    <tr>\n",
       "      <th>1427</th>\n",
       "      <td>Spain</td>\n",
       "    </tr>\n",
       "    <tr>\n",
       "      <th>1474</th>\n",
       "      <td>Sweden</td>\n",
       "    </tr>\n",
       "    <tr>\n",
       "      <th>1486</th>\n",
       "      <td>Switzerland</td>\n",
       "    </tr>\n",
       "  </tbody>\n",
       "</table>\n",
       "</div>"
      ],
      "text/plain": [
       "               country\n",
       "70           Australia\n",
       "251             Canada\n",
       "539             France\n",
       "669   Hong Kong, China\n",
       "694            Iceland\n",
       "767             Israel\n",
       "778              Italy\n",
       "801              Japan\n",
       "1103       New Zealand\n",
       "1151            Norway\n",
       "1427             Spain\n",
       "1474            Sweden\n",
       "1486       Switzerland"
      ]
     },
     "execution_count": 4,
     "metadata": {},
     "output_type": "execute_result"
    }
   ],
   "source": [
    "# the subset of data for life expectancy equal to or greater than 80 years\n",
    "gm_gte80_df = gm_df.loc[ gm_df['lifeExp']>=80 ]\n",
    "gm_gte80_country_df = gm_gte80_df[ ['country'] ]\n",
    "gm_gte80_country_df.drop_duplicates()"
   ]
  },
  {
   "cell_type": "markdown",
   "metadata": {
    "id": "DTT9KDRj2l9i"
   },
   "source": [
    "**checkpoint**: could you write Code cells for retrieving the following subsets of data?\n",
    "\n",
    "* all the observations in 1952.\n",
    "* all those that have a GDP-per-capita greater than US$30K.\n",
    "* are there any instances where life expectancy was lower than 30 years?"
   ]
  },
  {
   "cell_type": "code",
   "execution_count": null,
   "metadata": {
    "id": "X3BipDaz-w1x"
   },
   "outputs": [],
   "source": [
    "gm_df.loc[ gm_df['year']==1952 ]"
   ]
  },
  {
   "cell_type": "code",
   "execution_count": null,
   "metadata": {
    "id": "4sbM650T-8-j"
   },
   "outputs": [],
   "source": [
    "gm_df.loc[ gm_df['gdpPercap']>30000 ]"
   ]
  },
  {
   "cell_type": "code",
   "execution_count": null,
   "metadata": {
    "id": "X-JaY94O_Yg-"
   },
   "outputs": [],
   "source": [
    "gm_df.loc[ gm_df['lifeExp'] < 30 ]"
   ]
  },
  {
   "cell_type": "markdown",
   "metadata": {
    "id": "tvrw4DAg2l9j"
   },
   "source": [
    "### DataFrame Shape"
   ]
  },
  {
   "cell_type": "code",
   "execution_count": null,
   "metadata": {
    "id": "DAk0M6kS2l9j"
   },
   "outputs": [],
   "source": [
    "gm_df.shape"
   ]
  },
  {
   "cell_type": "code",
   "execution_count": null,
   "metadata": {
    "id": "rp3rsy-L2l9k"
   },
   "outputs": [],
   "source": [
    "len(gm_df)"
   ]
  },
  {
   "cell_type": "code",
   "execution_count": null,
   "metadata": {
    "id": "q7X9vBbZ2l9m"
   },
   "outputs": [],
   "source": [
    "gm_df.shape[0]"
   ]
  },
  {
   "cell_type": "code",
   "execution_count": null,
   "metadata": {
    "id": "f_3wjdEs2l9o"
   },
   "outputs": [],
   "source": [
    "gm_df.shape[1]"
   ]
  },
  {
   "cell_type": "markdown",
   "metadata": {
    "id": "2nUcOiUL2l9p"
   },
   "source": [
    "### Subsetting DataFrames: Multiple Conditions"
   ]
  },
  {
   "cell_type": "markdown",
   "metadata": {
    "id": "GKR4lhNC2l9p"
   },
   "source": [
    "Trust me - you will need the brackets to make sure that the evaluation order is correct."
   ]
  },
  {
   "cell_type": "code",
   "execution_count": null,
   "metadata": {
    "id": "Q13n961k2l9q"
   },
   "outputs": [],
   "source": [
    "gm_df.loc[ (gm_df['year']==1952) & (gm_df['lifeExp']>70) ]"
   ]
  },
  {
   "cell_type": "code",
   "execution_count": null,
   "metadata": {
    "id": "SW-l3Js22l9r"
   },
   "outputs": [],
   "source": [
    "gm_df.loc[ (gm_df['year']==2007) & (gm_df['lifeExp']>70) ]"
   ]
  },
  {
   "cell_type": "markdown",
   "metadata": {
    "id": "rm_ecFkn2l9t"
   },
   "source": [
    "Would you to like to know how many? `.shape` or `len` will help you here."
   ]
  },
  {
   "cell_type": "code",
   "execution_count": null,
   "metadata": {
    "id": "0p0o7Jd82l9t"
   },
   "outputs": [],
   "source": [
    "the_subset_df = gm_df.loc[ (gm_df['year']==1952) & (gm_df['lifeExp']>70) ]\n",
    "len(the_subset_df)"
   ]
  },
  {
   "cell_type": "code",
   "execution_count": null,
   "metadata": {
    "id": "xAkUbYiG2l9w"
   },
   "outputs": [],
   "source": [
    "the_subset_df = gm_df.loc[ (gm_df['year']==2007) & (gm_df['lifeExp']>70) ]\n",
    "len(the_subset_df)"
   ]
  },
  {
   "cell_type": "markdown",
   "metadata": {
    "id": "GiV4a87w2l9x"
   },
   "source": [
    "What is a suitable interpretation of these next two pieces of code?"
   ]
  },
  {
   "cell_type": "code",
   "execution_count": null,
   "metadata": {
    "id": "D1icT25r2l9y"
   },
   "outputs": [],
   "source": [
    "gm_df.loc[ (gm_df['lifeExp']>=78) & (gm_df['lifeExp']<=80) ].head()"
   ]
  },
  {
   "cell_type": "code",
   "execution_count": null,
   "metadata": {
    "id": "0iQxEy_K2l91"
   },
   "outputs": [],
   "source": [
    "gm_df.loc[ (gm_df['lifeExp']<30) | (gm_df['lifeExp']>81) ]"
   ]
  },
  {
   "cell_type": "markdown",
   "metadata": {
    "id": "RMPHM33Z2l92"
   },
   "source": [
    "### Sorting the Rows of a DataFrame"
   ]
  },
  {
   "cell_type": "code",
   "execution_count": null,
   "metadata": {
    "collapsed": true,
    "id": "vi_j394b2l92",
    "jupyter": {
     "outputs_hidden": true
    }
   },
   "outputs": [],
   "source": [
    "# inline documentation on a method? Use the exclamation mark\n",
    "gm_df.sort_values?"
   ]
  },
  {
   "cell_type": "code",
   "execution_count": null,
   "metadata": {
    "id": "28vnBS5Y2l94"
   },
   "outputs": [],
   "source": [
    "gm_2007_df = gm_df.loc[ gm_df['year']==2007 ]\n",
    "gm_2007_df.sort_values(by='pop', ascending=True)"
   ]
  },
  {
   "cell_type": "code",
   "execution_count": null,
   "metadata": {
    "id": "6t4id4Dw2l96"
   },
   "outputs": [],
   "source": [
    "gm_2007_df.sort_values(by='pop', ascending=False).tail(10)"
   ]
  },
  {
   "cell_type": "markdown",
   "metadata": {
    "id": "ANuLwvA-2l98"
   },
   "source": [
    "### Exercises"
   ]
  },
  {
   "cell_type": "markdown",
   "metadata": {
    "id": "ptXbS_X32l98"
   },
   "source": [
    "As a reminder, this is the DataFrame we are starting with:"
   ]
  },
  {
   "cell_type": "code",
   "execution_count": null,
   "metadata": {
    "id": "dwKYM2q_2l99"
   },
   "outputs": [],
   "source": [
    "gm_df.head(1)"
   ]
  },
  {
   "cell_type": "markdown",
   "metadata": {
    "id": "IsBs8YFQ2l9-"
   },
   "source": [
    "1. Select only the observations for the year of 1972."
   ]
  },
  {
   "cell_type": "code",
   "execution_count": null,
   "metadata": {
    "id": "oz8MTJtnKs3Z"
   },
   "outputs": [],
   "source": [
    "gm_df.loc[ gm_df['year']==1972 ]"
   ]
  },
  {
   "cell_type": "markdown",
   "metadata": {
    "id": "idZ6JNez2l9_"
   },
   "source": [
    "2. For the resulting DataFrame of query above, how many data instances there are?"
   ]
  },
  {
   "cell_type": "code",
   "execution_count": null,
   "metadata": {
    "id": "4s9VJ2acK0Wi"
   },
   "outputs": [],
   "source": [
    "# one way of doing it...\n",
    "gm_df.loc[ gm_df['year']==1972 ].shape"
   ]
  },
  {
   "cell_type": "code",
   "execution_count": null,
   "metadata": {
    "id": "aCBnxRCUK536"
   },
   "outputs": [],
   "source": [
    "# or...\n",
    "len(gm_df.loc[ gm_df['year']==1972 ])"
   ]
  },
  {
   "cell_type": "markdown",
   "metadata": {
    "id": "nAT7nkMV2l9_"
   },
   "source": [
    "3. Obtain the rows for Brazil only."
   ]
  },
  {
   "cell_type": "code",
   "execution_count": null,
   "metadata": {
    "id": "U_T5rUuLLbWV"
   },
   "outputs": [],
   "source": [
    "gm_df.loc[ gm_df['country']=='Brazil' ]"
   ]
  },
  {
   "cell_type": "markdown",
   "metadata": {
    "id": "hHFOTASv2l9_"
   },
   "source": [
    "4. What are the years for which observations have been recorded? (you might want to check what methods such as `.unique()` and `.value_counts()` can do for you here."
   ]
  },
  {
   "cell_type": "code",
   "execution_count": null,
   "metadata": {
    "id": "b43bMPEVOjmz"
   },
   "outputs": [],
   "source": [
    "gm_df"
   ]
  },
  {
   "cell_type": "code",
   "execution_count": null,
   "metadata": {
    "id": "tba67Qr4LjuW"
   },
   "outputs": [],
   "source": [
    "gm_df['year'].drop_duplicates().shape"
   ]
  },
  {
   "cell_type": "markdown",
   "metadata": {
    "id": "6VSLgk-42l9_"
   },
   "source": [
    "5. And how many different years?"
   ]
  },
  {
   "cell_type": "code",
   "execution_count": null,
   "metadata": {
    "id": "H5Ja1v_aLpo_"
   },
   "outputs": [],
   "source": [
    "len(gm_df['year'].unique())"
   ]
  },
  {
   "cell_type": "markdown",
   "metadata": {
    "id": "IFPUhC-O2l-A"
   },
   "source": [
    "6. What are top-10 countries in 2007 with respect to life expectancy?"
   ]
  },
  {
   "cell_type": "code",
   "execution_count": null,
   "metadata": {
    "id": "FaDhs7COMI77"
   },
   "outputs": [],
   "source": [
    "gm_df.query(\"year==2007\").sort_values(by='lifeExp', ascending=False).head(10)"
   ]
  },
  {
   "cell_type": "markdown",
   "metadata": {
    "id": "YeGERUOw2l-A"
   },
   "source": [
    "7. Obtain the subset of observations for Asia in 2007."
   ]
  },
  {
   "cell_type": "code",
   "execution_count": null,
   "metadata": {
    "id": "yfbLr7MCM6aJ"
   },
   "outputs": [],
   "source": [
    "gm_df.loc[ (gm_df['year']==2007) & (gm_df['continent']=='Asia') ].head()"
   ]
  },
  {
   "cell_type": "markdown",
   "metadata": {
    "id": "gDg2Wto52l-A"
   },
   "source": [
    "8. Produce the observations for South America for the period between 2000 and 2009."
   ]
  },
  {
   "cell_type": "code",
   "execution_count": null,
   "metadata": {
    "id": "3ydoqlJJNYvz"
   },
   "outputs": [],
   "source": [
    "gm_df.loc[ (gm_df['continent']=='Americas') & (gm_df['year'].between(2000, 2009)) ]"
   ]
  },
  {
   "cell_type": "code",
   "execution_count": null,
   "metadata": {
    "id": "EhF_fatcN1CN"
   },
   "outputs": [],
   "source": [
    "gm_df['continent'].unique()"
   ]
  },
  {
   "cell_type": "markdown",
   "metadata": {
    "id": "hVNHEccb2l-A"
   },
   "source": [
    "9. Show life expectancy and GDP-per-capita for Brazil."
   ]
  },
  {
   "cell_type": "markdown",
   "metadata": {
    "id": "5w-f1T9f2l-B"
   },
   "source": [
    "10. How many observations do we have for each continent?"
   ]
  },
  {
   "cell_type": "code",
   "execution_count": null,
   "metadata": {
    "id": "hnzGqbDZPggJ"
   },
   "outputs": [],
   "source": [
    "gm_df.loc[ gm_df['year']==2007, 'continent'].value_counts()"
   ]
  },
  {
   "cell_type": "markdown",
   "metadata": {
    "id": "EbdRxcms2l-B"
   },
   "source": [
    "11. What is the life expectancy for Brazil measured in 2007?"
   ]
  },
  {
   "cell_type": "markdown",
   "metadata": {
    "id": "W58NvAmu2l-C"
   },
   "source": [
    "## Data Pre-Processing with the PIMA Case Study"
   ]
  },
  {
   "cell_type": "markdown",
   "metadata": {
    "id": "8Jr_XaeDSSXm"
   },
   "source": [
    "### Inspecting, Obtaining Quick Summaries, Visualising Distributions"
   ]
  },
  {
   "cell_type": "markdown",
   "metadata": {
    "id": "xyUR5MbokYfu"
   },
   "source": [
    "The [PIMA Indians Diabetes Dataset](https://www.kaggle.com/uciml/pima-indians-diabetes-database) was compiled by is the National Institute of Diabetes and Digestive and Kidney Diseases (US); the goal was to predict whether or not a patient had diabetes, based on certain diagnostic measurements (e.g., glucose level, diastolic blood pressure). It can be downloaded from [here](https://www.kaggle.com/uciml/pima-indians-diabetes-database#diabetes.csv).\n",
    "\n",
    "The [documentation](https://archive.ics.uci.edu/ml/datasets/diabetes) says\n",
    "\n",
    "> ...for Each Attribute: (all numeric-valued)\n",
    "   1. Number of times pregnant\n",
    "   2. Plasma glucose concentration at 2 hours in an oral glucose tolerance test\n",
    "   3. Diastolic blood pressure (mm Hg)\n",
    "   4. Triceps skin fold thickness (mm)\n",
    "   5. 2-Hour serum insulin (mu U/ml)\n",
    "   6. Body mass index (weight in kg/(height in m)^2)\n",
    "   7. Diabetes pedigree function\n",
    "   8. Age (years)\n",
    "   9. Class variable (0 or 1)"
   ]
  },
  {
   "cell_type": "code",
   "execution_count": 5,
   "metadata": {
    "id": "KwA03kvukYfu"
   },
   "outputs": [],
   "source": [
    "pima_df = pd.read_csv(\n",
    "    'https://raw.githubusercontent.com/gerberl/ai-cyber-foundry-data-mnpl-expl-workshop/main/data/diabetes.csv'\n",
    ")"
   ]
  },
  {
   "cell_type": "markdown",
   "metadata": {
    "id": "yjh4HhY_kYfw"
   },
   "source": [
    "Firstly, we will have a glimpse at the data, making a quick inspection of its structure and content."
   ]
  },
  {
   "cell_type": "code",
   "execution_count": 6,
   "metadata": {
    "id": "DfgWcHchkYfx"
   },
   "outputs": [
    {
     "data": {
      "text/html": [
       "<div>\n",
       "<style scoped>\n",
       "    .dataframe tbody tr th:only-of-type {\n",
       "        vertical-align: middle;\n",
       "    }\n",
       "\n",
       "    .dataframe tbody tr th {\n",
       "        vertical-align: top;\n",
       "    }\n",
       "\n",
       "    .dataframe thead th {\n",
       "        text-align: right;\n",
       "    }\n",
       "</style>\n",
       "<table border=\"1\" class=\"dataframe\">\n",
       "  <thead>\n",
       "    <tr style=\"text-align: right;\">\n",
       "      <th></th>\n",
       "      <th>Pregnancies</th>\n",
       "      <th>Glucose</th>\n",
       "      <th>BloodPressure</th>\n",
       "      <th>SkinThickness</th>\n",
       "      <th>Insulin</th>\n",
       "      <th>BMI</th>\n",
       "      <th>DiabetesPedigreeFunction</th>\n",
       "      <th>Age</th>\n",
       "      <th>Outcome</th>\n",
       "    </tr>\n",
       "  </thead>\n",
       "  <tbody>\n",
       "    <tr>\n",
       "      <th>0</th>\n",
       "      <td>6</td>\n",
       "      <td>148</td>\n",
       "      <td>72</td>\n",
       "      <td>35</td>\n",
       "      <td>0</td>\n",
       "      <td>33.6</td>\n",
       "      <td>0.627</td>\n",
       "      <td>50</td>\n",
       "      <td>1</td>\n",
       "    </tr>\n",
       "    <tr>\n",
       "      <th>1</th>\n",
       "      <td>1</td>\n",
       "      <td>85</td>\n",
       "      <td>66</td>\n",
       "      <td>29</td>\n",
       "      <td>0</td>\n",
       "      <td>26.6</td>\n",
       "      <td>0.351</td>\n",
       "      <td>31</td>\n",
       "      <td>0</td>\n",
       "    </tr>\n",
       "    <tr>\n",
       "      <th>2</th>\n",
       "      <td>8</td>\n",
       "      <td>183</td>\n",
       "      <td>64</td>\n",
       "      <td>0</td>\n",
       "      <td>0</td>\n",
       "      <td>23.3</td>\n",
       "      <td>0.672</td>\n",
       "      <td>32</td>\n",
       "      <td>1</td>\n",
       "    </tr>\n",
       "    <tr>\n",
       "      <th>3</th>\n",
       "      <td>1</td>\n",
       "      <td>89</td>\n",
       "      <td>66</td>\n",
       "      <td>23</td>\n",
       "      <td>94</td>\n",
       "      <td>28.1</td>\n",
       "      <td>0.167</td>\n",
       "      <td>21</td>\n",
       "      <td>0</td>\n",
       "    </tr>\n",
       "    <tr>\n",
       "      <th>4</th>\n",
       "      <td>0</td>\n",
       "      <td>137</td>\n",
       "      <td>40</td>\n",
       "      <td>35</td>\n",
       "      <td>168</td>\n",
       "      <td>43.1</td>\n",
       "      <td>2.288</td>\n",
       "      <td>33</td>\n",
       "      <td>1</td>\n",
       "    </tr>\n",
       "  </tbody>\n",
       "</table>\n",
       "</div>"
      ],
      "text/plain": [
       "   Pregnancies  Glucose  BloodPressure  SkinThickness  Insulin   BMI  \\\n",
       "0            6      148             72             35        0  33.6   \n",
       "1            1       85             66             29        0  26.6   \n",
       "2            8      183             64              0        0  23.3   \n",
       "3            1       89             66             23       94  28.1   \n",
       "4            0      137             40             35      168  43.1   \n",
       "\n",
       "   DiabetesPedigreeFunction  Age  Outcome  \n",
       "0                     0.627   50        1  \n",
       "1                     0.351   31        0  \n",
       "2                     0.672   32        1  \n",
       "3                     0.167   21        0  \n",
       "4                     2.288   33        1  "
      ]
     },
     "execution_count": 6,
     "metadata": {},
     "output_type": "execute_result"
    }
   ],
   "source": [
    "pima_df.head()"
   ]
  },
  {
   "cell_type": "markdown",
   "metadata": {
    "id": "rRGgBKLvkYfz"
   },
   "source": [
    "Now, we shall see summary of the features and their data types - roughly, the distinction is between numbers (discrete and continuous) and strings; also, provides an idea of number of observations and the number of missing values for each feature."
   ]
  },
  {
   "cell_type": "code",
   "execution_count": null,
   "metadata": {
    "id": "syU1U1tlkYfz"
   },
   "outputs": [],
   "source": [
    "pima_df.info()"
   ]
  },
  {
   "cell_type": "markdown",
   "metadata": {
    "id": "LSuwWJ99kYf2"
   },
   "source": [
    "In this case, no missing values seem to have been recorded (we will see later that this might not be the case). The low-level `numpy` data types here usually tell us that `int64` are whole numbers (integers), `float64` are continuous values (floats), and `object` are strings."
   ]
  },
  {
   "cell_type": "markdown",
   "metadata": {
    "id": "qCpeJTdhkYf2"
   },
   "source": [
    "If you'd like, you can always check the names (and the order) of the columns:"
   ]
  },
  {
   "cell_type": "code",
   "execution_count": null,
   "metadata": {
    "id": "KJZA24g_kYf3"
   },
   "outputs": [],
   "source": [
    "pima_df.columns"
   ]
  },
  {
   "cell_type": "markdown",
   "metadata": {
    "id": "FE3bijTukYf5"
   },
   "source": [
    "The returned value is a `pandas` `Index`; recall that a DataFrame is 2D structure composed of rows and columns; columns are defined by an __index__; a column name is an index __label__."
   ]
  },
  {
   "cell_type": "markdown",
   "metadata": {
    "id": "aVSCuHdAkYf5"
   },
   "source": [
    "You can also check what the row index looks like. In this case, it is not very interesting: a sequence of integers has been created automatically to represent each row uniquely."
   ]
  },
  {
   "cell_type": "code",
   "execution_count": null,
   "metadata": {
    "id": "_e5zCz1ckYf6"
   },
   "outputs": [],
   "source": [
    "pima_df.index"
   ]
  },
  {
   "cell_type": "markdown",
   "metadata": {
    "id": "qgAtAyHFkYf8"
   },
   "source": [
    "Obtain a table of crucial summaries of a univariate data distribution; the usual *5-number summary* (min, max, 1st quartile, 3rd quartile, median), and mean and stardard deviation. Let us use `Age` as an example."
   ]
  },
  {
   "cell_type": "code",
   "execution_count": null,
   "metadata": {
    "id": "2-qWuk2RkYf8"
   },
   "outputs": [],
   "source": [
    "pima_df['Pregnancies'].describe()"
   ]
  },
  {
   "cell_type": "markdown",
   "metadata": {
    "id": "gCK6-W-tkYf-"
   },
   "source": [
    "It is normally useful to, in addition, inspect data distributions with plots. For quantitative data, a histogram is one of the first go-to structures. Let us do it for `Pregnancies`."
   ]
  },
  {
   "cell_type": "code",
   "execution_count": null,
   "metadata": {
    "id": "7uEsQkBlkYf-"
   },
   "outputs": [],
   "source": [
    "pima_df['Pregnancies'].plot.hist();"
   ]
  },
  {
   "cell_type": "markdown",
   "metadata": {
    "id": "VKKpHkVqkYgA"
   },
   "source": [
    "The semicolon at the end is simply to supress some unncessary text-based output."
   ]
  },
  {
   "cell_type": "markdown",
   "metadata": {
    "id": "KVYA86BvkYgA"
   },
   "source": [
    "The bins are arbitrary; different binning might results in slightly different shapes. For that reason, a kernel-density estimate (KDE) is commonly preferred or simply used in addition. We will look at the KDE for `Pregnancies`, firstly, using the DataFrame's plot capabilities (recall that `pandas` provides a wrapper on `matplolib`'s functionality to make our lifes easier)."
   ]
  },
  {
   "cell_type": "code",
   "execution_count": null,
   "metadata": {
    "id": "5Hl02Cv6kYgA"
   },
   "outputs": [],
   "source": [
    "pima_df['Pregnancies'].plot.hist(bins=18);"
   ]
  },
  {
   "cell_type": "code",
   "execution_count": null,
   "metadata": {
    "id": "3dblSQk1kYgC"
   },
   "outputs": [],
   "source": [
    "pima_df['Pregnancies'].plot.kde();"
   ]
  },
  {
   "cell_type": "markdown",
   "metadata": {
    "id": "_YXGG2FqkYgE"
   },
   "source": [
    "One can combine histograms and KDEs, for example, with `seaborn`'s `.distplot()`. Let us do it for diastolic blood pressure."
   ]
  },
  {
   "cell_type": "code",
   "execution_count": null,
   "metadata": {
    "id": "3o1G1rWVkYgE"
   },
   "outputs": [],
   "source": [
    "# I would like to update this to my latest style (see notebooks on HCXAI work)\n",
    "sns.distplot(pima_df['BloodPressure']);"
   ]
  },
  {
   "cell_type": "markdown",
   "metadata": {
    "id": "mI3wzmSIkYgG"
   },
   "source": [
    "What are all those zero (or close to zero) observations?"
   ]
  },
  {
   "cell_type": "markdown",
   "metadata": {
    "id": "xuooeS1JkYgG"
   },
   "source": [
    "A box-plot is quite useful for visualising the five-number summary as well as identify any __outliers__. The latter can just be unusual or extreme values, or noisy, missing, or erroneous data."
   ]
  },
  {
   "cell_type": "code",
   "execution_count": null,
   "metadata": {
    "id": "o0mnTgoikYgH"
   },
   "outputs": [],
   "source": [
    "sns.boxplot(pima_df['BloodPressure']);"
   ]
  },
  {
   "cell_type": "code",
   "execution_count": null,
   "metadata": {
    "id": "vemOvFm2kYgI"
   },
   "outputs": [],
   "source": [
    "pima_df.loc[ pima_df['BloodPressure']==0 ].sample(5)"
   ]
  },
  {
   "cell_type": "code",
   "execution_count": null,
   "metadata": {
    "id": "m0-CwCl5kYgK"
   },
   "outputs": [],
   "source": [
    "pima_df.loc[ pima_df['BloodPressure'].between(20,35) ].head()"
   ]
  },
  {
   "cell_type": "code",
   "execution_count": null,
   "metadata": {
    "id": "RGpmlukJkYgM"
   },
   "outputs": [],
   "source": [
    "sns.distplot(pima_df.loc[ pima_df['BloodPressure']!=0 ]['BloodPressure']);"
   ]
  },
  {
   "cell_type": "markdown",
   "metadata": {
    "id": "9BdnIDgjkYgO"
   },
   "source": [
    "For categorical variables - in our case study, there seems to be only `outcome`, the statistical summaries and the options for data distribution plots change. For example:"
   ]
  },
  {
   "cell_type": "code",
   "execution_count": null,
   "metadata": {
    "id": "NZXd_KprkYgO"
   },
   "outputs": [],
   "source": [
    "pima_df['Outcome'].value_counts()"
   ]
  },
  {
   "cell_type": "code",
   "execution_count": null,
   "metadata": {
    "id": "3iKMgRgDkYgP"
   },
   "outputs": [],
   "source": [
    "pima_df['Outcome'].value_counts().plot.bar();"
   ]
  },
  {
   "cell_type": "markdown",
   "metadata": {
    "id": "XMyiqp9KkYgR"
   },
   "source": [
    "As shown, it is useful to see it as a bar chart). We can use the DataFrame plotting functionality for that, and also customise the `matplotlib` `axis` object (for example, by setting `x` and `y` labels)."
   ]
  },
  {
   "cell_type": "code",
   "execution_count": 7,
   "metadata": {
    "id": "iFoF-Qv3kYgR"
   },
   "outputs": [
    {
     "data": {
      "image/png": "[encoded data removed]",
      "text/plain": [
       "<Figure size 792x504 with 1 Axes>"
      ]
     },
     "metadata": {
      "image/png": {
       "height": 430,
       "width": 671
      }
     },
     "output_type": "display_data"
    }
   ],
   "source": [
    "ax = pima_df['Outcome'].value_counts(sort=False).plot.bar()\n",
    "ax.set_xlabel('Outcome (Non-Diabetic/Diabetic)')\n",
    "ax.set_ylabel('Number of Patients')\n",
    "ax.set_ylim(0,600);"
   ]
  },
  {
   "cell_type": "markdown",
   "metadata": {
    "id": "_pXCPpR0kYgT"
   },
   "source": [
    "Help with a method? Documentation in the notebook?"
   ]
  },
  {
   "cell_type": "code",
   "execution_count": null,
   "metadata": {
    "id": "22VG1OWOkYgT"
   },
   "outputs": [],
   "source": [
    "sns.barplot?"
   ]
  },
  {
   "cell_type": "markdown",
   "metadata": {
    "id": "kDyo9zTnkYgV"
   },
   "source": [
    "Again, we can `seaborn`'s alternatives for plotting the frequency distribution."
   ]
  },
  {
   "cell_type": "code",
   "execution_count": 9,
   "metadata": {
    "id": "_hOToB_ikYgW"
   },
   "outputs": [
    {
     "data": {
      "image/png": "[encoded data removed]",
      "text/plain": [
       "<Figure size 792x504 with 1 Axes>"
      ]
     },
     "metadata": {
      "image/png": {
       "height": 429,
       "width": 671
      }
     },
     "output_type": "display_data"
    }
   ],
   "source": [
    "sns.countplot(x=pima_df['Outcome']);"
   ]
  },
  {
   "cell_type": "markdown",
   "metadata": {
    "id": "tuYpi9I0kYgX"
   },
   "source": [
    "Note that as `outcome` is expressed as numbers, `pandas` would have infered its data type as `int64` or something similar, despite `outcome` being, in reality, a categorical feature. Some methods such as `.describe()` would rely on this assumption:"
   ]
  },
  {
   "cell_type": "code",
   "execution_count": null,
   "metadata": {
    "id": "GLPRabeDkYgY"
   },
   "outputs": [],
   "source": [
    "pima_df['Outcome'].describe()"
   ]
  },
  {
   "cell_type": "markdown",
   "metadata": {
    "id": "4Nb9miw8kYga"
   },
   "source": [
    "It makes sense to tell `pandas` that `Outcome` is categorical: one approach is to convert it to the data type `category` as follows:"
   ]
  },
  {
   "cell_type": "code",
   "execution_count": null,
   "metadata": {
    "id": "Up6yODZPkYga"
   },
   "outputs": [],
   "source": [
    "pima_df['Outcome'] = pima_df['Outcome'].astype('category')"
   ]
  },
  {
   "cell_type": "code",
   "execution_count": null,
   "metadata": {
    "id": "EMl4kwrykYgc"
   },
   "outputs": [],
   "source": [
    "pima_df['Outcome'].describe()"
   ]
  },
  {
   "cell_type": "code",
   "execution_count": null,
   "metadata": {
    "id": "l_lRqosMkYge"
   },
   "outputs": [],
   "source": [
    "pima_df['Outcome'].value_counts()"
   ]
  },
  {
   "cell_type": "markdown",
   "metadata": {
    "id": "Paaei0_FkYgh"
   },
   "source": [
    "**checkpoint**: it is probably a good idea now for you to review the above and replicate the analysis on other features of the dataset. What can you learn from the data distribution and, in some cases, outliers?"
   ]
  },
  {
   "cell_type": "markdown",
   "metadata": {
    "id": "KFT6I9G9kYgq"
   },
   "source": [
    "### Missing Values, Distributions in Groups"
   ]
  },
  {
   "cell_type": "markdown",
   "metadata": {
    "id": "KC40wynakYgq"
   },
   "source": [
    "How many missing values do we actually have for `BloodPressure`?"
   ]
  },
  {
   "cell_type": "code",
   "execution_count": null,
   "metadata": {
    "id": "SzR6g7rLkYgq"
   },
   "outputs": [],
   "source": [
    "len(pima_df.loc[ pima_df['BloodPressure']==0 ])"
   ]
  },
  {
   "cell_type": "markdown",
   "metadata": {
    "id": "7zl5Go39kYgs"
   },
   "source": [
    "And for both `BMI` and `SkinThickness`?"
   ]
  },
  {
   "cell_type": "code",
   "execution_count": null,
   "metadata": {
    "id": "FI3xYDxSkYgs"
   },
   "outputs": [],
   "source": [
    "len(pima_df.loc[ (pima_df['BMI']==0) & (pima_df['SkinThickness']==0) ])"
   ]
  },
  {
   "cell_type": "markdown",
   "metadata": {
    "id": "B8sM3nfEkYgu"
   },
   "source": [
    "Let us have quick look at a random sample of the above:"
   ]
  },
  {
   "cell_type": "code",
   "execution_count": null,
   "metadata": {
    "id": "N8CCkd_EkYgu"
   },
   "outputs": [],
   "source": [
    "no_BMI_SkinThickness_df = pima_df.loc[ (pima_df['BMI']==0) & (pima_df['SkinThickness']==0) ]"
   ]
  },
  {
   "cell_type": "code",
   "execution_count": null,
   "metadata": {
    "id": "urRhsZfukYgw"
   },
   "outputs": [],
   "source": [
    "no_BMI_SkinThickness_df.sample(5)"
   ]
  },
  {
   "cell_type": "markdown",
   "metadata": {
    "id": "ifxEkWcNkYgx"
   },
   "source": [
    "What is the distribution of `Outcome` over those with 3 or more pregnancies, and how does it compare to those below?"
   ]
  },
  {
   "cell_type": "code",
   "execution_count": null,
   "metadata": {
    "id": "O-nIGCplkYgy"
   },
   "outputs": [],
   "source": [
    "sns.countplot(x=pima_df.loc[ pima_df['Pregnancies']>=3 ]['Outcome']);"
   ]
  },
  {
   "cell_type": "code",
   "execution_count": null,
   "metadata": {
    "id": "jcqQ9Ij-kYg0"
   },
   "outputs": [],
   "source": [
    "sns.countplot(x=pima_df.loc[ pima_df['Pregnancies']<3 ]['Outcome']);"
   ]
  },
  {
   "cell_type": "markdown",
   "metadata": {
    "id": "e8DlwyFvkYg2"
   },
   "source": [
    "We could also have a look at the top and the bottom 10% of BMI."
   ]
  },
  {
   "cell_type": "code",
   "execution_count": null,
   "metadata": {
    "id": "1d0i6oZHkYg2"
   },
   "outputs": [],
   "source": [
    "# the median\n",
    "pima_df['Pregnancies'].quantile(.5)"
   ]
  },
  {
   "cell_type": "code",
   "execution_count": null,
   "metadata": {
    "id": "TPrKgPXvkYg4"
   },
   "outputs": [],
   "source": [
    "bmi_90_percentile = pima_df['BMI'].quantile(0.90)\n",
    "bmi_90_percentile"
   ]
  },
  {
   "cell_type": "code",
   "execution_count": null,
   "metadata": {
    "id": "_oD5xogPkYg6"
   },
   "outputs": [],
   "source": [
    "bmi_10_percentile = pima_df['BMI'].quantile(0.10)\n",
    "bmi_10_percentile"
   ]
  },
  {
   "cell_type": "code",
   "execution_count": null,
   "metadata": {
    "id": "zwRNz5_HkYg8"
   },
   "outputs": [],
   "source": [
    "sns.countplot(pima_df.loc[ pima_df['BMI']>=bmi_90_percentile, 'Outcome']);"
   ]
  },
  {
   "cell_type": "code",
   "execution_count": null,
   "metadata": {
    "id": "PMN0mSVJkYg-"
   },
   "outputs": [],
   "source": [
    "sns.countplot(pima_df.loc[ pima_df['BMI']>=bmi_10_percentile, 'Outcome']);"
   ]
  },
  {
   "cell_type": "markdown",
   "metadata": {
    "id": "F3M1AInJkYg_"
   },
   "source": [
    "**checkpoint**:\n",
    "\n",
    "* for those above average in terms of BMI and skin thickness, what are the numbers of diabetics and non-diabetics? How does that compare to the whole dataset?\n",
    "\n",
    "* Take a sample of those with BMI and skin thickness above average.\n",
    "\n",
    "* for those with diabetes, what do the data distributions for number of pregnancies and diastolic blood pressure look like? How do they compare with those without diabetes?\n"
   ]
  },
  {
   "cell_type": "markdown",
   "metadata": {
    "id": "k9hAQzzPN0Ed"
   },
   "source": [
    "## Data Understanding and Exploration Challenge on the Titanic Dataset"
   ]
  },
  {
   "cell_type": "markdown",
   "metadata": {
    "id": "O0bMuhTvXqmP"
   },
   "source": [
    "*add brief description from notebook; adapt PDF and link to it; need to upload to the GitHub repo a copy of the dataset*"
   ]
  },
  {
   "cell_type": "code",
   "execution_count": null,
   "metadata": {
    "id": "HV0RzCnDX47_"
   },
   "outputs": [],
   "source": []
  },
  {
   "cell_type": "markdown",
   "metadata": {
    "id": "4gtz3OauygzS"
   },
   "source": [
    "## Reshaping Data"
   ]
  },
  {
   "cell_type": "markdown",
   "metadata": {
    "id": "siZHH1u6ygzS"
   },
   "source": [
    "We will make use of the familiar `gapminder` for some of examples and exercises."
   ]
  },
  {
   "cell_type": "code",
   "execution_count": null,
   "metadata": {
    "id": "MWsV1Ks6ygzS"
   },
   "outputs": [],
   "source": [
    "dataset_location = 'https://github.com/jennybc/gapminder/blob/master/inst/extdata/gapminder.tsv?raw=True'\n",
    "gm_df = pd.read_csv(\n",
    "    dataset_location,\n",
    "    sep='\\t'\n",
    ")"
   ]
  },
  {
   "cell_type": "markdown",
   "metadata": {
    "id": "rscDu8_4ygzS"
   },
   "source": [
    "A quick reminder of structure and contents of the dataset:"
   ]
  },
  {
   "cell_type": "code",
   "execution_count": null,
   "metadata": {
    "id": "RzS3kG6UygzS"
   },
   "outputs": [],
   "source": [
    "gm_df.sample()"
   ]
  },
  {
   "cell_type": "code",
   "execution_count": null,
   "metadata": {
    "id": "ZiH76te54i1r"
   },
   "outputs": [],
   "source": [
    "gm_df.head()"
   ]
  },
  {
   "cell_type": "markdown",
   "metadata": {
    "id": "LbHt--UXygzS"
   },
   "source": [
    "### Changing Row Indices"
   ]
  },
  {
   "cell_type": "markdown",
   "metadata": {
    "id": "61kUdWuBygzS"
   },
   "source": [
    "We have discussed in more than one occasion that DataFrames are indexed by **row** and **column** indices. By default, `pandas` created a range of integers for the **row labels**:"
   ]
  },
  {
   "cell_type": "code",
   "execution_count": null,
   "metadata": {
    "id": "7XVxusPSygzS"
   },
   "outputs": [],
   "source": [
    "gm_df.index"
   ]
  },
  {
   "cell_type": "markdown",
   "metadata": {
    "id": "REc7aRPMygzS"
   },
   "source": [
    "And the **column labels** match the header of the `.csv` file:"
   ]
  },
  {
   "cell_type": "code",
   "execution_count": null,
   "metadata": {
    "id": "mM-BJmsKygzS"
   },
   "outputs": [],
   "source": [
    "gm_df.columns"
   ]
  },
  {
   "cell_type": "markdown",
   "metadata": {
    "id": "jwfPJDWwygzS"
   },
   "source": [
    "To address one or more rows, one would normally use `.loc` with the corresponding labels:"
   ]
  },
  {
   "cell_type": "code",
   "execution_count": null,
   "metadata": {
    "id": "VW1EAmGUygzS"
   },
   "outputs": [],
   "source": [
    "gm_df.loc[249]"
   ]
  },
  {
   "cell_type": "markdown",
   "metadata": {
    "id": "UIpetBsxygzS"
   },
   "source": [
    "In many scenarios, one might want to make a row index more meaningful, into something that corresponds to intrinsic properties of the data. For example, if you we were looking a student dataset, we could use student IDs or (albeit, not as good) full names. More often than not, row labels are useful when they stand as unique identifiers for observations."
   ]
  },
  {
   "cell_type": "markdown",
   "metadata": {
    "id": "4lBGHvSKygzS"
   },
   "source": [
    "We can use `.set_index()` and `.reset_index()` for turning a column into a row index, and vice-versa. Let us illustrate with a subset of `gapminder`."
   ]
  },
  {
   "cell_type": "code",
   "execution_count": null,
   "metadata": {
    "id": "UP7Vd6JpygzS"
   },
   "outputs": [],
   "source": [
    "australia_df = gm_df.loc[ gm_df['country']=='Australia' ]"
   ]
  },
  {
   "cell_type": "code",
   "execution_count": null,
   "metadata": {
    "id": "cadjbDUNygzS"
   },
   "outputs": [],
   "source": [
    "australia_df"
   ]
  },
  {
   "cell_type": "markdown",
   "metadata": {
    "id": "pSKo3ws_ygzS"
   },
   "source": [
    "I will take a subset of columns for making the demonstration easier. Instead of `.loc` for selecting the columns of interest, I am **droping** those I do not wish to keep."
   ]
  },
  {
   "cell_type": "code",
   "execution_count": null,
   "metadata": {
    "id": "AaeLBTQEygzS"
   },
   "outputs": [],
   "source": [
    "australia_df = australia_df.drop(\n",
    "    # columns=['country','continent', 'gdpPercap', 'pop']\n",
    "    columns=['country','continent']\n",
    ")"
   ]
  },
  {
   "cell_type": "code",
   "execution_count": null,
   "metadata": {
    "id": "9cXAWeesygzS"
   },
   "outputs": [],
   "source": [
    "australia_df"
   ]
  },
  {
   "cell_type": "code",
   "execution_count": null,
   "metadata": {
    "id": "L7AaGtHRygzS"
   },
   "outputs": [],
   "source": [
    "australia_df = australia_df.set_index('year')"
   ]
  },
  {
   "cell_type": "code",
   "execution_count": null,
   "metadata": {
    "id": "wZtC-YYSygzS"
   },
   "outputs": [],
   "source": [
    "australia_df"
   ]
  },
  {
   "cell_type": "code",
   "execution_count": null,
   "metadata": {
    "id": "jbXrq-ONygzS"
   },
   "outputs": [],
   "source": [
    "australia_df.index"
   ]
  },
  {
   "cell_type": "code",
   "execution_count": null,
   "metadata": {
    "id": "4TfAy4weygzS"
   },
   "outputs": [],
   "source": [
    "australia_df.loc[[2002]]"
   ]
  },
  {
   "cell_type": "code",
   "execution_count": null,
   "metadata": {
    "id": "JMcN7Oe3ygzS"
   },
   "outputs": [],
   "source": [
    "australia_df.loc[1992:2007]"
   ]
  },
  {
   "cell_type": "markdown",
   "metadata": {
    "id": "akmwo5etygzS"
   },
   "source": [
    "**checkpoint**:\n",
    "\n",
    "Take a subset of `gapminder` for `Americas` and `1952`; it makes sense to assign it to a variable (with a meaningful name). Then, make `country` the row index, and try some indexing expressions with `.loc` for selecting unique observations from that subset."
   ]
  },
  {
   "cell_type": "code",
   "execution_count": null,
   "metadata": {
    "id": "FOQcW-Z-APig"
   },
   "outputs": [],
   "source": [
    "americas_df = gm_df.loc[ \n",
    "    (gm_df['continent']=='Americas') & (gm_df['year']==1952)\n",
    "]"
   ]
  },
  {
   "cell_type": "code",
   "execution_count": null,
   "metadata": {
    "id": "cWdgjDwfAy-0"
   },
   "outputs": [],
   "source": [
    "americas_df.head()"
   ]
  },
  {
   "cell_type": "code",
   "execution_count": null,
   "metadata": {
    "id": "HfE2VxOgA4Gs"
   },
   "outputs": [],
   "source": [
    "americas_df = americas_df.set_index('country')"
   ]
  },
  {
   "cell_type": "code",
   "execution_count": null,
   "metadata": {
    "id": "g0_6zUXOBETO"
   },
   "outputs": [],
   "source": [
    "americas_df.head()"
   ]
  },
  {
   "cell_type": "code",
   "execution_count": null,
   "metadata": {
    "id": "scasZFCAA--G"
   },
   "outputs": [],
   "source": [
    "americas_df.loc['Brazil']"
   ]
  },
  {
   "cell_type": "code",
   "execution_count": null,
   "metadata": {
    "id": "UmZdrlSdGSxz"
   },
   "outputs": [],
   "source": [
    "americas_df.head(3)"
   ]
  },
  {
   "cell_type": "code",
   "execution_count": null,
   "metadata": {
    "id": "wUEMfotNGbxT"
   },
   "outputs": [],
   "source": [
    "americas_df.reset_index('country').head(3)"
   ]
  },
  {
   "cell_type": "markdown",
   "metadata": {
    "id": "QB_Llfu6ygzT"
   },
   "source": [
    "### Hierarchical Indices: A Very Brief Look"
   ]
  },
  {
   "cell_type": "markdown",
   "metadata": {
    "id": "phpV6G4fygzT"
   },
   "source": [
    "More than one column can be pushed into the row index; then, the latter becomes a **hierarchical index**. Each column occupies an index **level**. There are all sorts of complex operations and transformation that we can apply on and with them; for now, we are only looking at reshaping operations such as `set_index` and `reset_index`. \n",
    "\n",
    "Further information can be found in the the [`pandas` online documentation](https://pandas.pydata.org/pandas-docs/stable/user_guide/advanced.html#advanced-indexing-with-hierarchical-index), as well as in the **Python Data Science Handbook**."
   ]
  },
  {
   "cell_type": "markdown",
   "metadata": {
    "id": "zGQ9kAASygzT"
   },
   "source": [
    "For illustration, we will take again a subset of `gapminder` - this time, only for countries in `Oceania`."
   ]
  },
  {
   "cell_type": "code",
   "execution_count": 10,
   "metadata": {
    "id": "t-OkoTQDygzT"
   },
   "outputs": [
    {
     "data": {
      "text/html": [
       "<div>\n",
       "<style scoped>\n",
       "    .dataframe tbody tr th:only-of-type {\n",
       "        vertical-align: middle;\n",
       "    }\n",
       "\n",
       "    .dataframe tbody tr th {\n",
       "        vertical-align: top;\n",
       "    }\n",
       "\n",
       "    .dataframe thead th {\n",
       "        text-align: right;\n",
       "    }\n",
       "</style>\n",
       "<table border=\"1\" class=\"dataframe\">\n",
       "  <thead>\n",
       "    <tr style=\"text-align: right;\">\n",
       "      <th></th>\n",
       "      <th>country</th>\n",
       "      <th>year</th>\n",
       "      <th>lifeExp</th>\n",
       "    </tr>\n",
       "  </thead>\n",
       "  <tbody>\n",
       "    <tr>\n",
       "      <th>1101</th>\n",
       "      <td>New Zealand</td>\n",
       "      <td>1997</td>\n",
       "      <td>77.55</td>\n",
       "    </tr>\n",
       "    <tr>\n",
       "      <th>68</th>\n",
       "      <td>Australia</td>\n",
       "      <td>1992</td>\n",
       "      <td>77.56</td>\n",
       "    </tr>\n",
       "    <tr>\n",
       "      <th>1100</th>\n",
       "      <td>New Zealand</td>\n",
       "      <td>1992</td>\n",
       "      <td>76.33</td>\n",
       "    </tr>\n",
       "    <tr>\n",
       "      <th>1102</th>\n",
       "      <td>New Zealand</td>\n",
       "      <td>2002</td>\n",
       "      <td>79.11</td>\n",
       "    </tr>\n",
       "    <tr>\n",
       "      <th>67</th>\n",
       "      <td>Australia</td>\n",
       "      <td>1987</td>\n",
       "      <td>76.32</td>\n",
       "    </tr>\n",
       "  </tbody>\n",
       "</table>\n",
       "</div>"
      ],
      "text/plain": [
       "          country  year  lifeExp\n",
       "1101  New Zealand  1997    77.55\n",
       "68      Australia  1992    77.56\n",
       "1100  New Zealand  1992    76.33\n",
       "1102  New Zealand  2002    79.11\n",
       "67      Australia  1987    76.32"
      ]
     },
     "execution_count": 10,
     "metadata": {},
     "output_type": "execute_result"
    }
   ],
   "source": [
    "oceania_df = gm_df.loc[ gm_df['continent']=='Oceania' ]\n",
    "oceania_df = oceania_df.drop(\n",
    "    columns=['continent', 'gdpPercap', 'pop']\n",
    ")\n",
    "oceania_df.sample(5)"
   ]
  },
  {
   "cell_type": "markdown",
   "metadata": {
    "id": "ccEacn-EygzT"
   },
   "source": [
    "Wouldn't it be more convenient to address a specific row given a country name and year?"
   ]
  },
  {
   "cell_type": "code",
   "execution_count": 11,
   "metadata": {
    "id": "uLDEfdkvygzT"
   },
   "outputs": [
    {
     "data": {
      "text/html": [
       "<div>\n",
       "<style scoped>\n",
       "    .dataframe tbody tr th:only-of-type {\n",
       "        vertical-align: middle;\n",
       "    }\n",
       "\n",
       "    .dataframe tbody tr th {\n",
       "        vertical-align: top;\n",
       "    }\n",
       "\n",
       "    .dataframe thead th {\n",
       "        text-align: right;\n",
       "    }\n",
       "</style>\n",
       "<table border=\"1\" class=\"dataframe\">\n",
       "  <thead>\n",
       "    <tr style=\"text-align: right;\">\n",
       "      <th></th>\n",
       "      <th></th>\n",
       "      <th>lifeExp</th>\n",
       "    </tr>\n",
       "    <tr>\n",
       "      <th>country</th>\n",
       "      <th>year</th>\n",
       "      <th></th>\n",
       "    </tr>\n",
       "  </thead>\n",
       "  <tbody>\n",
       "    <tr>\n",
       "      <th rowspan=\"12\" valign=\"top\">Australia</th>\n",
       "      <th>1952</th>\n",
       "      <td>69.120</td>\n",
       "    </tr>\n",
       "    <tr>\n",
       "      <th>1957</th>\n",
       "      <td>70.330</td>\n",
       "    </tr>\n",
       "    <tr>\n",
       "      <th>1962</th>\n",
       "      <td>70.930</td>\n",
       "    </tr>\n",
       "    <tr>\n",
       "      <th>1967</th>\n",
       "      <td>71.100</td>\n",
       "    </tr>\n",
       "    <tr>\n",
       "      <th>1972</th>\n",
       "      <td>71.930</td>\n",
       "    </tr>\n",
       "    <tr>\n",
       "      <th>1977</th>\n",
       "      <td>73.490</td>\n",
       "    </tr>\n",
       "    <tr>\n",
       "      <th>1982</th>\n",
       "      <td>74.740</td>\n",
       "    </tr>\n",
       "    <tr>\n",
       "      <th>1987</th>\n",
       "      <td>76.320</td>\n",
       "    </tr>\n",
       "    <tr>\n",
       "      <th>1992</th>\n",
       "      <td>77.560</td>\n",
       "    </tr>\n",
       "    <tr>\n",
       "      <th>1997</th>\n",
       "      <td>78.830</td>\n",
       "    </tr>\n",
       "    <tr>\n",
       "      <th>2002</th>\n",
       "      <td>80.370</td>\n",
       "    </tr>\n",
       "    <tr>\n",
       "      <th>2007</th>\n",
       "      <td>81.235</td>\n",
       "    </tr>\n",
       "    <tr>\n",
       "      <th rowspan=\"12\" valign=\"top\">New Zealand</th>\n",
       "      <th>1952</th>\n",
       "      <td>69.390</td>\n",
       "    </tr>\n",
       "    <tr>\n",
       "      <th>1957</th>\n",
       "      <td>70.260</td>\n",
       "    </tr>\n",
       "    <tr>\n",
       "      <th>1962</th>\n",
       "      <td>71.240</td>\n",
       "    </tr>\n",
       "    <tr>\n",
       "      <th>1967</th>\n",
       "      <td>71.520</td>\n",
       "    </tr>\n",
       "    <tr>\n",
       "      <th>1972</th>\n",
       "      <td>71.890</td>\n",
       "    </tr>\n",
       "    <tr>\n",
       "      <th>1977</th>\n",
       "      <td>72.220</td>\n",
       "    </tr>\n",
       "    <tr>\n",
       "      <th>1982</th>\n",
       "      <td>73.840</td>\n",
       "    </tr>\n",
       "    <tr>\n",
       "      <th>1987</th>\n",
       "      <td>74.320</td>\n",
       "    </tr>\n",
       "    <tr>\n",
       "      <th>1992</th>\n",
       "      <td>76.330</td>\n",
       "    </tr>\n",
       "    <tr>\n",
       "      <th>1997</th>\n",
       "      <td>77.550</td>\n",
       "    </tr>\n",
       "    <tr>\n",
       "      <th>2002</th>\n",
       "      <td>79.110</td>\n",
       "    </tr>\n",
       "    <tr>\n",
       "      <th>2007</th>\n",
       "      <td>80.204</td>\n",
       "    </tr>\n",
       "  </tbody>\n",
       "</table>\n",
       "</div>"
      ],
      "text/plain": [
       "                  lifeExp\n",
       "country     year         \n",
       "Australia   1952   69.120\n",
       "            1957   70.330\n",
       "            1962   70.930\n",
       "            1967   71.100\n",
       "            1972   71.930\n",
       "            1977   73.490\n",
       "            1982   74.740\n",
       "            1987   76.320\n",
       "            1992   77.560\n",
       "            1997   78.830\n",
       "            2002   80.370\n",
       "            2007   81.235\n",
       "New Zealand 1952   69.390\n",
       "            1957   70.260\n",
       "            1962   71.240\n",
       "            1967   71.520\n",
       "            1972   71.890\n",
       "            1977   72.220\n",
       "            1982   73.840\n",
       "            1987   74.320\n",
       "            1992   76.330\n",
       "            1997   77.550\n",
       "            2002   79.110\n",
       "            2007   80.204"
      ]
     },
     "execution_count": 11,
     "metadata": {},
     "output_type": "execute_result"
    }
   ],
   "source": [
    "oceania_df = oceania_df.set_index(['country', 'year'])\n",
    "oceania_df"
   ]
  },
  {
   "cell_type": "code",
   "execution_count": 12,
   "metadata": {
    "id": "2IsWepDQygzT"
   },
   "outputs": [
    {
     "data": {
      "text/html": [
       "<div>\n",
       "<style scoped>\n",
       "    .dataframe tbody tr th:only-of-type {\n",
       "        vertical-align: middle;\n",
       "    }\n",
       "\n",
       "    .dataframe tbody tr th {\n",
       "        vertical-align: top;\n",
       "    }\n",
       "\n",
       "    .dataframe thead th {\n",
       "        text-align: right;\n",
       "    }\n",
       "</style>\n",
       "<table border=\"1\" class=\"dataframe\">\n",
       "  <thead>\n",
       "    <tr style=\"text-align: right;\">\n",
       "      <th></th>\n",
       "      <th>lifeExp</th>\n",
       "    </tr>\n",
       "    <tr>\n",
       "      <th>year</th>\n",
       "      <th></th>\n",
       "    </tr>\n",
       "  </thead>\n",
       "  <tbody>\n",
       "    <tr>\n",
       "      <th>1952</th>\n",
       "      <td>69.120</td>\n",
       "    </tr>\n",
       "    <tr>\n",
       "      <th>1957</th>\n",
       "      <td>70.330</td>\n",
       "    </tr>\n",
       "    <tr>\n",
       "      <th>1962</th>\n",
       "      <td>70.930</td>\n",
       "    </tr>\n",
       "    <tr>\n",
       "      <th>1967</th>\n",
       "      <td>71.100</td>\n",
       "    </tr>\n",
       "    <tr>\n",
       "      <th>1972</th>\n",
       "      <td>71.930</td>\n",
       "    </tr>\n",
       "    <tr>\n",
       "      <th>1977</th>\n",
       "      <td>73.490</td>\n",
       "    </tr>\n",
       "    <tr>\n",
       "      <th>1982</th>\n",
       "      <td>74.740</td>\n",
       "    </tr>\n",
       "    <tr>\n",
       "      <th>1987</th>\n",
       "      <td>76.320</td>\n",
       "    </tr>\n",
       "    <tr>\n",
       "      <th>1992</th>\n",
       "      <td>77.560</td>\n",
       "    </tr>\n",
       "    <tr>\n",
       "      <th>1997</th>\n",
       "      <td>78.830</td>\n",
       "    </tr>\n",
       "    <tr>\n",
       "      <th>2002</th>\n",
       "      <td>80.370</td>\n",
       "    </tr>\n",
       "    <tr>\n",
       "      <th>2007</th>\n",
       "      <td>81.235</td>\n",
       "    </tr>\n",
       "  </tbody>\n",
       "</table>\n",
       "</div>"
      ],
      "text/plain": [
       "      lifeExp\n",
       "year         \n",
       "1952   69.120\n",
       "1957   70.330\n",
       "1962   70.930\n",
       "1967   71.100\n",
       "1972   71.930\n",
       "1977   73.490\n",
       "1982   74.740\n",
       "1987   76.320\n",
       "1992   77.560\n",
       "1997   78.830\n",
       "2002   80.370\n",
       "2007   81.235"
      ]
     },
     "execution_count": 12,
     "metadata": {},
     "output_type": "execute_result"
    }
   ],
   "source": [
    "oceania_df.loc['Australia']"
   ]
  },
  {
   "cell_type": "code",
   "execution_count": 13,
   "metadata": {
    "id": "xe2jsd7iygzT"
   },
   "outputs": [
    {
     "data": {
      "text/plain": [
       "lifeExp    81.235\n",
       "Name: (Australia, 2007), dtype: float64"
      ]
     },
     "execution_count": 13,
     "metadata": {},
     "output_type": "execute_result"
    }
   ],
   "source": [
    "oceania_df.loc[('Australia', 2007)]"
   ]
  },
  {
   "cell_type": "markdown",
   "metadata": {
    "id": "k2rQy8nkygzT"
   },
   "source": [
    "**checkpoint**:\n",
    "\n",
    "In a similar fashion, obtain a subset for 2007 observations and use both `continent` and `country` as row index. Try a few `.loc` expressions using pairs of continent and country labels, as well as partial matching on a single `continent`."
   ]
  },
  {
   "cell_type": "code",
   "execution_count": 14,
   "metadata": {
    "id": "j51HHDqrJDbn"
   },
   "outputs": [],
   "source": [
    "year_df = gm_df.query(\"year==2007\").set_index(['continent', 'country'])"
   ]
  },
  {
   "cell_type": "code",
   "execution_count": 15,
   "metadata": {
    "id": "WT3wNvS3JMK3"
   },
   "outputs": [
    {
     "data": {
      "text/html": [
       "<div>\n",
       "<style scoped>\n",
       "    .dataframe tbody tr th:only-of-type {\n",
       "        vertical-align: middle;\n",
       "    }\n",
       "\n",
       "    .dataframe tbody tr th {\n",
       "        vertical-align: top;\n",
       "    }\n",
       "\n",
       "    .dataframe thead th {\n",
       "        text-align: right;\n",
       "    }\n",
       "</style>\n",
       "<table border=\"1\" class=\"dataframe\">\n",
       "  <thead>\n",
       "    <tr style=\"text-align: right;\">\n",
       "      <th></th>\n",
       "      <th></th>\n",
       "      <th>year</th>\n",
       "      <th>lifeExp</th>\n",
       "      <th>pop</th>\n",
       "      <th>gdpPercap</th>\n",
       "    </tr>\n",
       "    <tr>\n",
       "      <th>continent</th>\n",
       "      <th>country</th>\n",
       "      <th></th>\n",
       "      <th></th>\n",
       "      <th></th>\n",
       "      <th></th>\n",
       "    </tr>\n",
       "  </thead>\n",
       "  <tbody>\n",
       "    <tr>\n",
       "      <th>Asia</th>\n",
       "      <th>Afghanistan</th>\n",
       "      <td>2007</td>\n",
       "      <td>43.828</td>\n",
       "      <td>31889923</td>\n",
       "      <td>974.580338</td>\n",
       "    </tr>\n",
       "    <tr>\n",
       "      <th>Europe</th>\n",
       "      <th>Albania</th>\n",
       "      <td>2007</td>\n",
       "      <td>76.423</td>\n",
       "      <td>3600523</td>\n",
       "      <td>5937.029526</td>\n",
       "    </tr>\n",
       "    <tr>\n",
       "      <th rowspan=\"2\" valign=\"top\">Africa</th>\n",
       "      <th>Algeria</th>\n",
       "      <td>2007</td>\n",
       "      <td>72.301</td>\n",
       "      <td>33333216</td>\n",
       "      <td>6223.367465</td>\n",
       "    </tr>\n",
       "    <tr>\n",
       "      <th>Angola</th>\n",
       "      <td>2007</td>\n",
       "      <td>42.731</td>\n",
       "      <td>12420476</td>\n",
       "      <td>4797.231267</td>\n",
       "    </tr>\n",
       "    <tr>\n",
       "      <th>Americas</th>\n",
       "      <th>Argentina</th>\n",
       "      <td>2007</td>\n",
       "      <td>75.320</td>\n",
       "      <td>40301927</td>\n",
       "      <td>12779.379640</td>\n",
       "    </tr>\n",
       "  </tbody>\n",
       "</table>\n",
       "</div>"
      ],
      "text/plain": [
       "                       year  lifeExp       pop     gdpPercap\n",
       "continent country                                           \n",
       "Asia      Afghanistan  2007   43.828  31889923    974.580338\n",
       "Europe    Albania      2007   76.423   3600523   5937.029526\n",
       "Africa    Algeria      2007   72.301  33333216   6223.367465\n",
       "          Angola       2007   42.731  12420476   4797.231267\n",
       "Americas  Argentina    2007   75.320  40301927  12779.379640"
      ]
     },
     "execution_count": 15,
     "metadata": {},
     "output_type": "execute_result"
    }
   ],
   "source": [
    "year_df.head()"
   ]
  },
  {
   "cell_type": "code",
   "execution_count": 16,
   "metadata": {
    "id": "PbCbzvaVJwhz"
   },
   "outputs": [
    {
     "data": {
      "text/html": [
       "<div>\n",
       "<style scoped>\n",
       "    .dataframe tbody tr th:only-of-type {\n",
       "        vertical-align: middle;\n",
       "    }\n",
       "\n",
       "    .dataframe tbody tr th {\n",
       "        vertical-align: top;\n",
       "    }\n",
       "\n",
       "    .dataframe thead th {\n",
       "        text-align: right;\n",
       "    }\n",
       "</style>\n",
       "<table border=\"1\" class=\"dataframe\">\n",
       "  <thead>\n",
       "    <tr style=\"text-align: right;\">\n",
       "      <th></th>\n",
       "      <th>year</th>\n",
       "      <th>lifeExp</th>\n",
       "      <th>pop</th>\n",
       "      <th>gdpPercap</th>\n",
       "    </tr>\n",
       "    <tr>\n",
       "      <th>country</th>\n",
       "      <th></th>\n",
       "      <th></th>\n",
       "      <th></th>\n",
       "      <th></th>\n",
       "    </tr>\n",
       "  </thead>\n",
       "  <tbody>\n",
       "    <tr>\n",
       "      <th>Australia</th>\n",
       "      <td>2007</td>\n",
       "      <td>81.235</td>\n",
       "      <td>20434176</td>\n",
       "      <td>34435.36744</td>\n",
       "    </tr>\n",
       "    <tr>\n",
       "      <th>New Zealand</th>\n",
       "      <td>2007</td>\n",
       "      <td>80.204</td>\n",
       "      <td>4115771</td>\n",
       "      <td>25185.00911</td>\n",
       "    </tr>\n",
       "  </tbody>\n",
       "</table>\n",
       "</div>"
      ],
      "text/plain": [
       "             year  lifeExp       pop    gdpPercap\n",
       "country                                          \n",
       "Australia    2007   81.235  20434176  34435.36744\n",
       "New Zealand  2007   80.204   4115771  25185.00911"
      ]
     },
     "execution_count": 16,
     "metadata": {},
     "output_type": "execute_result"
    }
   ],
   "source": [
    "year_df.loc['Oceania']"
   ]
  },
  {
   "cell_type": "code",
   "execution_count": 17,
   "metadata": {
    "id": "O0fFsIBmJ1p7"
   },
   "outputs": [
    {
     "data": {
      "text/plain": [
       "year         2.007000e+03\n",
       "lifeExp      8.020400e+01\n",
       "pop          4.115771e+06\n",
       "gdpPercap    2.518501e+04\n",
       "Name: (Oceania, New Zealand), dtype: float64"
      ]
     },
     "execution_count": 17,
     "metadata": {},
     "output_type": "execute_result"
    }
   ],
   "source": [
    "year_df.loc[('Oceania', 'New Zealand')]"
   ]
  },
  {
   "cell_type": "markdown",
   "metadata": {
    "id": "YR-prYRcygzT"
   },
   "source": [
    "### Long and Wide Data Formats"
   ]
  },
  {
   "cell_type": "markdown",
   "metadata": {
    "id": "YT_EC1IjygzT"
   },
   "source": [
    "In short: typically, the columns of the dataset represent properties of the data but, in a number of situations (say, because of the way the data was recorded, or for making comparisons and plotting easier), values are shown are columns."
   ]
  },
  {
   "cell_type": "code",
   "execution_count": 18,
   "metadata": {
    "id": "r8NJzk9SygzT"
   },
   "outputs": [
    {
     "data": {
      "text/html": [
       "<div>\n",
       "<style scoped>\n",
       "    .dataframe tbody tr th:only-of-type {\n",
       "        vertical-align: middle;\n",
       "    }\n",
       "\n",
       "    .dataframe tbody tr th {\n",
       "        vertical-align: top;\n",
       "    }\n",
       "\n",
       "    .dataframe thead th {\n",
       "        text-align: right;\n",
       "    }\n",
       "</style>\n",
       "<table border=\"1\" class=\"dataframe\">\n",
       "  <thead>\n",
       "    <tr style=\"text-align: right;\">\n",
       "      <th></th>\n",
       "      <th></th>\n",
       "      <th>lifeExp</th>\n",
       "    </tr>\n",
       "    <tr>\n",
       "      <th>country</th>\n",
       "      <th>year</th>\n",
       "      <th></th>\n",
       "    </tr>\n",
       "  </thead>\n",
       "  <tbody>\n",
       "    <tr>\n",
       "      <th rowspan=\"5\" valign=\"top\">Australia</th>\n",
       "      <th>1952</th>\n",
       "      <td>69.12</td>\n",
       "    </tr>\n",
       "    <tr>\n",
       "      <th>1957</th>\n",
       "      <td>70.33</td>\n",
       "    </tr>\n",
       "    <tr>\n",
       "      <th>1962</th>\n",
       "      <td>70.93</td>\n",
       "    </tr>\n",
       "    <tr>\n",
       "      <th>1967</th>\n",
       "      <td>71.10</td>\n",
       "    </tr>\n",
       "    <tr>\n",
       "      <th>1972</th>\n",
       "      <td>71.93</td>\n",
       "    </tr>\n",
       "  </tbody>\n",
       "</table>\n",
       "</div>"
      ],
      "text/plain": [
       "                lifeExp\n",
       "country   year         \n",
       "Australia 1952    69.12\n",
       "          1957    70.33\n",
       "          1962    70.93\n",
       "          1967    71.10\n",
       "          1972    71.93"
      ]
     },
     "execution_count": 18,
     "metadata": {},
     "output_type": "execute_result"
    }
   ],
   "source": [
    "oceania_df.head()"
   ]
  },
  {
   "cell_type": "markdown",
   "metadata": {
    "id": "2hrbCqcWygzT"
   },
   "source": [
    "I just want to produce a small dataset with values as column label. `.unstack()` transforms **a set of row labels into a set of columns labels** (the opposite is `.stack()`; further examples on the Python Data Science Handbook)."
   ]
  },
  {
   "cell_type": "code",
   "execution_count": 19,
   "metadata": {
    "id": "w0rOl1qLygzT"
   },
   "outputs": [
    {
     "data": {
      "text/html": [
       "<div>\n",
       "<style scoped>\n",
       "    .dataframe tbody tr th:only-of-type {\n",
       "        vertical-align: middle;\n",
       "    }\n",
       "\n",
       "    .dataframe tbody tr th {\n",
       "        vertical-align: top;\n",
       "    }\n",
       "\n",
       "    .dataframe thead th {\n",
       "        text-align: right;\n",
       "    }\n",
       "</style>\n",
       "<table border=\"1\" class=\"dataframe\">\n",
       "  <thead>\n",
       "    <tr style=\"text-align: right;\">\n",
       "      <th>year</th>\n",
       "      <th>1952</th>\n",
       "      <th>1957</th>\n",
       "      <th>1962</th>\n",
       "      <th>1967</th>\n",
       "      <th>1972</th>\n",
       "      <th>1977</th>\n",
       "      <th>1982</th>\n",
       "      <th>1987</th>\n",
       "      <th>1992</th>\n",
       "      <th>1997</th>\n",
       "      <th>2002</th>\n",
       "      <th>2007</th>\n",
       "    </tr>\n",
       "    <tr>\n",
       "      <th>country</th>\n",
       "      <th></th>\n",
       "      <th></th>\n",
       "      <th></th>\n",
       "      <th></th>\n",
       "      <th></th>\n",
       "      <th></th>\n",
       "      <th></th>\n",
       "      <th></th>\n",
       "      <th></th>\n",
       "      <th></th>\n",
       "      <th></th>\n",
       "      <th></th>\n",
       "    </tr>\n",
       "  </thead>\n",
       "  <tbody>\n",
       "    <tr>\n",
       "      <th>Australia</th>\n",
       "      <td>69.12</td>\n",
       "      <td>70.33</td>\n",
       "      <td>70.93</td>\n",
       "      <td>71.10</td>\n",
       "      <td>71.93</td>\n",
       "      <td>73.49</td>\n",
       "      <td>74.74</td>\n",
       "      <td>76.32</td>\n",
       "      <td>77.56</td>\n",
       "      <td>78.83</td>\n",
       "      <td>80.37</td>\n",
       "      <td>81.235</td>\n",
       "    </tr>\n",
       "    <tr>\n",
       "      <th>New Zealand</th>\n",
       "      <td>69.39</td>\n",
       "      <td>70.26</td>\n",
       "      <td>71.24</td>\n",
       "      <td>71.52</td>\n",
       "      <td>71.89</td>\n",
       "      <td>72.22</td>\n",
       "      <td>73.84</td>\n",
       "      <td>74.32</td>\n",
       "      <td>76.33</td>\n",
       "      <td>77.55</td>\n",
       "      <td>79.11</td>\n",
       "      <td>80.204</td>\n",
       "    </tr>\n",
       "  </tbody>\n",
       "</table>\n",
       "</div>"
      ],
      "text/plain": [
       "year          1952   1957   1962   1967   1972   1977   1982   1987   1992  \\\n",
       "country                                                                      \n",
       "Australia    69.12  70.33  70.93  71.10  71.93  73.49  74.74  76.32  77.56   \n",
       "New Zealand  69.39  70.26  71.24  71.52  71.89  72.22  73.84  74.32  76.33   \n",
       "\n",
       "year          1997   2002    2007  \n",
       "country                            \n",
       "Australia    78.83  80.37  81.235  \n",
       "New Zealand  77.55  79.11  80.204  "
      ]
     },
     "execution_count": 19,
     "metadata": {},
     "output_type": "execute_result"
    }
   ],
   "source": [
    "oceania_wide_df = oceania_df.unstack('year')['lifeExp']\n",
    "oceania_wide_df"
   ]
  },
  {
   "cell_type": "code",
   "execution_count": 20,
   "metadata": {
    "id": "LDWOd4crygzT"
   },
   "outputs": [
    {
     "data": {
      "text/plain": [
       "Index(['Australia', 'New Zealand'], dtype='object', name='country')"
      ]
     },
     "execution_count": 20,
     "metadata": {},
     "output_type": "execute_result"
    }
   ],
   "source": [
    "oceania_wide_df.index"
   ]
  },
  {
   "cell_type": "code",
   "execution_count": 21,
   "metadata": {
    "id": "sR0lK-znygzT"
   },
   "outputs": [
    {
     "data": {
      "text/plain": [
       "Int64Index([1952, 1957, 1962, 1967, 1972, 1977, 1982, 1987, 1992, 1997, 2002,\n",
       "            2007],\n",
       "           dtype='int64', name='year')"
      ]
     },
     "execution_count": 21,
     "metadata": {},
     "output_type": "execute_result"
    }
   ],
   "source": [
    "oceania_wide_df.columns"
   ]
  },
  {
   "cell_type": "markdown",
   "metadata": {
    "id": "40yyzRVCLmTf"
   },
   "source": [
    "The following takes the `.mean()` across rows - a mean life expectancy value for each year (the columns)."
   ]
  },
  {
   "cell_type": "code",
   "execution_count": 22,
   "metadata": {
    "id": "N_P5wesGygzT"
   },
   "outputs": [
    {
     "data": {
      "text/plain": [
       "year\n",
       "1952    69.2550\n",
       "1957    70.2950\n",
       "1962    71.0850\n",
       "1967    71.3100\n",
       "1972    71.9100\n",
       "1977    72.8550\n",
       "1982    74.2900\n",
       "1987    75.3200\n",
       "1992    76.9450\n",
       "1997    78.1900\n",
       "2002    79.7400\n",
       "2007    80.7195\n",
       "dtype: float64"
      ]
     },
     "execution_count": 22,
     "metadata": {},
     "output_type": "execute_result"
    }
   ],
   "source": [
    "oceania_wide_df.mean()"
   ]
  },
  {
   "cell_type": "markdown",
   "metadata": {
    "id": "trLLPjeVygzT"
   },
   "source": [
    "Recapping:\n",
    "\n",
    "* `.set_index()` converts a column into a row index, and vice-versa. The values of a column are mapped into row labels. Its reverse is  `reset_index()`.\n",
    "\n",
    "* `.unstack()` converts a row index into a set of columns. `.stack()` is its reverse."
   ]
  },
  {
   "cell_type": "markdown",
   "metadata": {
    "id": "84J9__0uygzT"
   },
   "source": [
    "Usefully, one can swaps rows with columns via a **transpose** operation:"
   ]
  },
  {
   "cell_type": "code",
   "execution_count": 23,
   "metadata": {
    "id": "8XZXiNzlygzT"
   },
   "outputs": [
    {
     "data": {
      "text/html": [
       "<div>\n",
       "<style scoped>\n",
       "    .dataframe tbody tr th:only-of-type {\n",
       "        vertical-align: middle;\n",
       "    }\n",
       "\n",
       "    .dataframe tbody tr th {\n",
       "        vertical-align: top;\n",
       "    }\n",
       "\n",
       "    .dataframe thead th {\n",
       "        text-align: right;\n",
       "    }\n",
       "</style>\n",
       "<table border=\"1\" class=\"dataframe\">\n",
       "  <thead>\n",
       "    <tr style=\"text-align: right;\">\n",
       "      <th>year</th>\n",
       "      <th>1952</th>\n",
       "      <th>1957</th>\n",
       "      <th>1962</th>\n",
       "      <th>1967</th>\n",
       "      <th>1972</th>\n",
       "      <th>1977</th>\n",
       "      <th>1982</th>\n",
       "      <th>1987</th>\n",
       "      <th>1992</th>\n",
       "      <th>1997</th>\n",
       "      <th>2002</th>\n",
       "      <th>2007</th>\n",
       "    </tr>\n",
       "    <tr>\n",
       "      <th>country</th>\n",
       "      <th></th>\n",
       "      <th></th>\n",
       "      <th></th>\n",
       "      <th></th>\n",
       "      <th></th>\n",
       "      <th></th>\n",
       "      <th></th>\n",
       "      <th></th>\n",
       "      <th></th>\n",
       "      <th></th>\n",
       "      <th></th>\n",
       "      <th></th>\n",
       "    </tr>\n",
       "  </thead>\n",
       "  <tbody>\n",
       "    <tr>\n",
       "      <th>Australia</th>\n",
       "      <td>69.12</td>\n",
       "      <td>70.33</td>\n",
       "      <td>70.93</td>\n",
       "      <td>71.10</td>\n",
       "      <td>71.93</td>\n",
       "      <td>73.49</td>\n",
       "      <td>74.74</td>\n",
       "      <td>76.32</td>\n",
       "      <td>77.56</td>\n",
       "      <td>78.83</td>\n",
       "      <td>80.37</td>\n",
       "      <td>81.235</td>\n",
       "    </tr>\n",
       "    <tr>\n",
       "      <th>New Zealand</th>\n",
       "      <td>69.39</td>\n",
       "      <td>70.26</td>\n",
       "      <td>71.24</td>\n",
       "      <td>71.52</td>\n",
       "      <td>71.89</td>\n",
       "      <td>72.22</td>\n",
       "      <td>73.84</td>\n",
       "      <td>74.32</td>\n",
       "      <td>76.33</td>\n",
       "      <td>77.55</td>\n",
       "      <td>79.11</td>\n",
       "      <td>80.204</td>\n",
       "    </tr>\n",
       "  </tbody>\n",
       "</table>\n",
       "</div>"
      ],
      "text/plain": [
       "year          1952   1957   1962   1967   1972   1977   1982   1987   1992  \\\n",
       "country                                                                      \n",
       "Australia    69.12  70.33  70.93  71.10  71.93  73.49  74.74  76.32  77.56   \n",
       "New Zealand  69.39  70.26  71.24  71.52  71.89  72.22  73.84  74.32  76.33   \n",
       "\n",
       "year          1997   2002    2007  \n",
       "country                            \n",
       "Australia    78.83  80.37  81.235  \n",
       "New Zealand  77.55  79.11  80.204  "
      ]
     },
     "execution_count": 23,
     "metadata": {},
     "output_type": "execute_result"
    }
   ],
   "source": [
    "oceania_wide_df"
   ]
  },
  {
   "cell_type": "code",
   "execution_count": 24,
   "metadata": {
    "id": "y7W7btHDygzT"
   },
   "outputs": [
    {
     "data": {
      "text/html": [
       "<div>\n",
       "<style scoped>\n",
       "    .dataframe tbody tr th:only-of-type {\n",
       "        vertical-align: middle;\n",
       "    }\n",
       "\n",
       "    .dataframe tbody tr th {\n",
       "        vertical-align: top;\n",
       "    }\n",
       "\n",
       "    .dataframe thead th {\n",
       "        text-align: right;\n",
       "    }\n",
       "</style>\n",
       "<table border=\"1\" class=\"dataframe\">\n",
       "  <thead>\n",
       "    <tr style=\"text-align: right;\">\n",
       "      <th>country</th>\n",
       "      <th>Australia</th>\n",
       "      <th>New Zealand</th>\n",
       "    </tr>\n",
       "    <tr>\n",
       "      <th>year</th>\n",
       "      <th></th>\n",
       "      <th></th>\n",
       "    </tr>\n",
       "  </thead>\n",
       "  <tbody>\n",
       "    <tr>\n",
       "      <th>1952</th>\n",
       "      <td>69.120</td>\n",
       "      <td>69.390</td>\n",
       "    </tr>\n",
       "    <tr>\n",
       "      <th>1957</th>\n",
       "      <td>70.330</td>\n",
       "      <td>70.260</td>\n",
       "    </tr>\n",
       "    <tr>\n",
       "      <th>1962</th>\n",
       "      <td>70.930</td>\n",
       "      <td>71.240</td>\n",
       "    </tr>\n",
       "    <tr>\n",
       "      <th>1967</th>\n",
       "      <td>71.100</td>\n",
       "      <td>71.520</td>\n",
       "    </tr>\n",
       "    <tr>\n",
       "      <th>1972</th>\n",
       "      <td>71.930</td>\n",
       "      <td>71.890</td>\n",
       "    </tr>\n",
       "    <tr>\n",
       "      <th>1977</th>\n",
       "      <td>73.490</td>\n",
       "      <td>72.220</td>\n",
       "    </tr>\n",
       "    <tr>\n",
       "      <th>1982</th>\n",
       "      <td>74.740</td>\n",
       "      <td>73.840</td>\n",
       "    </tr>\n",
       "    <tr>\n",
       "      <th>1987</th>\n",
       "      <td>76.320</td>\n",
       "      <td>74.320</td>\n",
       "    </tr>\n",
       "    <tr>\n",
       "      <th>1992</th>\n",
       "      <td>77.560</td>\n",
       "      <td>76.330</td>\n",
       "    </tr>\n",
       "    <tr>\n",
       "      <th>1997</th>\n",
       "      <td>78.830</td>\n",
       "      <td>77.550</td>\n",
       "    </tr>\n",
       "    <tr>\n",
       "      <th>2002</th>\n",
       "      <td>80.370</td>\n",
       "      <td>79.110</td>\n",
       "    </tr>\n",
       "    <tr>\n",
       "      <th>2007</th>\n",
       "      <td>81.235</td>\n",
       "      <td>80.204</td>\n",
       "    </tr>\n",
       "  </tbody>\n",
       "</table>\n",
       "</div>"
      ],
      "text/plain": [
       "country  Australia  New Zealand\n",
       "year                           \n",
       "1952        69.120       69.390\n",
       "1957        70.330       70.260\n",
       "1962        70.930       71.240\n",
       "1967        71.100       71.520\n",
       "1972        71.930       71.890\n",
       "1977        73.490       72.220\n",
       "1982        74.740       73.840\n",
       "1987        76.320       74.320\n",
       "1992        77.560       76.330\n",
       "1997        78.830       77.550\n",
       "2002        80.370       79.110\n",
       "2007        81.235       80.204"
      ]
     },
     "execution_count": 24,
     "metadata": {},
     "output_type": "execute_result"
    }
   ],
   "source": [
    "oceania_wide_df.T"
   ]
  },
  {
   "cell_type": "code",
   "execution_count": 25,
   "metadata": {
    "id": "RsI0Wrz6ygzT"
   },
   "outputs": [
    {
     "data": {
      "text/plain": [
       "Int64Index([1952, 1957, 1962, 1967, 1972, 1977, 1982, 1987, 1992, 1997, 2002,\n",
       "            2007],\n",
       "           dtype='int64', name='year')"
      ]
     },
     "execution_count": 25,
     "metadata": {},
     "output_type": "execute_result"
    }
   ],
   "source": [
    "oceania_wide_df.T.index"
   ]
  },
  {
   "cell_type": "code",
   "execution_count": 26,
   "metadata": {
    "id": "yACpqYNOygzT"
   },
   "outputs": [
    {
     "data": {
      "text/plain": [
       "Index(['Australia', 'New Zealand'], dtype='object', name='country')"
      ]
     },
     "execution_count": 26,
     "metadata": {},
     "output_type": "execute_result"
    }
   ],
   "source": [
    "oceania_wide_df.T.columns"
   ]
  },
  {
   "cell_type": "code",
   "execution_count": null,
   "metadata": {
    "id": "UCjodc9GNK40"
   },
   "outputs": [],
   "source": []
  },
  {
   "cell_type": "markdown",
   "metadata": {
    "id": "wgwk-ykDl0sO"
   },
   "source": [
    "## Computations Across Columns and Rows"
   ]
  },
  {
   "cell_type": "markdown",
   "metadata": {
    "id": "XURVodqFl0sO"
   },
   "source": [
    "Let us focus on that `oceania_wide_df` from the previous section: it concerns a subset of the GapMinder data for the countries in `Oceania`, reshaped so as each year is a different column of the DataFrame."
   ]
  },
  {
   "cell_type": "code",
   "execution_count": 27,
   "metadata": {
    "id": "ePwne-cvl0sO"
   },
   "outputs": [
    {
     "data": {
      "text/html": [
       "<div>\n",
       "<style scoped>\n",
       "    .dataframe tbody tr th:only-of-type {\n",
       "        vertical-align: middle;\n",
       "    }\n",
       "\n",
       "    .dataframe tbody tr th {\n",
       "        vertical-align: top;\n",
       "    }\n",
       "\n",
       "    .dataframe thead th {\n",
       "        text-align: right;\n",
       "    }\n",
       "</style>\n",
       "<table border=\"1\" class=\"dataframe\">\n",
       "  <thead>\n",
       "    <tr style=\"text-align: right;\">\n",
       "      <th></th>\n",
       "      <th></th>\n",
       "      <th>lifeExp</th>\n",
       "    </tr>\n",
       "    <tr>\n",
       "      <th>country</th>\n",
       "      <th>year</th>\n",
       "      <th></th>\n",
       "    </tr>\n",
       "  </thead>\n",
       "  <tbody>\n",
       "    <tr>\n",
       "      <th rowspan=\"12\" valign=\"top\">Australia</th>\n",
       "      <th>1952</th>\n",
       "      <td>69.120</td>\n",
       "    </tr>\n",
       "    <tr>\n",
       "      <th>1957</th>\n",
       "      <td>70.330</td>\n",
       "    </tr>\n",
       "    <tr>\n",
       "      <th>1962</th>\n",
       "      <td>70.930</td>\n",
       "    </tr>\n",
       "    <tr>\n",
       "      <th>1967</th>\n",
       "      <td>71.100</td>\n",
       "    </tr>\n",
       "    <tr>\n",
       "      <th>1972</th>\n",
       "      <td>71.930</td>\n",
       "    </tr>\n",
       "    <tr>\n",
       "      <th>1977</th>\n",
       "      <td>73.490</td>\n",
       "    </tr>\n",
       "    <tr>\n",
       "      <th>1982</th>\n",
       "      <td>74.740</td>\n",
       "    </tr>\n",
       "    <tr>\n",
       "      <th>1987</th>\n",
       "      <td>76.320</td>\n",
       "    </tr>\n",
       "    <tr>\n",
       "      <th>1992</th>\n",
       "      <td>77.560</td>\n",
       "    </tr>\n",
       "    <tr>\n",
       "      <th>1997</th>\n",
       "      <td>78.830</td>\n",
       "    </tr>\n",
       "    <tr>\n",
       "      <th>2002</th>\n",
       "      <td>80.370</td>\n",
       "    </tr>\n",
       "    <tr>\n",
       "      <th>2007</th>\n",
       "      <td>81.235</td>\n",
       "    </tr>\n",
       "    <tr>\n",
       "      <th rowspan=\"12\" valign=\"top\">New Zealand</th>\n",
       "      <th>1952</th>\n",
       "      <td>69.390</td>\n",
       "    </tr>\n",
       "    <tr>\n",
       "      <th>1957</th>\n",
       "      <td>70.260</td>\n",
       "    </tr>\n",
       "    <tr>\n",
       "      <th>1962</th>\n",
       "      <td>71.240</td>\n",
       "    </tr>\n",
       "    <tr>\n",
       "      <th>1967</th>\n",
       "      <td>71.520</td>\n",
       "    </tr>\n",
       "    <tr>\n",
       "      <th>1972</th>\n",
       "      <td>71.890</td>\n",
       "    </tr>\n",
       "    <tr>\n",
       "      <th>1977</th>\n",
       "      <td>72.220</td>\n",
       "    </tr>\n",
       "    <tr>\n",
       "      <th>1982</th>\n",
       "      <td>73.840</td>\n",
       "    </tr>\n",
       "    <tr>\n",
       "      <th>1987</th>\n",
       "      <td>74.320</td>\n",
       "    </tr>\n",
       "    <tr>\n",
       "      <th>1992</th>\n",
       "      <td>76.330</td>\n",
       "    </tr>\n",
       "    <tr>\n",
       "      <th>1997</th>\n",
       "      <td>77.550</td>\n",
       "    </tr>\n",
       "    <tr>\n",
       "      <th>2002</th>\n",
       "      <td>79.110</td>\n",
       "    </tr>\n",
       "    <tr>\n",
       "      <th>2007</th>\n",
       "      <td>80.204</td>\n",
       "    </tr>\n",
       "  </tbody>\n",
       "</table>\n",
       "</div>"
      ],
      "text/plain": [
       "                  lifeExp\n",
       "country     year         \n",
       "Australia   1952   69.120\n",
       "            1957   70.330\n",
       "            1962   70.930\n",
       "            1967   71.100\n",
       "            1972   71.930\n",
       "            1977   73.490\n",
       "            1982   74.740\n",
       "            1987   76.320\n",
       "            1992   77.560\n",
       "            1997   78.830\n",
       "            2002   80.370\n",
       "            2007   81.235\n",
       "New Zealand 1952   69.390\n",
       "            1957   70.260\n",
       "            1962   71.240\n",
       "            1967   71.520\n",
       "            1972   71.890\n",
       "            1977   72.220\n",
       "            1982   73.840\n",
       "            1987   74.320\n",
       "            1992   76.330\n",
       "            1997   77.550\n",
       "            2002   79.110\n",
       "            2007   80.204"
      ]
     },
     "execution_count": 27,
     "metadata": {},
     "output_type": "execute_result"
    }
   ],
   "source": [
    "oceania_df = gm_df.loc[ gm_df['continent']=='Oceania' ]\n",
    "oceania_df = oceania_df.drop(\n",
    "    columns=['continent', 'gdpPercap', 'pop']\n",
    ")\n",
    "oceania_df = oceania_df.set_index(['country', 'year'])\n",
    "oceania_df"
   ]
  },
  {
   "cell_type": "code",
   "execution_count": 28,
   "metadata": {
    "id": "NNujFXFU9IZ9"
   },
   "outputs": [
    {
     "data": {
      "text/html": [
       "<div>\n",
       "<style scoped>\n",
       "    .dataframe tbody tr th:only-of-type {\n",
       "        vertical-align: middle;\n",
       "    }\n",
       "\n",
       "    .dataframe tbody tr th {\n",
       "        vertical-align: top;\n",
       "    }\n",
       "\n",
       "    .dataframe thead th {\n",
       "        text-align: right;\n",
       "    }\n",
       "</style>\n",
       "<table border=\"1\" class=\"dataframe\">\n",
       "  <thead>\n",
       "    <tr style=\"text-align: right;\">\n",
       "      <th>year</th>\n",
       "      <th>1952</th>\n",
       "      <th>1957</th>\n",
       "      <th>1962</th>\n",
       "      <th>1967</th>\n",
       "      <th>1972</th>\n",
       "      <th>1977</th>\n",
       "      <th>1982</th>\n",
       "      <th>1987</th>\n",
       "      <th>1992</th>\n",
       "      <th>1997</th>\n",
       "      <th>2002</th>\n",
       "      <th>2007</th>\n",
       "    </tr>\n",
       "    <tr>\n",
       "      <th>country</th>\n",
       "      <th></th>\n",
       "      <th></th>\n",
       "      <th></th>\n",
       "      <th></th>\n",
       "      <th></th>\n",
       "      <th></th>\n",
       "      <th></th>\n",
       "      <th></th>\n",
       "      <th></th>\n",
       "      <th></th>\n",
       "      <th></th>\n",
       "      <th></th>\n",
       "    </tr>\n",
       "  </thead>\n",
       "  <tbody>\n",
       "    <tr>\n",
       "      <th>Australia</th>\n",
       "      <td>69.12</td>\n",
       "      <td>70.33</td>\n",
       "      <td>70.93</td>\n",
       "      <td>71.10</td>\n",
       "      <td>71.93</td>\n",
       "      <td>73.49</td>\n",
       "      <td>74.74</td>\n",
       "      <td>76.32</td>\n",
       "      <td>77.56</td>\n",
       "      <td>78.83</td>\n",
       "      <td>80.37</td>\n",
       "      <td>81.235</td>\n",
       "    </tr>\n",
       "    <tr>\n",
       "      <th>New Zealand</th>\n",
       "      <td>69.39</td>\n",
       "      <td>70.26</td>\n",
       "      <td>71.24</td>\n",
       "      <td>71.52</td>\n",
       "      <td>71.89</td>\n",
       "      <td>72.22</td>\n",
       "      <td>73.84</td>\n",
       "      <td>74.32</td>\n",
       "      <td>76.33</td>\n",
       "      <td>77.55</td>\n",
       "      <td>79.11</td>\n",
       "      <td>80.204</td>\n",
       "    </tr>\n",
       "  </tbody>\n",
       "</table>\n",
       "</div>"
      ],
      "text/plain": [
       "year          1952   1957   1962   1967   1972   1977   1982   1987   1992  \\\n",
       "country                                                                      \n",
       "Australia    69.12  70.33  70.93  71.10  71.93  73.49  74.74  76.32  77.56   \n",
       "New Zealand  69.39  70.26  71.24  71.52  71.89  72.22  73.84  74.32  76.33   \n",
       "\n",
       "year          1997   2002    2007  \n",
       "country                            \n",
       "Australia    78.83  80.37  81.235  \n",
       "New Zealand  77.55  79.11  80.204  "
      ]
     },
     "execution_count": 28,
     "metadata": {},
     "output_type": "execute_result"
    }
   ],
   "source": [
    "oceania_wide_df = oceania_df.unstack('year')['lifeExp']\n",
    "oceania_wide_df"
   ]
  },
  {
   "cell_type": "markdown",
   "metadata": {
    "id": "2rYJ2SZql0sO"
   },
   "source": [
    "**Aggregation functions** that we have applied on single columns before work on **subsets of DataFrames** too. We can specify whether they should work across columns or rows."
   ]
  },
  {
   "cell_type": "code",
   "execution_count": 29,
   "metadata": {
    "id": "WxVLh8EHl0sP"
   },
   "outputs": [
    {
     "data": {
      "text/plain": [
       "country\n",
       "Australia      74.662917\n",
       "New Zealand    73.989500\n",
       "dtype: float64"
      ]
     },
     "execution_count": 29,
     "metadata": {},
     "output_type": "execute_result"
    }
   ],
   "source": [
    "oceania_wide_df.mean(axis='columns')"
   ]
  },
  {
   "cell_type": "code",
   "execution_count": 30,
   "metadata": {
    "id": "JvlWikiUl0sP"
   },
   "outputs": [
    {
     "data": {
      "text/plain": [
       "year\n",
       "1952    69.2550\n",
       "1957    70.2950\n",
       "1962    71.0850\n",
       "1967    71.3100\n",
       "1972    71.9100\n",
       "1977    72.8550\n",
       "1982    74.2900\n",
       "1987    75.3200\n",
       "1992    76.9450\n",
       "1997    78.1900\n",
       "2002    79.7400\n",
       "2007    80.7195\n",
       "dtype: float64"
      ]
     },
     "execution_count": 30,
     "metadata": {},
     "output_type": "execute_result"
    }
   ],
   "source": [
    "oceania_wide_df.mean(axis='rows')"
   ]
  },
  {
   "cell_type": "code",
   "execution_count": 31,
   "metadata": {
    "id": "X2Oc0uDrl0sP"
   },
   "outputs": [
    {
     "data": {
      "text/plain": [
       "country\n",
       "Australia      81.235\n",
       "New Zealand    80.204\n",
       "dtype: float64"
      ]
     },
     "execution_count": 31,
     "metadata": {},
     "output_type": "execute_result"
    }
   ],
   "source": [
    "oceania_wide_df.max(axis='columns')"
   ]
  },
  {
   "cell_type": "code",
   "execution_count": 32,
   "metadata": {
    "id": "sImDf0Xrl0sP"
   },
   "outputs": [
    {
     "data": {
      "text/plain": [
       "year\n",
       "1952    69.390\n",
       "1957    70.330\n",
       "1962    71.240\n",
       "1967    71.520\n",
       "1972    71.930\n",
       "1977    73.490\n",
       "1982    74.740\n",
       "1987    76.320\n",
       "1992    77.560\n",
       "1997    78.830\n",
       "2002    80.370\n",
       "2007    81.235\n",
       "dtype: float64"
      ]
     },
     "execution_count": 32,
     "metadata": {},
     "output_type": "execute_result"
    }
   ],
   "source": [
    "oceania_wide_df.max()"
   ]
  },
  {
   "cell_type": "code",
   "execution_count": 33,
   "metadata": {
    "id": "Opk4I4Ac-ioA"
   },
   "outputs": [
    {
     "data": {
      "text/plain": [
       "year\n",
       "1952    0.190919\n",
       "1957    0.049497\n",
       "1962    0.219203\n",
       "1967    0.296985\n",
       "1972    0.028284\n",
       "1977    0.898026\n",
       "1982    0.636396\n",
       "1987    1.414214\n",
       "1992    0.869741\n",
       "1997    0.905097\n",
       "2002    0.890955\n",
       "2007    0.729027\n",
       "dtype: float64"
      ]
     },
     "execution_count": 33,
     "metadata": {},
     "output_type": "execute_result"
    }
   ],
   "source": [
    "oceania_wide_df.std()"
   ]
  },
  {
   "cell_type": "code",
   "execution_count": 34,
   "metadata": {
    "id": "JoG5qJ5S_m9Z"
   },
   "outputs": [
    {
     "data": {
      "text/plain": [
       "country\n",
       "Australia      4.147774\n",
       "New Zealand    3.559724\n",
       "dtype: float64"
      ]
     },
     "execution_count": 34,
     "metadata": {},
     "output_type": "execute_result"
    }
   ],
   "source": [
    "oceania_wide_df.std(axis='columns')"
   ]
  },
  {
   "cell_type": "code",
   "execution_count": 35,
   "metadata": {
    "id": "lk9A2ku1A8vk"
   },
   "outputs": [
    {
     "data": {
      "text/plain": [
       "country\n",
       "Australia      74.115\n",
       "New Zealand    73.030\n",
       "dtype: float64"
      ]
     },
     "execution_count": 35,
     "metadata": {},
     "output_type": "execute_result"
    }
   ],
   "source": [
    "oceania_wide_df.median(axis='columns')"
   ]
  },
  {
   "cell_type": "code",
   "execution_count": 36,
   "metadata": {
    "id": "KsZsAC6eBgZp"
   },
   "outputs": [
    {
     "data": {
      "text/plain": [
       "country\n",
       "Australia      74.115\n",
       "New Zealand    73.030\n",
       "Name: 0.5, dtype: float64"
      ]
     },
     "execution_count": 36,
     "metadata": {},
     "output_type": "execute_result"
    }
   ],
   "source": [
    "oceania_wide_df.quantile(0.5, axis='columns')"
   ]
  },
  {
   "cell_type": "code",
   "execution_count": 37,
   "metadata": {
    "id": "lwKWYhcEBvI4"
   },
   "outputs": [
    {
     "data": {
      "text/plain": [
       "country\n",
       "Australia      71.0575\n",
       "New Zealand    71.4500\n",
       "Name: 0.25, dtype: float64"
      ]
     },
     "execution_count": 37,
     "metadata": {},
     "output_type": "execute_result"
    }
   ],
   "source": [
    "oceania_wide_df.quantile(0.25, axis='columns')"
   ]
  },
  {
   "cell_type": "code",
   "execution_count": 38,
   "metadata": {
    "id": "E9jes6G7CH-j"
   },
   "outputs": [
    {
     "data": {
      "text/plain": [
       "country\n",
       "Australia      77.8775\n",
       "New Zealand    76.6350\n",
       "Name: 0.75, dtype: float64"
      ]
     },
     "execution_count": 38,
     "metadata": {},
     "output_type": "execute_result"
    }
   ],
   "source": [
    "oceania_wide_df.quantile(0.75, axis='columns')"
   ]
  },
  {
   "cell_type": "markdown",
   "metadata": {
    "id": "6z3jrRwUCOdk"
   },
   "source": [
    "I wanted the IQR - third quartile - first quartile"
   ]
  },
  {
   "cell_type": "code",
   "execution_count": 39,
   "metadata": {
    "id": "AfDfpFLhCXSE"
   },
   "outputs": [
    {
     "data": {
      "text/plain": [
       "country\n",
       "Australia      6.820\n",
       "New Zealand    5.185\n",
       "dtype: float64"
      ]
     },
     "execution_count": 39,
     "metadata": {},
     "output_type": "execute_result"
    }
   ],
   "source": [
    "(oceania_wide_df.quantile(0.75, axis='columns') - \n",
    "oceania_wide_df.quantile(0.25, axis='columns'))"
   ]
  },
  {
   "cell_type": "code",
   "execution_count": 40,
   "metadata": {
    "id": "wUJ5grQkDQMj"
   },
   "outputs": [
    {
     "data": {
      "image/png": "[encoded data removed]",
      "text/plain": [
       "<Figure size 792x504 with 1 Axes>"
      ]
     },
     "metadata": {
      "image/png": {
       "height": 429,
       "width": 628
      }
     },
     "output_type": "display_data"
    }
   ],
   "source": [
    "sns.boxplot(x=oceania_wide_df.loc['Australia']);"
   ]
  },
  {
   "cell_type": "code",
   "execution_count": null,
   "metadata": {
    "id": "UNWbP22uJFhE"
   },
   "outputs": [],
   "source": []
  },
  {
   "cell_type": "markdown",
   "metadata": {
    "id": "H7X0VVJQl9yw"
   },
   "source": [
    "## Feature Engineering and Vectorisation"
   ]
  },
  {
   "cell_type": "markdown",
   "metadata": {
    "id": "rxO04aXal9yw"
   },
   "source": [
    "### Derived Features and Index Aligment"
   ]
  },
  {
   "cell_type": "markdown",
   "metadata": {
    "id": "KPmMaCbPl9yw"
   },
   "source": [
    "For a particular year, we could obtain the total population of the countries listed in `gapminder` (as I am planning to make changes to that slice of the data, I am going to take a __copy__ of it)."
   ]
  },
  {
   "cell_type": "code",
   "execution_count": null,
   "metadata": {
    "id": "a-BoQofNl9yw"
   },
   "outputs": [],
   "source": [
    "gm_2007_df = (gm_df.loc[ gm_df['year']==2007 ]).copy()"
   ]
  },
  {
   "cell_type": "code",
   "execution_count": null,
   "metadata": {
    "id": "Qa08x7_yl9yw"
   },
   "outputs": [],
   "source": [
    "total_pop = gm_2007_df['pop'].sum()\n",
    "total_pop"
   ]
  },
  {
   "cell_type": "markdown",
   "metadata": {
    "id": "z8REieMHl9yw"
   },
   "source": [
    "With __vectorisation__, one can produce a derived feature, involving the column `pop`, to obtain **the percentage** of the **total population** for **each country**:"
   ]
  },
  {
   "cell_type": "code",
   "execution_count": null,
   "metadata": {
    "id": "XbW4ZmMHl9yw"
   },
   "outputs": [],
   "source": [
    "(gm_2007_df['pop'] / total_pop * 100).head()"
   ]
  },
  {
   "cell_type": "markdown",
   "metadata": {
    "id": "MIwhfFhMl9yw"
   },
   "source": [
    "Thanks to __index alignment__, we can add this derived feature to our DataFrame by, for example, **assigning it** to a **non-existing column label** in the DataFrame:"
   ]
  },
  {
   "cell_type": "code",
   "execution_count": null,
   "metadata": {
    "id": "ZnWwXs7vl9yw"
   },
   "outputs": [],
   "source": [
    "gm_2007_df.loc[:, 'pop_perc'] = gm_2007_df['pop'] / total_pop * 100"
   ]
  },
  {
   "cell_type": "code",
   "execution_count": null,
   "metadata": {
    "id": "AUKFRgKIl9yw"
   },
   "outputs": [],
   "source": [
    "gm_2007_df.sort_values('pop_perc').tail()"
   ]
  },
  {
   "cell_type": "code",
   "execution_count": null,
   "metadata": {
    "id": "cW72GrbAMhKz"
   },
   "outputs": [],
   "source": [
    "sns.distplot(gm_2007_df['pop_perc']);"
   ]
  },
  {
   "cell_type": "markdown",
   "metadata": {
    "id": "wgN_acDil9yw"
   },
   "source": [
    "I feel that I would rather see population in millions - again, we can produce a derived feature from a simple arithmetic expression and, this time, assign that to an existing column:"
   ]
  },
  {
   "cell_type": "code",
   "execution_count": null,
   "metadata": {
    "id": "WKDY2Uvml9yx"
   },
   "outputs": [],
   "source": [
    "gm_2007_df['pop'] = gm_2007_df['pop'] / 1000000"
   ]
  },
  {
   "cell_type": "code",
   "execution_count": null,
   "metadata": {
    "id": "UZT40gnMl9yx"
   },
   "outputs": [],
   "source": [
    "gm_2007_df.sort_values('pop_perc').tail()"
   ]
  },
  {
   "cell_type": "markdown",
   "metadata": {
    "id": "ar8XRVmtl9yx"
   },
   "source": [
    "**checkpoint**: Can we reverse-engineer the countries' GDPs?"
   ]
  },
  {
   "cell_type": "code",
   "execution_count": null,
   "metadata": {
    "id": "yTCty_Q-Ohl6"
   },
   "outputs": [],
   "source": [
    "gm_2007_df['pop'] = gm_2007_df['pop'] * 1000000"
   ]
  },
  {
   "cell_type": "code",
   "execution_count": null,
   "metadata": {
    "id": "V3A7gTa5O6zE"
   },
   "outputs": [],
   "source": [
    "gm_2007_df.sort_values('pop').tail()"
   ]
  },
  {
   "cell_type": "code",
   "execution_count": null,
   "metadata": {
    "id": "dta1bqtSPG1W"
   },
   "outputs": [],
   "source": [
    "gm_2007_df['gdp'] = gm_2007_df['gdpPercap'] * gm_2007_df['pop'] / 1000000000"
   ]
  },
  {
   "cell_type": "code",
   "execution_count": null,
   "metadata": {
    "id": "gvA7lE_VPb71"
   },
   "outputs": [],
   "source": [
    "gm_2007_df.sort_values('pop').tail()"
   ]
  },
  {
   "cell_type": "markdown",
   "metadata": {
    "id": "0IQlLvlhl9yx"
   },
   "source": [
    "More on index alignment and vectorised operations can be found [in this section]() in our main textbook."
   ]
  },
  {
   "cell_type": "markdown",
   "metadata": {
    "id": "z-mNq-Cul9yx"
   },
   "source": [
    "Comparing values of subsets works well when they **share** the same **index**:"
   ]
  },
  {
   "cell_type": "code",
   "execution_count": null,
   "metadata": {
    "id": "YRIvox9el9yx"
   },
   "outputs": [],
   "source": [
    "china_df = gm_df.loc[ gm_df['country']=='China' ].set_index('year')"
   ]
  },
  {
   "cell_type": "code",
   "execution_count": null,
   "metadata": {
    "id": "iZ9qwLoVl9yx"
   },
   "outputs": [],
   "source": [
    "china_df.head(3)"
   ]
  },
  {
   "cell_type": "code",
   "execution_count": null,
   "metadata": {
    "id": "ccwbuK1jl9yx"
   },
   "outputs": [],
   "source": [
    "afg_df = gm_df.loc[ gm_df['country']=='Afghanistan' ].set_index('year')"
   ]
  },
  {
   "cell_type": "code",
   "execution_count": null,
   "metadata": {
    "id": "yiuLUTPJl9yx"
   },
   "outputs": [],
   "source": [
    "afg_df.head(3)"
   ]
  },
  {
   "cell_type": "code",
   "execution_count": null,
   "metadata": {
    "id": "PX4rvEwcl9yx"
   },
   "outputs": [],
   "source": [
    "china_df['lifeExp'] - afg_df['lifeExp']"
   ]
  },
  {
   "cell_type": "markdown",
   "metadata": {
    "id": "4YA7CDH-l9yx"
   },
   "source": [
    "This gives us a nice opportunity to illustrate the use of `concat` for aligning slices (that share an index) into a new DataFrame. Notice also the use of `.columns` for renaming."
   ]
  },
  {
   "cell_type": "code",
   "execution_count": null,
   "metadata": {
    "id": "qiibvGTAl9yx"
   },
   "outputs": [],
   "source": [
    "df = pd.concat([ \n",
    "    china_df['lifeExp'], afg_df['lifeExp'], china_df['lifeExp'] - afg_df['lifeExp']\n",
    "], axis='columns')\n",
    "df"
   ]
  },
  {
   "cell_type": "code",
   "execution_count": null,
   "metadata": {
    "id": "YpoyU885l9yx"
   },
   "outputs": [],
   "source": [
    "df.columns = [ 'China_lifeExp', 'Afghanistan_lifeExp', 'lifeExp_diff']\n",
    "df"
   ]
  },
  {
   "cell_type": "markdown",
   "metadata": {
    "id": "JQ2yMP_8l9yx"
   },
   "source": [
    "**checkpoint**: using `states_df` below, obtain:\n",
    "\n",
    "* population density (assuming area is given in square Km, we are looking for number of people per Km<sup>2</sup>). Add it to the DataFrame as a new feature.\n",
    "\n",
    "* by how much a state's area is greater or smaller than the mean area.\n",
    "\n",
    "* the state populations in millions."
   ]
  },
  {
   "cell_type": "markdown",
   "metadata": {
    "id": "z0F2Ul69l9yx"
   },
   "source": [
    "This is a tiny dataset on US states (used in the Python Data Science Handbook) that is useful for illustration:"
   ]
  },
  {
   "cell_type": "code",
   "execution_count": null,
   "metadata": {
    "id": "RDo7km7Zl9yx"
   },
   "outputs": [],
   "source": [
    "states_df = pd.DataFrame(\n",
    "    {\n",
    "        'area': {'California': 423967, 'Texas': 695662,\n",
    "                  'New York': 141297, 'Florida': 170312,\n",
    "                  'Illinois': 149995},\n",
    "        'pop': {'California': 38332521, 'Texas': 26448193,\n",
    "                 'New York': 19651127, 'Florida': 19552860,\n",
    "                 'Illinois': 12882135}\n",
    "    }\n",
    ")"
   ]
  },
  {
   "cell_type": "markdown",
   "metadata": {
    "id": "Fdc4WNTul9yx"
   },
   "source": [
    "Notice, here, that we instantiate a DataFrame from a Python data structure - in this case, a dictionary, where each key (a column label) points to a dictionary associating US state names to area and population. Normally, we would creating DataFrames from data residing in data files or databases, but this approach can be useful for testing/debugging/learning purposes.\n",
    "\n",
    "More on dictionaries? You could take a look at [this section](https://jakevdp.github.io/WhirlwindTourOfPython/06-built-in-data-structures.html#Dictionaries) of A Whirlwind Tour of Python."
   ]
  },
  {
   "cell_type": "code",
   "execution_count": null,
   "metadata": {
    "id": "KQf7UyKjl9yx"
   },
   "outputs": [],
   "source": [
    "states_df"
   ]
  },
  {
   "cell_type": "markdown",
   "metadata": {
    "id": "Fhcfoxn6l9yx"
   },
   "source": [
    "### Transformations to Feature Domains"
   ]
  },
  {
   "cell_type": "markdown",
   "metadata": {
    "id": "DOdL8RxLl9yx"
   },
   "source": [
    "#### Discretisation (with `pd.cut()`)"
   ]
  },
  {
   "cell_type": "markdown",
   "metadata": {
    "id": "uHGdGRzrl9yx"
   },
   "source": [
    "Back to the PIMA Diabetes dataset - one could think of working with BMI as **categorical** rather than a **continuous** data type. **Discretising** (i.e., changing from continuous to discrete categories) can be achived, for example, via the [`pd.cut()`](https://pandas.pydata.org/pandas-docs/stable/reference/api/pandas.cut.html) function as the example below shows.\n",
    "\n",
    "The standard definition (e.g., from Wikipedia) of different BMI bands is:\n",
    "\n",
    "* *Underweight*: < 18.5.\n",
    "* *Normal weight*: between 18.5 and 25.\n",
    "* *Overweight*: between 25 to 30.\n",
    "* *Obese*: 30 or greater."
   ]
  },
  {
   "cell_type": "code",
   "execution_count": null,
   "metadata": {
    "id": "IbUeR7fil9yx"
   },
   "outputs": [],
   "source": [
    "pima_df = pd.read_csv('./data/pima-indians-diabetes/diabetes.csv')"
   ]
  },
  {
   "cell_type": "code",
   "execution_count": null,
   "metadata": {
    "id": "CXtCBPIkl9yx"
   },
   "outputs": [],
   "source": [
    "pima_df.loc[[1]]"
   ]
  },
  {
   "cell_type": "code",
   "execution_count": null,
   "metadata": {
    "id": "LJ6gbARul9yx"
   },
   "outputs": [],
   "source": [
    "max_BMI = pima_df['BMI'].max()\n",
    "pd.cut(\n",
    "    pima_df['BMI'],\n",
    "    bins=[0, 18.5, 25, 30, max_BMI + 0.001],\n",
    "    right=False,\n",
    "    include_lowest=True\n",
    ").head(1)"
   ]
  },
  {
   "cell_type": "markdown",
   "metadata": {
    "id": "sdsJluL3l9yx"
   },
   "source": [
    "Notice that `pandas` creates a `category` that is **ordinal** (`[low < normal < overweight < obese]`), and that the parameters `right` and `include_lowest` indicate whether the intervals are open or closed, and at which endpoint."
   ]
  },
  {
   "cell_type": "code",
   "execution_count": null,
   "metadata": {
    "id": "Ro3yR8ypl9yx"
   },
   "outputs": [],
   "source": [
    "pima_df['BMI_cat'] = pd.cut(\n",
    "    pima_df['BMI'],\n",
    "    bins=[0, 18.5, 25, 30, max_BMI + 0.001],\n",
    "    labels=['low', 'normal', 'overweight', 'obese'],\n",
    "    right=False,\n",
    "    include_lowest=True\n",
    ")"
   ]
  },
  {
   "cell_type": "code",
   "execution_count": null,
   "metadata": {
    "id": "TpQd4-Uxl9yx"
   },
   "outputs": [],
   "source": [
    "pima_df.head()"
   ]
  },
  {
   "cell_type": "code",
   "execution_count": null,
   "metadata": {
    "id": "UHUE6vS-l9yx"
   },
   "outputs": [],
   "source": [
    "pima_df['BMI_cat'].value_counts()"
   ]
  },
  {
   "cell_type": "markdown",
   "metadata": {
    "id": "dbkIUH8Ul9yx"
   },
   "source": [
    "#### Mapping domain into a different set of values (with `.map()`):"
   ]
  },
  {
   "cell_type": "code",
   "execution_count": null,
   "metadata": {
    "id": "SI7zfCEkl9yx"
   },
   "outputs": [],
   "source": [
    "pima_df['Outcome'].map({1: 'Diabetic', 0: 'Non-Diabetic'})"
   ]
  },
  {
   "cell_type": "code",
   "execution_count": null,
   "metadata": {
    "id": "d7Mxfcgal9yx"
   },
   "outputs": [],
   "source": [
    "pima_df['Outcome_cat'] = pima_df['Outcome'].map({1: 'Diabetic', 0: 'Non-Diabetic'})"
   ]
  },
  {
   "cell_type": "code",
   "execution_count": null,
   "metadata": {
    "id": "Mj15cQZql9yx"
   },
   "outputs": [],
   "source": [
    "pima_df.head(5)"
   ]
  },
  {
   "cell_type": "markdown",
   "metadata": {
    "id": "95aX_O4ul9yx"
   },
   "source": [
    "Another example of vectorised transformations - this time, on categories (which are strings). More on vectorised string operations [here](https://jakevdp.github.io/PythonDataScienceHandbook/03.10-working-with-strings.html)."
   ]
  },
  {
   "cell_type": "code",
   "execution_count": null,
   "metadata": {
    "id": "z69nBiJnl9yx"
   },
   "outputs": [],
   "source": [
    "pima_df['BMI_cat'] = pima_df['BMI_cat'].str.title()"
   ]
  },
  {
   "cell_type": "markdown",
   "metadata": {
    "id": "Mm_eUFZMl9yx"
   },
   "source": [
    "#### Transformation of Scale (Into Orders of Magnitude)"
   ]
  },
  {
   "cell_type": "code",
   "execution_count": null,
   "metadata": {
    "id": "R1i3F08Dl9yx"
   },
   "outputs": [],
   "source": [
    "titanic_df = pd.read_csv('./data/titanic-kaggle/train.csv')"
   ]
  },
  {
   "cell_type": "code",
   "execution_count": null,
   "metadata": {
    "id": "mwG8LEDGl9yx"
   },
   "outputs": [],
   "source": [
    "titanic_df.sample()"
   ]
  },
  {
   "cell_type": "code",
   "execution_count": null,
   "metadata": {
    "id": "UGprwZ3il9yx"
   },
   "outputs": [],
   "source": [
    "sns.distplot(titanic_df['Fare']);"
   ]
  },
  {
   "cell_type": "code",
   "execution_count": null,
   "metadata": {
    "id": "v6b511c7l9yx"
   },
   "outputs": [],
   "source": [
    "np.log(titanic_df.loc[ titanic_df['Fare']>0, 'Fare' ])"
   ]
  },
  {
   "cell_type": "code",
   "execution_count": null,
   "metadata": {
    "id": "z6dckkQIl9yx"
   },
   "outputs": [],
   "source": [
    "# https://matplotlib.org/3.1.1/api/axes_api.html#ticks-and-tick-labels\n",
    "ax = sns.distplot(np.log10(titanic_df.loc[ titanic_df['Fare']>0, 'Fare' ]))\n",
    "ax.set_xticks(range(0,4))\n",
    "ax.set_xticklabels(np.power(10, range(0,4)));"
   ]
  },
  {
   "cell_type": "code",
   "execution_count": null,
   "metadata": {
    "id": "YFFMCFggarvB"
   },
   "outputs": [],
   "source": []
  },
  {
   "cell_type": "markdown",
   "metadata": {
    "id": "W2onsL3H8qqW"
   },
   "source": [
    "## Grouping and Aggregating Data\n"
   ]
  },
  {
   "cell_type": "markdown",
   "metadata": {
    "id": "JvB766ip8qqW"
   },
   "source": [
    "### Split, Apply, Combine"
   ]
  },
  {
   "cell_type": "markdown",
   "metadata": {
    "id": "v-vcmiL38qqW"
   },
   "source": [
    "A quick example: let us obtain the mean averages of `lifeExp`, `pop`, and `gdpPercap` per country:"
   ]
  },
  {
   "cell_type": "code",
   "execution_count": 41,
   "metadata": {
    "id": "44eGQ9x08qqW"
   },
   "outputs": [
    {
     "data": {
      "text/html": [
       "<div>\n",
       "<style scoped>\n",
       "    .dataframe tbody tr th:only-of-type {\n",
       "        vertical-align: middle;\n",
       "    }\n",
       "\n",
       "    .dataframe tbody tr th {\n",
       "        vertical-align: top;\n",
       "    }\n",
       "\n",
       "    .dataframe thead th {\n",
       "        text-align: right;\n",
       "    }\n",
       "</style>\n",
       "<table border=\"1\" class=\"dataframe\">\n",
       "  <thead>\n",
       "    <tr style=\"text-align: right;\">\n",
       "      <th></th>\n",
       "      <th>lifeExp</th>\n",
       "      <th>gdpPercap</th>\n",
       "    </tr>\n",
       "    <tr>\n",
       "      <th>country</th>\n",
       "      <th></th>\n",
       "      <th></th>\n",
       "    </tr>\n",
       "  </thead>\n",
       "  <tbody>\n",
       "    <tr>\n",
       "      <th>Afghanistan</th>\n",
       "      <td>37.478833</td>\n",
       "      <td>802.674598</td>\n",
       "    </tr>\n",
       "    <tr>\n",
       "      <th>Albania</th>\n",
       "      <td>68.432917</td>\n",
       "      <td>3255.366633</td>\n",
       "    </tr>\n",
       "    <tr>\n",
       "      <th>Algeria</th>\n",
       "      <td>59.030167</td>\n",
       "      <td>4426.025973</td>\n",
       "    </tr>\n",
       "    <tr>\n",
       "      <th>Angola</th>\n",
       "      <td>37.883500</td>\n",
       "      <td>3607.100529</td>\n",
       "    </tr>\n",
       "    <tr>\n",
       "      <th>Argentina</th>\n",
       "      <td>69.060417</td>\n",
       "      <td>8955.553783</td>\n",
       "    </tr>\n",
       "  </tbody>\n",
       "</table>\n",
       "</div>"
      ],
      "text/plain": [
       "               lifeExp    gdpPercap\n",
       "country                            \n",
       "Afghanistan  37.478833   802.674598\n",
       "Albania      68.432917  3255.366633\n",
       "Algeria      59.030167  4426.025973\n",
       "Angola       37.883500  3607.100529\n",
       "Argentina    69.060417  8955.553783"
      ]
     },
     "execution_count": 41,
     "metadata": {},
     "output_type": "execute_result"
    }
   ],
   "source": [
    "gm_df.groupby('country')[['lifeExp', 'gdpPercap']].mean().head()"
   ]
  },
  {
   "cell_type": "markdown",
   "metadata": {
    "id": "9n2wS8HD8qqW"
   },
   "source": [
    "Illustration from the textbook: https://jakevdp.github.io/PythonDataScienceHandbook/03.08-aggregation-and-grouping.html#Split,-apply,-combine."
   ]
  },
  {
   "cell_type": "markdown",
   "metadata": {
    "id": "_-DX0yOn8qqW"
   },
   "source": [
    "How many observations for each continent?"
   ]
  },
  {
   "cell_type": "code",
   "execution_count": null,
   "metadata": {
    "id": "987i5l-j8qqW"
   },
   "outputs": [],
   "source": [
    "gm_df.groupby('continent').size()"
   ]
  },
  {
   "cell_type": "code",
   "execution_count": null,
   "metadata": {
    "id": "M4NNFgje8qqW"
   },
   "outputs": [],
   "source": [
    "gm_df['continent'].value_counts()"
   ]
  },
  {
   "cell_type": "markdown",
   "metadata": {
    "id": "4IdrEi9c8qqW"
   },
   "source": [
    "The highest life expectancy by continent and year?"
   ]
  },
  {
   "cell_type": "code",
   "execution_count": null,
   "metadata": {
    "id": "AvhHwPpH8qqW"
   },
   "outputs": [],
   "source": [
    "gm_df.groupby(['continent', 'year'])[['lifeExp']].max()"
   ]
  },
  {
   "cell_type": "markdown",
   "metadata": {
    "id": "dcMAYaZr8qqW"
   },
   "source": [
    "`.unstack()` is normally quite useful in combination with grouping. We've seen it before - it turns row labels into column labels:"
   ]
  },
  {
   "cell_type": "code",
   "execution_count": null,
   "metadata": {
    "id": "u5ZkfiXOFl1v"
   },
   "outputs": [],
   "source": [
    "gm_df.groupby(['continent', 'year'])[['lifeExp']].mean().head()"
   ]
  },
  {
   "cell_type": "code",
   "execution_count": null,
   "metadata": {
    "id": "2cUpy01m8qqW"
   },
   "outputs": [],
   "source": [
    "gm_df.groupby(['continent', 'year'])['lifeExp'].mean().unstack('year')"
   ]
  },
  {
   "cell_type": "markdown",
   "metadata": {
    "id": "GrS9pqNT8qqW"
   },
   "source": [
    "A more complex expression (which could surely be broken down) shows how grouping and reshaping can give us some more interesting plots for groups comparisons and insights:"
   ]
  },
  {
   "cell_type": "code",
   "execution_count": null,
   "metadata": {
    "id": "7EigcW6E8qqW"
   },
   "outputs": [],
   "source": [
    "gm_df.groupby(['continent', 'year'])['lifeExp'].mean().unstack('year').loc[:, 1992:2007].plot.bar();"
   ]
  },
  {
   "cell_type": "markdown",
   "metadata": {
    "id": "neRa0CJT8qqW"
   },
   "source": [
    "Aside - **breaking down long statements/pipelines** (the brackets are needed so that Python doesn't complain, for example, about all the whitespace between method calls and their objects):"
   ]
  },
  {
   "cell_type": "code",
   "execution_count": 42,
   "metadata": {
    "id": "_XMv6DUb8qqW"
   },
   "outputs": [
    {
     "data": {
      "image/png": "[encoded data removed]",
      "text/plain": [
       "<Figure size 792x504 with 1 Axes>"
      ]
     },
     "metadata": {
      "image/png": {
       "height": 465,
       "width": 649
      }
     },
     "output_type": "display_data"
    }
   ],
   "source": [
    "(gm_df\n",
    "     .groupby(['continent', 'year'])\n",
    "     ['lifeExp']\n",
    "     .mean()\n",
    "     .unstack('year')\n",
    "     .loc[:, 1992:2007]\n",
    "     .plot.bar()\n",
    ");"
   ]
  },
  {
   "cell_type": "code",
   "execution_count": 43,
   "metadata": {
    "id": "0KJplY32MLYD"
   },
   "outputs": [
    {
     "data": {
      "image/png": "[encoded data removed]",
      "text/plain": [
       "<Figure size 792x504 with 2 Axes>"
      ]
     },
     "metadata": {
      "image/png": {
       "height": 429,
       "width": 611
      }
     },
     "output_type": "display_data"
    }
   ],
   "source": [
    "sns.heatmap(gm_df\n",
    "     .groupby(['continent', 'year'])\n",
    "     ['lifeExp']\n",
    "     .mean()\n",
    "     .unstack('year')\n",
    "     .loc[:, 1992:2007]\n",
    ");"
   ]
  },
  {
   "cell_type": "markdown",
   "metadata": {
    "id": "cd6cT-sD8qqW"
   },
   "source": [
    "### **Challenge**: Experimenting with Grouping on `titanic`"
   ]
  },
  {
   "cell_type": "markdown",
   "metadata": {
    "id": "vHp_fjYy8qqW"
   },
   "source": [
    "Some of questions involving grouping that one might try to answer about the `titanic` dataset are:"
   ]
  },
  {
   "cell_type": "code",
   "execution_count": 44,
   "metadata": {
    "id": "TLlaEYQR8qqW"
   },
   "outputs": [],
   "source": [
    "titanic_df = pd.read_csv(\n",
    "    'https://raw.githubusercontent.com/gerberl/ai-cyber-foundry-data-mnpl-expl-workshop/main/data/titanic-kaggle.csv'\n",
    ")"
   ]
  },
  {
   "cell_type": "code",
   "execution_count": 45,
   "metadata": {
    "id": "FcHCHXGY8qqW"
   },
   "outputs": [
    {
     "data": {
      "text/html": [
       "<div>\n",
       "<style scoped>\n",
       "    .dataframe tbody tr th:only-of-type {\n",
       "        vertical-align: middle;\n",
       "    }\n",
       "\n",
       "    .dataframe tbody tr th {\n",
       "        vertical-align: top;\n",
       "    }\n",
       "\n",
       "    .dataframe thead th {\n",
       "        text-align: right;\n",
       "    }\n",
       "</style>\n",
       "<table border=\"1\" class=\"dataframe\">\n",
       "  <thead>\n",
       "    <tr style=\"text-align: right;\">\n",
       "      <th></th>\n",
       "      <th>PassengerId</th>\n",
       "      <th>Survived</th>\n",
       "      <th>Pclass</th>\n",
       "      <th>Name</th>\n",
       "      <th>Sex</th>\n",
       "      <th>Age</th>\n",
       "      <th>SibSp</th>\n",
       "      <th>Parch</th>\n",
       "      <th>Ticket</th>\n",
       "      <th>Fare</th>\n",
       "      <th>Cabin</th>\n",
       "      <th>Embarked</th>\n",
       "    </tr>\n",
       "  </thead>\n",
       "  <tbody>\n",
       "    <tr>\n",
       "      <th>0</th>\n",
       "      <td>1</td>\n",
       "      <td>0</td>\n",
       "      <td>3</td>\n",
       "      <td>Braund, Mr. Owen Harris</td>\n",
       "      <td>male</td>\n",
       "      <td>22.0</td>\n",
       "      <td>1</td>\n",
       "      <td>0</td>\n",
       "      <td>A/5 21171</td>\n",
       "      <td>7.2500</td>\n",
       "      <td>NaN</td>\n",
       "      <td>S</td>\n",
       "    </tr>\n",
       "    <tr>\n",
       "      <th>1</th>\n",
       "      <td>2</td>\n",
       "      <td>1</td>\n",
       "      <td>1</td>\n",
       "      <td>Cumings, Mrs. John Bradley (Florence Briggs Th...</td>\n",
       "      <td>female</td>\n",
       "      <td>38.0</td>\n",
       "      <td>1</td>\n",
       "      <td>0</td>\n",
       "      <td>PC 17599</td>\n",
       "      <td>71.2833</td>\n",
       "      <td>C85</td>\n",
       "      <td>C</td>\n",
       "    </tr>\n",
       "    <tr>\n",
       "      <th>2</th>\n",
       "      <td>3</td>\n",
       "      <td>1</td>\n",
       "      <td>3</td>\n",
       "      <td>Heikkinen, Miss. Laina</td>\n",
       "      <td>female</td>\n",
       "      <td>26.0</td>\n",
       "      <td>0</td>\n",
       "      <td>0</td>\n",
       "      <td>STON/O2. 3101282</td>\n",
       "      <td>7.9250</td>\n",
       "      <td>NaN</td>\n",
       "      <td>S</td>\n",
       "    </tr>\n",
       "    <tr>\n",
       "      <th>3</th>\n",
       "      <td>4</td>\n",
       "      <td>1</td>\n",
       "      <td>1</td>\n",
       "      <td>Futrelle, Mrs. Jacques Heath (Lily May Peel)</td>\n",
       "      <td>female</td>\n",
       "      <td>35.0</td>\n",
       "      <td>1</td>\n",
       "      <td>0</td>\n",
       "      <td>113803</td>\n",
       "      <td>53.1000</td>\n",
       "      <td>C123</td>\n",
       "      <td>S</td>\n",
       "    </tr>\n",
       "    <tr>\n",
       "      <th>4</th>\n",
       "      <td>5</td>\n",
       "      <td>0</td>\n",
       "      <td>3</td>\n",
       "      <td>Allen, Mr. William Henry</td>\n",
       "      <td>male</td>\n",
       "      <td>35.0</td>\n",
       "      <td>0</td>\n",
       "      <td>0</td>\n",
       "      <td>373450</td>\n",
       "      <td>8.0500</td>\n",
       "      <td>NaN</td>\n",
       "      <td>S</td>\n",
       "    </tr>\n",
       "  </tbody>\n",
       "</table>\n",
       "</div>"
      ],
      "text/plain": [
       "   PassengerId  Survived  Pclass  \\\n",
       "0            1         0       3   \n",
       "1            2         1       1   \n",
       "2            3         1       3   \n",
       "3            4         1       1   \n",
       "4            5         0       3   \n",
       "\n",
       "                                                Name     Sex   Age  SibSp  \\\n",
       "0                            Braund, Mr. Owen Harris    male  22.0      1   \n",
       "1  Cumings, Mrs. John Bradley (Florence Briggs Th...  female  38.0      1   \n",
       "2                             Heikkinen, Miss. Laina  female  26.0      0   \n",
       "3       Futrelle, Mrs. Jacques Heath (Lily May Peel)  female  35.0      1   \n",
       "4                           Allen, Mr. William Henry    male  35.0      0   \n",
       "\n",
       "   Parch            Ticket     Fare Cabin Embarked  \n",
       "0      0         A/5 21171   7.2500   NaN        S  \n",
       "1      0          PC 17599  71.2833   C85        C  \n",
       "2      0  STON/O2. 3101282   7.9250   NaN        S  \n",
       "3      0            113803  53.1000  C123        S  \n",
       "4      0            373450   8.0500   NaN        S  "
      ]
     },
     "execution_count": 45,
     "metadata": {},
     "output_type": "execute_result"
    }
   ],
   "source": [
    "titanic_df.head()"
   ]
  },
  {
   "cell_type": "markdown",
   "metadata": {
    "id": "CQO6a9AA8qqW"
   },
   "source": [
    "What is total number of passangers by sex?"
   ]
  },
  {
   "cell_type": "code",
   "execution_count": 46,
   "metadata": {
    "id": "DYsFCAMT8qqW"
   },
   "outputs": [
    {
     "data": {
      "text/plain": [
       "Sex\n",
       "female    314\n",
       "male      577\n",
       "dtype: int64"
      ]
     },
     "execution_count": 46,
     "metadata": {},
     "output_type": "execute_result"
    }
   ],
   "source": [
    "titanic_df.groupby('Sex').size()"
   ]
  },
  {
   "cell_type": "markdown",
   "metadata": {
    "id": "kF5zgJsA8qqW"
   },
   "source": [
    "What is the number of passangers by port of embarkment?"
   ]
  },
  {
   "cell_type": "code",
   "execution_count": 47,
   "metadata": {
    "id": "m7Y0ILU88qqW"
   },
   "outputs": [
    {
     "data": {
      "text/plain": [
       "Embarked\n",
       "C    168\n",
       "Q     77\n",
       "S    644\n",
       "dtype: int64"
      ]
     },
     "execution_count": 47,
     "metadata": {},
     "output_type": "execute_result"
    }
   ],
   "source": [
    "titanic_df.groupby('Embarked').size()"
   ]
  },
  {
   "cell_type": "markdown",
   "metadata": {
    "id": "gOalSisi8qqW"
   },
   "source": [
    "What is the mean age by sex?"
   ]
  },
  {
   "cell_type": "code",
   "execution_count": 48,
   "metadata": {
    "id": "5fclAphA8qqW"
   },
   "outputs": [
    {
     "data": {
      "text/html": [
       "<div>\n",
       "<style scoped>\n",
       "    .dataframe tbody tr th:only-of-type {\n",
       "        vertical-align: middle;\n",
       "    }\n",
       "\n",
       "    .dataframe tbody tr th {\n",
       "        vertical-align: top;\n",
       "    }\n",
       "\n",
       "    .dataframe thead th {\n",
       "        text-align: right;\n",
       "    }\n",
       "</style>\n",
       "<table border=\"1\" class=\"dataframe\">\n",
       "  <thead>\n",
       "    <tr style=\"text-align: right;\">\n",
       "      <th></th>\n",
       "      <th>Age</th>\n",
       "    </tr>\n",
       "    <tr>\n",
       "      <th>Sex</th>\n",
       "      <th></th>\n",
       "    </tr>\n",
       "  </thead>\n",
       "  <tbody>\n",
       "    <tr>\n",
       "      <th>female</th>\n",
       "      <td>27.915709</td>\n",
       "    </tr>\n",
       "    <tr>\n",
       "      <th>male</th>\n",
       "      <td>30.726645</td>\n",
       "    </tr>\n",
       "  </tbody>\n",
       "</table>\n",
       "</div>"
      ],
      "text/plain": [
       "              Age\n",
       "Sex              \n",
       "female  27.915709\n",
       "male    30.726645"
      ]
     },
     "execution_count": 48,
     "metadata": {},
     "output_type": "execute_result"
    }
   ],
   "source": [
    "titanic_df.groupby('Sex')[['Age']].mean()"
   ]
  },
  {
   "cell_type": "markdown",
   "metadata": {
    "id": "uvlRRO0t8qqW"
   },
   "source": [
    "How many passengers travelled alone, by sex?"
   ]
  },
  {
   "cell_type": "code",
   "execution_count": null,
   "metadata": {
    "id": "Mnj58W8e8qqW"
   },
   "outputs": [],
   "source": []
  },
  {
   "cell_type": "markdown",
   "metadata": {
    "id": "Af4OxpFN8qqW"
   },
   "source": [
    "What is the mean fare value by class?"
   ]
  },
  {
   "cell_type": "code",
   "execution_count": null,
   "metadata": {
    "id": "D6uVWKEJ8qqW"
   },
   "outputs": [],
   "source": []
  },
  {
   "cell_type": "markdown",
   "metadata": {
    "id": "i6TmW8D58qqW"
   },
   "source": [
    "How many passengers survived and died, by class?"
   ]
  },
  {
   "cell_type": "code",
   "execution_count": null,
   "metadata": {
    "id": "7Pf9-Z8D8qqW"
   },
   "outputs": [],
   "source": []
  },
  {
   "cell_type": "markdown",
   "metadata": {
    "id": "Z_d_y_5E8qqW"
   },
   "source": [
    "How many passengers survived and died, by sex?"
   ]
  },
  {
   "cell_type": "code",
   "execution_count": null,
   "metadata": {
    "id": "TFQX7cim8qqW"
   },
   "outputs": [],
   "source": []
  },
  {
   "cell_type": "markdown",
   "metadata": {
    "id": "PoLX3hq_8qqW"
   },
   "source": [
    "What are the highest values for `sibsp` (number of siblings/spouses) and `parch` (number of parents/children) by sex?"
   ]
  },
  {
   "cell_type": "code",
   "execution_count": null,
   "metadata": {
    "id": "v_xWnf3-8qqW"
   },
   "outputs": [],
   "source": []
  },
  {
   "cell_type": "markdown",
   "metadata": {
    "id": "MRjzGQFU8qqW"
   },
   "source": [
    "Compare the average fear paid by men and women, broken down in the three different classes."
   ]
  },
  {
   "cell_type": "code",
   "execution_count": null,
   "metadata": {
    "id": "wHN1rv-d8qqW"
   },
   "outputs": [],
   "source": []
  },
  {
   "cell_type": "markdown",
   "metadata": {
    "id": "P4SOKLlIbOai"
   },
   "source": [
    "## Multivariate Data Distributions, Relationships, and Plots\n",
    "In terms of data exploration, most of what we have covered so far concerned univariate data distributions. For example, for quantitative features, we have analysed summary statistics, such as median and IQR, and plotted KDEs and histograms to gain insights in their data distribution; also, to learn whether those contained missing or noisy values, and outliers.\n",
    "\n",
    "We expand now our exploratory data analysis to multivariate distributions. In other words, we will investigate how the data in distributed for two or more features jointly. By and large, at this stage, this will be done visually, with the help of some sophisticated plots offered by seaborn. This will allow us, for example, to identify potential relationships between features to help answer some interesting questions (e.g., is BMI associated with diabetes?, has life expectancy varied predictably according to year?); also, to inform subsequent data science stages such as building machine learning models to predict outcomes based on useful predictors (e.g., use travelling class and sex to predict whether travellers survived).\n",
    "\n",
    "As a reminder, the topic of data visualisation is going to be given a more formal treatment in the second part of the unit. Right now, we are only interested in quickly plotting some charts to help us with data understanding and exploration."
   ]
  },
  {
   "cell_type": "markdown",
   "metadata": {
    "id": "kap_YucRZ1vQ"
   },
   "source": [
    "### Firstly, Some Useful Data Transformations"
   ]
  },
  {
   "cell_type": "markdown",
   "metadata": {
    "id": "M8F8rBCUZ1vQ"
   },
   "source": [
    "#### A Reminder of Types of Features"
   ]
  },
  {
   "cell_type": "markdown",
   "metadata": {
    "id": "_y7VAbq6Z1vQ"
   },
   "source": [
    "As a refresher: typically, in Data Science, we deal with two main types of features, **quantitative** and **qualitative**, which are normally classified into:\n",
    "\n",
    "* quantitative:\n",
    "    - **continuous**: e.g., temperature, BMI, GDP per capita (**numeric**); timestamp of sales transaction (**time**) \n",
    "    - **discrete**: number of pregnancies, age (**numeric**); year, month, day of the week, 4h-interval (**time**)\n",
    "* qualitative:\n",
    "    - **categorical**:\n",
    "        + **unordered**: continent, outcome (of diagnosis), travelling class\n",
    "        + **ordinal**: review (e.g., from `poor` to `outstanding`), temperature (`low`, `medium`, `high`).\n",
    "        "
   ]
  },
  {
   "cell_type": "markdown",
   "metadata": {
    "id": "teC44oM8Z1vQ"
   },
   "source": [
    "#### Discretisation"
   ]
  },
  {
   "cell_type": "markdown",
   "metadata": {
    "id": "Hb_w-aIBZ1vQ"
   },
   "source": [
    "At times, it is useful, for certain data science or machine learning tasks, to encode the data differently. A useful, relevant transformation here is that of **discretisation** - converting a quantitative into a categorical one."
   ]
  },
  {
   "cell_type": "markdown",
   "metadata": {
    "id": "DoS8faHNZ1vQ"
   },
   "source": [
    "For example, one could think of working with BMI as categorical rather than a continuous data type. Discretisation can be achieved practically, say, via [`pd.cut()`](https://pandas.pydata.org/pandas-docs/stable/reference/api/pandas.cut.html) function as the example below shows.\n",
    "\n",
    "The standard definition (e.g., from Wikipedia) of different BMI bands is:\n",
    "\n",
    "* *Underweight*: < 18.5.\n",
    "* *Normal weight*: between 18.5 and 25.\n",
    "* *Overweight*: between 25 to 30.\n",
    "* *Obese*: 30 or greater."
   ]
  },
  {
   "cell_type": "code",
   "execution_count": 49,
   "metadata": {
    "id": "Ve7HGDkKZ1vQ"
   },
   "outputs": [],
   "source": [
    "max_BMI = pima_df['BMI'].max()\n",
    "pima_df['BMI_cat'] = pd.cut(\n",
    "    pima_df['BMI'],\n",
    "    bins=[0, 18.5, 25, 30, max_BMI + 0.001],\n",
    "    labels=['low', 'normal', 'overweight', 'obese'],\n",
    "    right=False,\n",
    "    include_lowest=True\n",
    ")"
   ]
  },
  {
   "cell_type": "code",
   "execution_count": 50,
   "metadata": {
    "id": "ZaMAPi_OZ1vQ"
   },
   "outputs": [
    {
     "data": {
      "text/html": [
       "<div>\n",
       "<style scoped>\n",
       "    .dataframe tbody tr th:only-of-type {\n",
       "        vertical-align: middle;\n",
       "    }\n",
       "\n",
       "    .dataframe tbody tr th {\n",
       "        vertical-align: top;\n",
       "    }\n",
       "\n",
       "    .dataframe thead th {\n",
       "        text-align: right;\n",
       "    }\n",
       "</style>\n",
       "<table border=\"1\" class=\"dataframe\">\n",
       "  <thead>\n",
       "    <tr style=\"text-align: right;\">\n",
       "      <th></th>\n",
       "      <th>Pregnancies</th>\n",
       "      <th>Glucose</th>\n",
       "      <th>BloodPressure</th>\n",
       "      <th>SkinThickness</th>\n",
       "      <th>Insulin</th>\n",
       "      <th>BMI</th>\n",
       "      <th>DiabetesPedigreeFunction</th>\n",
       "      <th>Age</th>\n",
       "      <th>Outcome</th>\n",
       "      <th>BMI_cat</th>\n",
       "    </tr>\n",
       "  </thead>\n",
       "  <tbody>\n",
       "    <tr>\n",
       "      <th>668</th>\n",
       "      <td>6</td>\n",
       "      <td>98</td>\n",
       "      <td>58</td>\n",
       "      <td>33</td>\n",
       "      <td>190</td>\n",
       "      <td>34.0</td>\n",
       "      <td>0.430</td>\n",
       "      <td>43</td>\n",
       "      <td>0</td>\n",
       "      <td>obese</td>\n",
       "    </tr>\n",
       "    <tr>\n",
       "      <th>324</th>\n",
       "      <td>2</td>\n",
       "      <td>112</td>\n",
       "      <td>75</td>\n",
       "      <td>32</td>\n",
       "      <td>0</td>\n",
       "      <td>35.7</td>\n",
       "      <td>0.148</td>\n",
       "      <td>21</td>\n",
       "      <td>0</td>\n",
       "      <td>obese</td>\n",
       "    </tr>\n",
       "    <tr>\n",
       "      <th>624</th>\n",
       "      <td>2</td>\n",
       "      <td>108</td>\n",
       "      <td>64</td>\n",
       "      <td>0</td>\n",
       "      <td>0</td>\n",
       "      <td>30.8</td>\n",
       "      <td>0.158</td>\n",
       "      <td>21</td>\n",
       "      <td>0</td>\n",
       "      <td>obese</td>\n",
       "    </tr>\n",
       "    <tr>\n",
       "      <th>690</th>\n",
       "      <td>8</td>\n",
       "      <td>107</td>\n",
       "      <td>80</td>\n",
       "      <td>0</td>\n",
       "      <td>0</td>\n",
       "      <td>24.6</td>\n",
       "      <td>0.856</td>\n",
       "      <td>34</td>\n",
       "      <td>0</td>\n",
       "      <td>normal</td>\n",
       "    </tr>\n",
       "    <tr>\n",
       "      <th>473</th>\n",
       "      <td>7</td>\n",
       "      <td>136</td>\n",
       "      <td>90</td>\n",
       "      <td>0</td>\n",
       "      <td>0</td>\n",
       "      <td>29.9</td>\n",
       "      <td>0.210</td>\n",
       "      <td>50</td>\n",
       "      <td>0</td>\n",
       "      <td>overweight</td>\n",
       "    </tr>\n",
       "  </tbody>\n",
       "</table>\n",
       "</div>"
      ],
      "text/plain": [
       "     Pregnancies  Glucose  BloodPressure  SkinThickness  Insulin   BMI  \\\n",
       "668            6       98             58             33      190  34.0   \n",
       "324            2      112             75             32        0  35.7   \n",
       "624            2      108             64              0        0  30.8   \n",
       "690            8      107             80              0        0  24.6   \n",
       "473            7      136             90              0        0  29.9   \n",
       "\n",
       "     DiabetesPedigreeFunction  Age  Outcome     BMI_cat  \n",
       "668                     0.430   43        0       obese  \n",
       "324                     0.148   21        0       obese  \n",
       "624                     0.158   21        0       obese  \n",
       "690                     0.856   34        0      normal  \n",
       "473                     0.210   50        0  overweight  "
      ]
     },
     "execution_count": 50,
     "metadata": {},
     "output_type": "execute_result"
    }
   ],
   "source": [
    "pima_df.sample(5, random_state=42)"
   ]
  },
  {
   "cell_type": "markdown",
   "metadata": {
    "id": "CyX7CS-9Z1vQ"
   },
   "source": [
    "Notice that `pandas` creates a `category` that is **ordinal** (`[low < normal < overweight < obese]`), and that the parameters `right` and `include_lowest` indicate whether the intervals are open or closed, and at which endpoint."
   ]
  },
  {
   "cell_type": "code",
   "execution_count": 51,
   "metadata": {
    "id": "bzHUYsELZ1vQ"
   },
   "outputs": [
    {
     "data": {
      "text/plain": [
       "0    obese\n",
       "Name: BMI_cat, dtype: category\n",
       "Categories (4, object): ['low' < 'normal' < 'overweight' < 'obese']"
      ]
     },
     "execution_count": 51,
     "metadata": {},
     "output_type": "execute_result"
    }
   ],
   "source": [
    "pima_df['BMI_cat'].head(1)"
   ]
  },
  {
   "cell_type": "markdown",
   "metadata": {
    "id": "MKsIxduDZ1vQ"
   },
   "source": [
    "One could also simply map a set of distinct (discrete) values into categorical ones with `.map()`:"
   ]
  },
  {
   "cell_type": "code",
   "execution_count": 52,
   "metadata": {
    "id": "_hDGrK5wZ1vQ"
   },
   "outputs": [
    {
     "data": {
      "text/plain": [
       "0    1\n",
       "1    0\n",
       "2    1\n",
       "3    0\n",
       "4    1\n",
       "Name: Outcome, dtype: int64"
      ]
     },
     "execution_count": 52,
     "metadata": {},
     "output_type": "execute_result"
    }
   ],
   "source": [
    "pima_df['Outcome'].head(5)"
   ]
  },
  {
   "cell_type": "code",
   "execution_count": 53,
   "metadata": {
    "id": "WJXQZK8cZ1vQ"
   },
   "outputs": [
    {
     "data": {
      "text/plain": [
       "0          Diabetic\n",
       "1      Non-Diabetic\n",
       "2          Diabetic\n",
       "3      Non-Diabetic\n",
       "4          Diabetic\n",
       "           ...     \n",
       "763    Non-Diabetic\n",
       "764    Non-Diabetic\n",
       "765    Non-Diabetic\n",
       "766        Diabetic\n",
       "767    Non-Diabetic\n",
       "Name: Outcome, Length: 768, dtype: category\n",
       "Categories (2, object): ['Diabetic', 'Non-Diabetic']"
      ]
     },
     "execution_count": 53,
     "metadata": {},
     "output_type": "execute_result"
    }
   ],
   "source": [
    "pima_df['Outcome'].map({1: 'Diabetic', 0: 'Non-Diabetic'}).astype('category')"
   ]
  },
  {
   "cell_type": "code",
   "execution_count": 54,
   "metadata": {
    "id": "uGGXnhvnZ1vR"
   },
   "outputs": [],
   "source": [
    "pima_df['Outcome_cat'] = pima_df['Outcome'].map({1: 'Diabetic', 0: 'Non-Diabetic'})"
   ]
  },
  {
   "cell_type": "code",
   "execution_count": 55,
   "metadata": {
    "id": "NI53AVcyZ1vR"
   },
   "outputs": [
    {
     "data": {
      "text/html": [
       "<div>\n",
       "<style scoped>\n",
       "    .dataframe tbody tr th:only-of-type {\n",
       "        vertical-align: middle;\n",
       "    }\n",
       "\n",
       "    .dataframe tbody tr th {\n",
       "        vertical-align: top;\n",
       "    }\n",
       "\n",
       "    .dataframe thead th {\n",
       "        text-align: right;\n",
       "    }\n",
       "</style>\n",
       "<table border=\"1\" class=\"dataframe\">\n",
       "  <thead>\n",
       "    <tr style=\"text-align: right;\">\n",
       "      <th></th>\n",
       "      <th>Pregnancies</th>\n",
       "      <th>Glucose</th>\n",
       "      <th>BloodPressure</th>\n",
       "      <th>SkinThickness</th>\n",
       "      <th>Insulin</th>\n",
       "      <th>BMI</th>\n",
       "      <th>DiabetesPedigreeFunction</th>\n",
       "      <th>Age</th>\n",
       "      <th>Outcome</th>\n",
       "      <th>BMI_cat</th>\n",
       "      <th>Outcome_cat</th>\n",
       "    </tr>\n",
       "  </thead>\n",
       "  <tbody>\n",
       "    <tr>\n",
       "      <th>0</th>\n",
       "      <td>6</td>\n",
       "      <td>148</td>\n",
       "      <td>72</td>\n",
       "      <td>35</td>\n",
       "      <td>0</td>\n",
       "      <td>33.6</td>\n",
       "      <td>0.627</td>\n",
       "      <td>50</td>\n",
       "      <td>1</td>\n",
       "      <td>obese</td>\n",
       "      <td>Diabetic</td>\n",
       "    </tr>\n",
       "    <tr>\n",
       "      <th>1</th>\n",
       "      <td>1</td>\n",
       "      <td>85</td>\n",
       "      <td>66</td>\n",
       "      <td>29</td>\n",
       "      <td>0</td>\n",
       "      <td>26.6</td>\n",
       "      <td>0.351</td>\n",
       "      <td>31</td>\n",
       "      <td>0</td>\n",
       "      <td>overweight</td>\n",
       "      <td>Non-Diabetic</td>\n",
       "    </tr>\n",
       "    <tr>\n",
       "      <th>2</th>\n",
       "      <td>8</td>\n",
       "      <td>183</td>\n",
       "      <td>64</td>\n",
       "      <td>0</td>\n",
       "      <td>0</td>\n",
       "      <td>23.3</td>\n",
       "      <td>0.672</td>\n",
       "      <td>32</td>\n",
       "      <td>1</td>\n",
       "      <td>normal</td>\n",
       "      <td>Diabetic</td>\n",
       "    </tr>\n",
       "    <tr>\n",
       "      <th>3</th>\n",
       "      <td>1</td>\n",
       "      <td>89</td>\n",
       "      <td>66</td>\n",
       "      <td>23</td>\n",
       "      <td>94</td>\n",
       "      <td>28.1</td>\n",
       "      <td>0.167</td>\n",
       "      <td>21</td>\n",
       "      <td>0</td>\n",
       "      <td>overweight</td>\n",
       "      <td>Non-Diabetic</td>\n",
       "    </tr>\n",
       "    <tr>\n",
       "      <th>4</th>\n",
       "      <td>0</td>\n",
       "      <td>137</td>\n",
       "      <td>40</td>\n",
       "      <td>35</td>\n",
       "      <td>168</td>\n",
       "      <td>43.1</td>\n",
       "      <td>2.288</td>\n",
       "      <td>33</td>\n",
       "      <td>1</td>\n",
       "      <td>obese</td>\n",
       "      <td>Diabetic</td>\n",
       "    </tr>\n",
       "  </tbody>\n",
       "</table>\n",
       "</div>"
      ],
      "text/plain": [
       "   Pregnancies  Glucose  BloodPressure  SkinThickness  Insulin   BMI  \\\n",
       "0            6      148             72             35        0  33.6   \n",
       "1            1       85             66             29        0  26.6   \n",
       "2            8      183             64              0        0  23.3   \n",
       "3            1       89             66             23       94  28.1   \n",
       "4            0      137             40             35      168  43.1   \n",
       "\n",
       "   DiabetesPedigreeFunction  Age  Outcome     BMI_cat   Outcome_cat  \n",
       "0                     0.627   50        1       obese      Diabetic  \n",
       "1                     0.351   31        0  overweight  Non-Diabetic  \n",
       "2                     0.672   32        1      normal      Diabetic  \n",
       "3                     0.167   21        0  overweight  Non-Diabetic  \n",
       "4                     2.288   33        1       obese      Diabetic  "
      ]
     },
     "execution_count": 55,
     "metadata": {},
     "output_type": "execute_result"
    }
   ],
   "source": [
    "pima_df.head(5)"
   ]
  },
  {
   "cell_type": "markdown",
   "metadata": {
    "id": "1vsDNQhOZ1vR"
   },
   "source": [
    "### Plotting Grids (via `plt.subplots()`)"
   ]
  },
  {
   "cell_type": "markdown",
   "metadata": {
    "id": "G15KhxnXZ1vR"
   },
   "source": [
    "Just to refresh our minds, a KDE/histogram has been quite useful for understanding data distributions of quantitative features."
   ]
  },
  {
   "cell_type": "code",
   "execution_count": 57,
   "metadata": {
    "id": "X48VEcfGZ1vR"
   },
   "outputs": [
    {
     "name": "stderr",
     "output_type": "stream",
     "text": [
      "/Users/55011173/miniconda3/envs/minimalDSenv/lib/python3.8/site-packages/seaborn/distributions.py:2557: FutureWarning: `distplot` is a deprecated function and will be removed in a future version. Please adapt your code to use either `displot` (a figure-level function with similar flexibility) or `histplot` (an axes-level function for histograms).\n",
      "  warnings.warn(msg, FutureWarning)\n"
     ]
    },
    {
     "data": {
      "image/png": "[encoded data removed]",
      "text/plain": [
       "<Figure size 792x504 with 1 Axes>"
      ]
     },
     "metadata": {
      "image/png": {
       "height": 414,
       "width": 674
      }
     },
     "output_type": "display_data"
    }
   ],
   "source": [
    "sns.distplot(x=pima_df['BMI']);"
   ]
  },
  {
   "cell_type": "markdown",
   "metadata": {
    "id": "yqok9j6hZ1vR"
   },
   "source": [
    "A nice addition - one can have multiple plots in a more convenient layout with `matplotlib`'s `.subplots()`. It produces a `Figure` object (assigned to `fig`) and a collection of `Axis` objects (assigned to `axs`). In the example below, it produces a 2x2 grid; to address a specific axis, we need two dimensions (e.g., `axs[1,0]` for second row and first column)."
   ]
  },
  {
   "cell_type": "code",
   "execution_count": null,
   "metadata": {
    "id": "pmBmcRGNZ1vR"
   },
   "outputs": [],
   "source": [
    "fig, axs = plt.subplots(2, 2, figsize=(16,8))\n",
    "sns.distplot(pima_df['BMI'].loc[ pima_df['BMI']>0 ], ax=axs[0,0])\n",
    "sns.distplot(pima_df['BloodPressure'].loc[ pima_df['BloodPressure']>0 ], ax=axs[0,1])\n",
    "sns.distplot(pima_df['SkinThickness'].loc[ pima_df['SkinThickness']>0 ], ax=axs[1,0])\n",
    "sns.distplot(pima_df['Age'].loc[ pima_df['Age']>0 ], ax=axs[1,1]);"
   ]
  },
  {
   "cell_type": "markdown",
   "metadata": {
    "id": "qB6oZS_EZ1vR"
   },
   "source": [
    "There is plenty of copy-and-pasting above...\n",
    "\n",
    "Below, I have a more flexible fragment code that relies on a loop and an iterable. Not to worry if you don't fully understand it - but keep it as reference for future work and independent study. It is worth mentioning:\n",
    "\n",
    "* `.reshape(-1)` will change the two dimensional array of axes into a unidimensional one, which is useful for iteration purposes.\n",
    "\n",
    "* `iter(axs.reshape(-1))` gives me an object that allows for iterating over each axis, one by one.\n",
    "\n",
    "* `for col in cols`: iterates over the list of columns labels defined by `cols`. At each iteration, `col` binds to one of the labels. In turn, `next(axs_it)` produces the next axis to be plotted on. In the first iteration, `col` is `BMI`, and `cur_ax` will point to the top-left axis."
   ]
  },
  {
   "cell_type": "code",
   "execution_count": null,
   "metadata": {
    "id": "TUDgPW9-Z1vR"
   },
   "outputs": [],
   "source": [
    "(fig, axs) = plt.subplots(2, 2, figsize=(16,8))\n",
    "axs_it = iter(axs.reshape(-1))\n",
    "cols = [ 'BMI', 'BloodPressure', 'SkinThickness', 'Age' ]\n",
    "for col in cols:\n",
    "    cur_ax = next(axs_it)\n",
    "    sns.distplot(pima_df[col].loc[ pima_df[col]>0 ], ax=cur_ax);"
   ]
  },
  {
   "cell_type": "markdown",
   "metadata": {
    "id": "4njV8dbAZ1vR"
   },
   "source": [
    "### Relationships: Two Quantitative Features\n",
    "\n",
    "The vastly popular way of analysing the visually relationship of two quantitative features is a **scatter plot**. `seaborn` offers the useful `.jointplot()` which, among other things, can display marginal data distributions too."
   ]
  },
  {
   "cell_type": "code",
   "execution_count": null,
   "metadata": {
    "id": "8FlUGUXWZ1vR"
   },
   "outputs": [],
   "source": [
    "df = pima_df.query('BMI>0 and SkinThickness>0')\n",
    "sns.jointplot(data=df, x='BMI', y='SkinThickness', height=7);"
   ]
  },
  {
   "cell_type": "markdown",
   "metadata": {
    "id": "XZSQOMd8Z1vR"
   },
   "source": [
    "Just by looking at the scatter plot above, is there anything that we can say about a **relationship between `BMI` and `SkinThickness`**? As the values of BMI change (i.e., increase or decrease), do we see, broadly, an associate change in skin thickness?\n",
    "\n",
    "We can ask `.jointplot()` to help us by displaying a regression line. The shaded area works like a confidence interval - it shows the regression lines produced for many resamplings of the underlying data."
   ]
  },
  {
   "cell_type": "code",
   "execution_count": null,
   "metadata": {
    "id": "r5ltItS-Z1vR"
   },
   "outputs": [],
   "source": [
    "sns.jointplot(data=df, x='BMI', y='SkinThickness', kind=\"reg\", height=7);"
   ]
  },
  {
   "cell_type": "markdown",
   "metadata": {
    "id": "LWDSL9wHZ1vR"
   },
   "source": [
    "Too many data points will cause **saturation** - the `alpha` parameter is available for a number of types of plots."
   ]
  },
  {
   "cell_type": "code",
   "execution_count": null,
   "metadata": {
    "id": "adhyleitZ1vR"
   },
   "outputs": [],
   "source": [
    "sns.jointplot(data=df, x='BMI', y='SkinThickness', alpha=0.3, height=7);"
   ]
  },
  {
   "cell_type": "markdown",
   "metadata": {
    "id": "_ZOls_0WZ1vR"
   },
   "source": [
    "Also, one can divide the space into a grid of hexagons - the shade of colour matches the data density."
   ]
  },
  {
   "cell_type": "code",
   "execution_count": null,
   "metadata": {
    "id": "f2HRldEOZ1vR"
   },
   "outputs": [],
   "source": [
    "sns.jointplot(data=df, x='BMI', y='SkinThickness', kind=\"hex\", height=7);"
   ]
  },
  {
   "cell_type": "markdown",
   "metadata": {
    "id": "pB5YwFiBZ1vR"
   },
   "source": [
    "Anyone familiar with contour plots? You've seen it in maps with landscape features."
   ]
  },
  {
   "cell_type": "code",
   "execution_count": null,
   "metadata": {
    "id": "vVuLOEdMZ1vR"
   },
   "outputs": [],
   "source": [
    "sns.jointplot(data=df, x='BMI', y='SkinThickness', kind=\"kde\", height=7);"
   ]
  },
  {
   "cell_type": "markdown",
   "metadata": {
    "id": "u5EuI4i8Z1vS"
   },
   "source": [
    "### Pairs of Features in a Plot Grid"
   ]
  },
  {
   "cell_type": "code",
   "execution_count": null,
   "metadata": {
    "id": "E5zZehcnZ1vS"
   },
   "outputs": [],
   "source": [
    "cols = [ 'Glucose', 'BMI', 'SkinThickness', 'BloodPressure' ]\n",
    "mask = (pima_df['Glucose']>0) & (pima_df['BloodPressure']>0) & \\\n",
    "    (pima_df['SkinThickness']>0) & (pima_df['BMI']>0)\n",
    "df = pima_df.loc[ mask, cols ]\n",
    "sns.pairplot(df, height=3);"
   ]
  },
  {
   "cell_type": "code",
   "execution_count": null,
   "metadata": {
    "id": "_x3e4EC-Z1vS"
   },
   "outputs": [],
   "source": [
    "sns.pairplot(df, height=3, plot_kws=dict(alpha=0.3));"
   ]
  },
  {
   "cell_type": "code",
   "execution_count": null,
   "metadata": {
    "id": "9XbTdCyEZ1vS"
   },
   "outputs": [],
   "source": [
    "sns.pairplot(df, height=3, kind=\"reg\");"
   ]
  },
  {
   "cell_type": "markdown",
   "metadata": {
    "id": "ZoKRXPvrZ1vS"
   },
   "source": [
    "Please don't worry too much about the following right now, as it will be revisited later, but we can quickly obtain some **objective metrics** that quantify the relationship of pairs of features. Here, the strength of association is between **-1** and **1**; the absolute value tells us about its strength and the sign, its direction. Roughly, ~0.7,0.8 is strong, ~0.4,0.5 is moderate, ~0.2 is weak."
   ]
  },
  {
   "cell_type": "code",
   "execution_count": null,
   "metadata": {
    "id": "8IfXdETcZ1vS"
   },
   "outputs": [],
   "source": [
    "df.corr()"
   ]
  },
  {
   "cell_type": "markdown",
   "metadata": {
    "id": "EvgAKbR0Z1vS"
   },
   "source": [
    "### Adding a Third, Categorical Feature\n",
    "\n",
    "Use **colour** (`hue`) as a third dimension:"
   ]
  },
  {
   "cell_type": "code",
   "execution_count": 59,
   "metadata": {
    "id": "7P-ZAG4FZ1vS"
   },
   "outputs": [
    {
     "data": {
      "image/png": "[encoded data removed]",
      "text/plain": [
       "<Figure size 792x504 with 1 Axes>"
      ]
     },
     "metadata": {
      "image/png": {
       "height": 429,
       "width": 671
      }
     },
     "output_type": "display_data"
    }
   ],
   "source": [
    "cols = [ 'Glucose', 'BMI', 'SkinThickness', 'BloodPressure', 'Outcome_cat' ]\n",
    "mask = (pima_df['Glucose']>0) & (pima_df['BloodPressure']>0) & \\\n",
    "    (pima_df['SkinThickness']>0) & (pima_df['BMI']>0)\n",
    "df = pima_df.loc[ mask, cols ]\n",
    "sns.scatterplot(data=df, x='BMI', y='SkinThickness', hue='Outcome_cat');"
   ]
  },
  {
   "cell_type": "code",
   "execution_count": null,
   "metadata": {
    "id": "ROJn3vZyZ1vS"
   },
   "outputs": [],
   "source": [
    "sns.pairplot(data=df, hue='Outcome_cat', height=3.5);"
   ]
  },
  {
   "cell_type": "markdown",
   "metadata": {
    "id": "C79a0K0hZ1vS"
   },
   "source": [
    "What do the plots in the diagonal tell us?"
   ]
  },
  {
   "cell_type": "markdown",
   "metadata": {
    "id": "_LZQ-CvIZ1vS"
   },
   "source": [
    "### One Categorical, One Quantitative Feature"
   ]
  },
  {
   "cell_type": "code",
   "execution_count": null,
   "metadata": {
    "id": "04WbofvlZ1vS"
   },
   "outputs": [],
   "source": [
    "plt.figure(figsize=(12/1.5,8/1.5))\n",
    "sns.boxplot(pima_df.loc[pima_df['Glucose']>0, 'Glucose']);"
   ]
  },
  {
   "cell_type": "code",
   "execution_count": null,
   "metadata": {
    "id": "gQYwfl85Z1vV"
   },
   "outputs": [],
   "source": [
    "sns.boxplot(x='Outcome_cat', y='Glucose', data=pima_df.loc[pima_df['Glucose']>0]);"
   ]
  },
  {
   "cell_type": "code",
   "execution_count": null,
   "metadata": {
    "id": "NqnTe5H5Z1vV"
   },
   "outputs": [],
   "source": [
    "plt.figure(figsize=(12/1.2,8/1.2))\n",
    "sns.boxplot(x='year', y='lifeExp', data=gm_df.loc[ gm_df['continent']=='Europe' ]);"
   ]
  },
  {
   "cell_type": "markdown",
   "metadata": {
    "id": "6CDhrQkqZ1vV"
   },
   "source": [
    "What are those outliers?"
   ]
  },
  {
   "cell_type": "code",
   "execution_count": null,
   "metadata": {
    "id": "CWOKA9pLZ1vV"
   },
   "outputs": [],
   "source": [
    "gm_df.loc[ gm_df['continent']=='Europe' ].loc[ gm_df['lifeExp']<50 ]"
   ]
  },
  {
   "cell_type": "code",
   "execution_count": null,
   "metadata": {
    "id": "g6lacQKiZ1vV"
   },
   "outputs": [],
   "source": [
    "sns.violinplot(pima_df['Glucose'], height=8/1.5, aspect=8/5);"
   ]
  },
  {
   "cell_type": "code",
   "execution_count": null,
   "metadata": {
    "id": "sKHNz0ztZ1vV"
   },
   "outputs": [],
   "source": [
    "sns.violinplot(x='Outcome_cat', y='Glucose', data=pima_df);"
   ]
  },
  {
   "cell_type": "code",
   "execution_count": null,
   "metadata": {
    "id": "cLidvWvHZ1vV"
   },
   "outputs": [],
   "source": [
    "sns.violinplot(x='year', y='lifeExp', data=gm_df);"
   ]
  },
  {
   "cell_type": "code",
   "execution_count": null,
   "metadata": {
    "id": "KTPsezQIZ1vV"
   },
   "outputs": [],
   "source": [
    "sns.stripplot(x='year', y='lifeExp', data=gm_df, jitter=True);"
   ]
  },
  {
   "cell_type": "code",
   "execution_count": null,
   "metadata": {
    "id": "bd2jihPoZ1vV"
   },
   "outputs": [],
   "source": [
    "cur_ax = sns.boxplot(x='year', y='lifeExp', data=gm_df)\n",
    "sns.stripplot(x='year', y='lifeExp', data=gm_df, jitter=True, linewidth=0.5, ax=cur_ax);"
   ]
  },
  {
   "cell_type": "code",
   "execution_count": null,
   "metadata": {
    "id": "qRgni48iZ1vV"
   },
   "outputs": [],
   "source": [
    "sns.stripplot(x='year', y='lifeExp', data=gm_df, hue='continent', jitter=True);"
   ]
  },
  {
   "cell_type": "markdown",
   "metadata": {
    "id": "W0DFOAyAZ1vV"
   },
   "source": [
    "Again - what are those outliers?"
   ]
  },
  {
   "cell_type": "code",
   "execution_count": null,
   "metadata": {
    "id": "FPh-0ltsZ1vV"
   },
   "outputs": [],
   "source": [
    "gm_df.query('year==1977 and lifeExp<40')"
   ]
  },
  {
   "cell_type": "markdown",
   "metadata": {
    "id": "IhqaBk5KZ1vV"
   },
   "source": [
    "### Two Categorical Features"
   ]
  },
  {
   "cell_type": "code",
   "execution_count": null,
   "metadata": {
    "id": "gitQ9DoUZ1vV"
   },
   "outputs": [],
   "source": [
    "pima_df.groupby(by=['Outcome_cat', 'BMI_cat']).size().unstack()"
   ]
  },
  {
   "cell_type": "code",
   "execution_count": null,
   "metadata": {
    "id": "1WsE-_NHZ1vV"
   },
   "outputs": [],
   "source": [
    "pima_df.groupby(by=['Outcome_cat', 'BMI_cat']).size().unstack().plot.bar();"
   ]
  },
  {
   "cell_type": "code",
   "execution_count": null,
   "metadata": {
    "id": "0d1pTa-JZ1vW"
   },
   "outputs": [],
   "source": [
    "pima_df.groupby(by=['Outcome_cat', 'BMI_cat']).size().unstack().plot.bar(stacked=True);"
   ]
  },
  {
   "cell_type": "code",
   "execution_count": null,
   "metadata": {
    "id": "twYLKEK1Z1vW"
   },
   "outputs": [],
   "source": [
    "sns.countplot(data=pima_df, x='BMI_cat', hue='Outcome_cat');"
   ]
  },
  {
   "cell_type": "code",
   "execution_count": null,
   "metadata": {
    "id": "77Kr2IO0Z1vW"
   },
   "outputs": [],
   "source": [
    "sns.catplot(data=pima_df, x='Outcome_cat', col='BMI_cat', kind=\"count\", col_wrap=2);"
   ]
  },
  {
   "cell_type": "code",
   "execution_count": null,
   "metadata": {
    "id": "E2BOOnQcZ1vW"
   },
   "outputs": [],
   "source": [
    "sns.catplot(\n",
    "    data=pima_df, \n",
    "    col='Outcome_cat', \n",
    "    y='BMI_cat', \n",
    "    kind=\"count\", \n",
    "    col_wrap=2,\n",
    ");"
   ]
  },
  {
   "cell_type": "markdown",
   "metadata": {
    "id": "N-OOZszdZ1vW"
   },
   "source": [
    "## Checkpoint\n",
    "\n",
    "Perform a similar exploratory data analysis, using different combinations of quantitative and categorical features, on the `titanic` dataset. For a richer set of features, you might want to use `seaborn`'s build-in version of the data:"
   ]
  },
  {
   "cell_type": "code",
   "execution_count": null,
   "metadata": {
    "id": "mlUAuS2eZ1vW"
   },
   "outputs": [],
   "source": [
    "titanic_df = sns.load_dataset('titanic')"
   ]
  },
  {
   "cell_type": "code",
   "execution_count": null,
   "metadata": {
    "id": "88020K2lZ1vW"
   },
   "outputs": [],
   "source": [
    "titanic_df.head()"
   ]
  },
  {
   "cell_type": "code",
   "execution_count": null,
   "metadata": {
    "id": "BpWQDq69Z1vW"
   },
   "outputs": [],
   "source": []
  }
 ],
 "metadata": {
  "colab": {
   "collapsed_sections": [],
   "name": "GM_AI_Foundry-data_mnpl_expl_python_workshop-May21.ipynb",
   "provenance": [],
   "toc_visible": true
  },
  "kernelspec": {
   "display_name": "Python 3",
   "language": "python",
   "name": "python3"
  },
  "language_info": {
   "codemirror_mode": {
    "name": "ipython",
    "version": 3
   },
   "file_extension": ".py",
   "mimetype": "text/x-python",
   "name": "python",
   "nbconvert_exporter": "python",
   "pygments_lexer": "ipython3",
   "version": "3.8.8"
  }
 },
 "nbformat": 4,
 "nbformat_minor": 4
}

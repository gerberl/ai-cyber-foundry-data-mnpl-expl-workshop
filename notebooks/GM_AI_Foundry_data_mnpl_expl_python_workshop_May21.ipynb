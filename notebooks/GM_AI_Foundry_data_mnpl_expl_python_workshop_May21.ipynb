{
  "nbformat": 4,
  "nbformat_minor": 0,
  "metadata": {
    "colab": {
      "name": "GM_AI_Foundry-data_mnpl_expl_python_workshop-May21.ipynb",
      "provenance": [],
      "collapsed_sections": [],
      "toc_visible": true
    },
    "kernelspec": {
      "name": "python3",
      "display_name": "Python 3"
    },
    "language_info": {
      "name": "python"
    }
  },
  "cells": [
    {
      "cell_type": "markdown",
      "metadata": {
        "id": "G4GdhWM2EjBo"
      },
      "source": [
        "# AI/Cyber Foundry Workshop on Practical Data Manipulation and Exploration with Python (28-May-2021)"
      ]
    },
    {
      "cell_type": "markdown",
      "metadata": {
        "id": "hyHlXjFeFGsI"
      },
      "source": [
        "## Preamble: Required Modules, Configuration, ...\n",
        "\n",
        "* Firstly, we should import some essential modules for manipulating and visualising datasets; also, do some very basic configuration of the visualisation engine running behind the scenes."
      ]
    },
    {
      "cell_type": "code",
      "metadata": {
        "id": "BpOnOwz0FQWP"
      },
      "source": [
        "%matplotlib inline\n",
        "import numpy as np\n",
        "import pandas as pd\n",
        "import matplotlib.pyplot as plt\n",
        "import seaborn as sns\n",
        "import pandas as pd\n",
        "import seaborn as sns\n",
        "sns.set(style=\"ticks\", color_codes=True)\n",
        "sns.set_context(\"notebook\")\n",
        "sns.set({ \"figure.figsize\": (11,7) })\n",
        "%config InlineBackend.figure_format = 'retina' "
      ],
      "execution_count": null,
      "outputs": []
    },
    {
      "cell_type": "markdown",
      "metadata": {
        "id": "bZVR1cB9FWKI"
      },
      "source": [
        "## A First Quick Pass with GapMinder as Case Study"
      ]
    },
    {
      "cell_type": "markdown",
      "metadata": {
        "id": "nDmoudApHgra"
      },
      "source": [
        "We will make use of the simplified [`gapminder` dataset](https://github.com/jennybc/gapminder/blob/master/inst/extdata/gapminder.tsv)), which concerns records of population, life expectancy, and GDP of countries spanning some 50 years. You might want to have a look at the dataset rendered at the GitHub link and browse its structure and content for a quick understanding of the data.\n",
        "\n",
        "* It is a tab-separated value (`.tsv`) text file. One is able to see it raw [here](https://github.com/jennybc/gapminder/blob/master/inst/extdata/gapminder.tsv?raw=True).\n",
        "\n",
        "* For more on `gapminder`, you might want to check some of [Hans Rosling's TED talks](https://www.ted.com/playlists/474/the_best_hans_rosling_talks_yo) or the book [Factfulness: Ten Reasons We're Wrong About the World--and Why Things Are Better Than You Think](https://g.co/kgs/bEBSWN).\n"
      ]
    },
    {
      "cell_type": "markdown",
      "metadata": {
        "id": "TsWSD6FjFyYa"
      },
      "source": [
        "A Data Science question: How does the data distribution of life expectancy varies over the ~50 years of observations? Are there any clear trends or patterns? Anything unusual about the data?\n",
        "\n",
        "* It is absolutely fine, and expected, that we won't understand all of the code involved. For the moment, let us think more broadly about the goal of each cell; later, and iteratively, we will revisit the code and unpack things.\n",
        "\n"
      ]
    },
    {
      "cell_type": "markdown",
      "metadata": {
        "id": "bYSY4UgMzlr4"
      },
      "source": [
        "\n",
        "Firstly, we ask `pandas` to read the data file and instantiate a **DataFrame** object, which we assign to the variable named `gm` for later reference.\n",
        "\n",
        "* The URL to the data file, provided as an **argument** to `.read_csv`, should be enclosed by a pair of single quotes (you might want to copy the link to the raw data from a previous slide).\n",
        "\n",
        "* `sep=\\t` indicates that the data is tab-separated (rather the comma-separated)\n"
      ]
    },
    {
      "cell_type": "code",
      "metadata": {
        "id": "fGSIXTfjzw3v"
      },
      "source": [
        "gm_df = pd.read_csv(\n",
        "    'https://github.com/jennybc/gapminder/blob/master/inst/extdata/gapminder.tsv?raw=True',\n",
        "    sep='\\t'\n",
        ")"
      ],
      "execution_count": null,
      "outputs": []
    },
    {
      "cell_type": "markdown",
      "metadata": {
        "id": "iUuSU0DhztoY"
      },
      "source": [
        "Let us inspect the data by, say, just take a few of the top rows.\n"
      ]
    },
    {
      "cell_type": "code",
      "metadata": {
        "id": "bOzI1xvlz4jw"
      },
      "source": [
        "gm_df.head(5)"
      ],
      "execution_count": null,
      "outputs": []
    },
    {
      "cell_type": "markdown",
      "metadata": {
        "id": "WrbBG-e7z6Oo"
      },
      "source": [
        "Could we obtain which years have observations been recorded for?\n"
      ]
    },
    {
      "cell_type": "code",
      "metadata": {
        "id": "nOhTIGdb0KdX"
      },
      "source": [
        "gm_df['year'].value_counts()"
      ],
      "execution_count": null,
      "outputs": []
    },
    {
      "cell_type": "markdown",
      "metadata": {
        "id": "5PewnFCk0MVI"
      },
      "source": [
        "A series of boxplots on `Life Expectancy`, one for each `Year`, could tell us something about our original question.\n"
      ]
    },
    {
      "cell_type": "code",
      "metadata": {
        "id": "BzJCOqpS0lmr"
      },
      "source": [
        "ax = sns.boxplot(x='year', y='lifeExp', showmeans=True, data=gm_df)\n",
        "ax.set_ylabel('Life Expectancy')\n",
        "ax.set_xlabel('Year');"
      ],
      "execution_count": null,
      "outputs": []
    },
    {
      "cell_type": "markdown",
      "metadata": {
        "id": "Gqfn4ADw0peh"
      },
      "source": [
        "### Quick Checkpoint\n",
        "\n",
        "* In a new text cell (below the chart, I'd suggest) write discuss what are the findings that can be extracted. Would you have an explanation as to why sometimes the mean is above the median but, other times, below?\n",
        "\n",
        "* We have used `.head()` to inspect the initial rows of the dataset for a quick inspection. Similarly, now, add a cell for producing a random sample of 5 rows (tip: `.sample()`) and another for looking into the last 12 rows (tip: `.tail()`)."
      ]
    },
    {
      "cell_type": "markdown",
      "metadata": {
        "id": "EhQ3tmWZGkTx"
      },
      "source": [
        "## Data Understanding, Subsetting, and Sorting with the GapMinder Dataset"
      ]
    },
    {
      "cell_type": "markdown",
      "metadata": {
        "id": "rMkwsp2Z1PiG"
      },
      "source": [
        "\n",
        "\n",
        "* This section's main takeaways are:\n",
        "\n",
        "    - Using `pandas` for data understanding, subsetting, and sorting.\n",
        "\n",
        "    - Gaining some familiarity with the fundamentals of DataFrames and the essential Python needed.\n",
        "\n",
        "    - Making use of the `gapminder` dataset introduced as case study.\n",
        "\n",
        "    - Importing and loading data (e.g., via `.read_csv()`).\n",
        "\n",
        "    - **Dataframes** as tabular structures with **rows** and **columns**.\n",
        "\n",
        "    - Rows and columns are associated with **indices**; indices contain **labels**. One can think of each label being a name to a column (i.e., a header) or to a row (i.e., a row number).\n",
        "\n",
        "    - Subsetting with `[]` and `.loc[]`.\n",
        "\n",
        "    - Obtaining quick data summaries with `.describe()`, `.unique()`, and `.value_counts()`.\n",
        "\n",
        "    - Sorting rows, and selecting top/bottom rows.\n",
        "\n",
        "\n",
        "* Selected sections of the Python Data Science Handbook that could be useful as support material are:\n",
        "    * Introducing Pandas Objects\n",
        "    * Data Indexing and Selection\n",
        "    * Operations On Data In Pandas  \n"
      ]
    },
    {
      "cell_type": "markdown",
      "metadata": {
        "id": "hQ3Smn7d2l8p"
      },
      "source": [
        "### Loading, and Quick Inspection of the Data"
      ]
    },
    {
      "cell_type": "markdown",
      "metadata": {
        "id": "yhDf2tKZ2l8q"
      },
      "source": [
        "Right - let us have a quick look at the dataset. Typically, some data inspection is performed at early stages of a data science project or pipeline."
      ]
    },
    {
      "cell_type": "markdown",
      "metadata": {
        "id": "pCDDT_aA2l8q"
      },
      "source": [
        "Firstly, we use `pandas` to read the file and instantiate a **DataFrame** object that we will use to manipulate the dataset."
      ]
    },
    {
      "cell_type": "code",
      "metadata": {
        "id": "mR9GToxr2l8r"
      },
      "source": [
        "dataset_location = 'https://github.com/jennybc/gapminder/blob/master/inst/extdata/gapminder.tsv?raw=True'\n",
        "\n",
        "gm_df = pd.read_csv(\n",
        "    dataset_location,\n",
        "    sep='\\t'\n",
        ")"
      ],
      "execution_count": null,
      "outputs": []
    },
    {
      "cell_type": "markdown",
      "metadata": {
        "id": "iqaPEBXy2l8t"
      },
      "source": [
        "What follows are some variations on getting familiar with the data with some simple inspection that relies on DataFrame **methods**."
      ]
    },
    {
      "cell_type": "code",
      "metadata": {
        "id": "aqFg_4eH2l8t"
      },
      "source": [
        "gm_df.head()"
      ],
      "execution_count": null,
      "outputs": []
    },
    {
      "cell_type": "code",
      "metadata": {
        "id": "1QrFSh-r2l8v"
      },
      "source": [
        "gm_df.sample()"
      ],
      "execution_count": null,
      "outputs": []
    },
    {
      "cell_type": "code",
      "metadata": {
        "id": "WErrji2w2l8x"
      },
      "source": [
        "gm_df.sample(5)"
      ],
      "execution_count": null,
      "outputs": []
    },
    {
      "cell_type": "code",
      "metadata": {
        "id": "ea7zjIvH2l8z"
      },
      "source": [
        "gm_df.tail(12)"
      ],
      "execution_count": null,
      "outputs": []
    },
    {
      "cell_type": "code",
      "metadata": {
        "id": "8KChYPiG601Z"
      },
      "source": [
        "gm_df"
      ],
      "execution_count": null,
      "outputs": []
    },
    {
      "cell_type": "markdown",
      "metadata": {
        "id": "9Kcsidiu2l81"
      },
      "source": [
        "**checkpoint**: say we would like to inspect the first 20 rows, and sample at least 10 observations from the dataset. Please write the corresponding code."
      ]
    },
    {
      "cell_type": "code",
      "metadata": {
        "id": "5TgQ3GYs_Nll"
      },
      "source": [
        "gm_df.head(20)\n",
        "gm_df.sample(10)"
      ],
      "execution_count": null,
      "outputs": []
    },
    {
      "cell_type": "code",
      "metadata": {
        "id": "f7Yhbtc-94KD"
      },
      "source": [
        "# this is an example of a pipeline - the output of .head() becomes the input\n",
        "# of .sample()\n",
        "gm_df.head(20).sample(10)"
      ],
      "execution_count": null,
      "outputs": []
    },
    {
      "cell_type": "markdown",
      "metadata": {
        "id": "Zq0x7kd92l82"
      },
      "source": [
        "### Subsetting DataFrames by Specifying Row and Column Labels"
      ]
    },
    {
      "cell_type": "markdown",
      "metadata": {
        "id": "CopQwh0m2l82"
      },
      "source": [
        "**Dataframes** are **objects** that can be seen as tabular structures with **rows** and **columns**. Rows and columns are associated with **indices**, and indices contain **labels**. One can think of each label being a name of a column (i.e., a header) or of a row (i.e., a row number). \n",
        "\n",
        "Accessing individual rows and columns is achieved via the operator `[]` or the method `.loc[]`.\n",
        "\n",
        "In many scenarios, the application of a method such as `.head()` or `.loc[]` on a DataFrame returns a new DataFrame object (or view of an object, but let us not worry about this right now)."
      ]
    },
    {
      "cell_type": "code",
      "metadata": {
        "id": "Kz_DSI6tAyl2"
      },
      "source": [
        "gm_df.head()"
      ],
      "execution_count": null,
      "outputs": []
    },
    {
      "cell_type": "code",
      "metadata": {
        "id": "gdRD8Rod2l82"
      },
      "source": [
        "gm_df['year'].head()"
      ],
      "execution_count": null,
      "outputs": []
    },
    {
      "cell_type": "code",
      "metadata": {
        "id": "ezwrn6q22l84"
      },
      "source": [
        "gm_df.head()['year']"
      ],
      "execution_count": null,
      "outputs": []
    },
    {
      "cell_type": "code",
      "metadata": {
        "id": "7xcFFe6J2l86"
      },
      "source": [
        "gm_df.loc[0]"
      ],
      "execution_count": null,
      "outputs": []
    },
    {
      "cell_type": "code",
      "metadata": {
        "id": "fK5TxgHq2l88"
      },
      "source": [
        "gm_df.loc[0, 'lifeExp']"
      ],
      "execution_count": null,
      "outputs": []
    },
    {
      "cell_type": "code",
      "metadata": {
        "id": "SXDeUms12l8-"
      },
      "source": [
        "gm_df.loc[0]['lifeExp']"
      ],
      "execution_count": null,
      "outputs": []
    },
    {
      "cell_type": "markdown",
      "metadata": {
        "id": "ssfv75cY2l9B"
      },
      "source": [
        "Instead of using a single row or column label, one can provide **a list** of labels."
      ]
    },
    {
      "cell_type": "code",
      "metadata": {
        "id": "I0k153n42l9B"
      },
      "source": [
        "gm_df.loc[ [0,12,24] ]"
      ],
      "execution_count": null,
      "outputs": []
    },
    {
      "cell_type": "code",
      "metadata": {
        "id": "3yFgi6V-2l9D"
      },
      "source": [
        "gm_df[ ['country', 'year', 'lifeExp'] ]"
      ],
      "execution_count": null,
      "outputs": []
    },
    {
      "cell_type": "code",
      "metadata": {
        "id": "-IKEa7102l9F"
      },
      "source": [
        "gm_df.loc[ [0,12,24], ['country', 'year', 'lifeExp'] ]"
      ],
      "execution_count": null,
      "outputs": []
    },
    {
      "cell_type": "code",
      "metadata": {
        "id": "BoS6BfnL2l9H"
      },
      "source": [
        "gm_df.loc[    [  0  ]    ]"
      ],
      "execution_count": null,
      "outputs": []
    },
    {
      "cell_type": "code",
      "metadata": {
        "id": "j0yhheum2l9J"
      },
      "source": [
        "gm_df.loc[0]"
      ],
      "execution_count": null,
      "outputs": []
    },
    {
      "cell_type": "markdown",
      "metadata": {
        "id": "rnxp-wMW2l9H"
      },
      "source": [
        "The two cells above are not quite equivalent - we shouldn't worry too much about the distinction at this stage. But we should say that one returns a two-dimensional DataFrame and the other a **uni-dimensional DataFrame** (referred to as a `pandas` **Series**), if you'd like."
      ]
    },
    {
      "cell_type": "markdown",
      "metadata": {
        "id": "Ax1C6IGC2l9L"
      },
      "source": [
        "**checkpoint**: it is a good idea to practice some of the above. You could write code cells that do the following:\n",
        "\n",
        "* produce a DataFrame with only the columns `year` and `pop`. For conciseness, you can simply take the `.head()` of the result.\n",
        "* obtain a DataFrame with the rows with labels `10`, `20`, `100`, and `1000` - for no particular reason, rather than just trying out subsetting expressions.\n",
        "* finally, a DataFrame for the subset of columns and rows expressed above."
      ]
    },
    {
      "cell_type": "code",
      "metadata": {
        "id": "spqsmiuwH4ao"
      },
      "source": [
        "columns_I_am_interested = [ 'year', 'pop' ]\n",
        "gm_df[ columns_I_am_interested ]"
      ],
      "execution_count": null,
      "outputs": []
    },
    {
      "cell_type": "code",
      "metadata": {
        "id": "GYgAfOSkIlD9"
      },
      "source": [
        "gm_df.loc[ [10,20,100,1000], ['year','pop'] ]"
      ],
      "execution_count": null,
      "outputs": []
    },
    {
      "cell_type": "markdown",
      "metadata": {
        "id": "1GzfZrgM2l9L"
      },
      "source": [
        "By the way, one could also use **ranges of labels**, rather than listing every single one were are interesting in:"
      ]
    },
    {
      "cell_type": "code",
      "metadata": {
        "id": "5dFh4SKA2l9L"
      },
      "source": [
        "gm_df.loc[0:5]"
      ],
      "execution_count": null,
      "outputs": []
    },
    {
      "cell_type": "code",
      "metadata": {
        "id": "a4e9NWFv2l9N"
      },
      "source": [
        "gm_df.loc[0:5, 'lifeExp':'gdpPercap']"
      ],
      "execution_count": null,
      "outputs": []
    },
    {
      "cell_type": "markdown",
      "metadata": {
        "id": "qVqkUyjf2l9P"
      },
      "source": [
        "One can omit the beginning and/or the end of the range:"
      ]
    },
    {
      "cell_type": "code",
      "metadata": {
        "id": "_ri8NenY2l9P"
      },
      "source": [
        "gm_df.loc[1700:]"
      ],
      "execution_count": null,
      "outputs": []
    },
    {
      "cell_type": "code",
      "metadata": {
        "id": "6OmRooft2l9R"
      },
      "source": [
        "gm_df.loc[1700:, 'lifeExp':]"
      ],
      "execution_count": null,
      "outputs": []
    },
    {
      "cell_type": "code",
      "metadata": {
        "id": "qdoaxL5h2l9S"
      },
      "source": [
        "gm_df.loc[:, 'lifeExp':]"
      ],
      "execution_count": null,
      "outputs": []
    },
    {
      "cell_type": "markdown",
      "metadata": {
        "id": "OcV6Uuoz2l9U"
      },
      "source": [
        "**checkpoint**: perhaps you would like to play with code on ranges above and try some alternatives?"
      ]
    },
    {
      "cell_type": "code",
      "metadata": {
        "id": "uXwge_YO4DQU"
      },
      "source": [
        "a_list_of_values = [ 10, 20, 30, 40, 50]\n",
        "a_list_of_values[0:2]"
      ],
      "execution_count": null,
      "outputs": []
    },
    {
      "cell_type": "code",
      "metadata": {
        "id": "6latRpdJ4tup"
      },
      "source": [
        "gm_df.loc[0:2]"
      ],
      "execution_count": null,
      "outputs": []
    },
    {
      "cell_type": "markdown",
      "metadata": {
        "id": "ts9tLnsn2l9V"
      },
      "source": [
        "### Subsetting DataFrames with Logical Conditions"
      ]
    },
    {
      "cell_type": "markdown",
      "metadata": {
        "id": "pItMgjFT2l9V"
      },
      "source": [
        "If I am interested in only those latest observations dated of 2007..."
      ]
    },
    {
      "cell_type": "markdown",
      "metadata": {
        "id": "YwCj-rX92l9V"
      },
      "source": [
        "One of the options is to use the method `.query()` - it can be more intuitive than our second option, but more limited, perhaps."
      ]
    },
    {
      "cell_type": "code",
      "metadata": {
        "id": "-PF2mobQ2l9W"
      },
      "source": [
        "gm_df.query(\"year==2007\").head(1)"
      ],
      "execution_count": null,
      "outputs": []
    },
    {
      "cell_type": "markdown",
      "metadata": {
        "id": "ym9_hney2l9Y"
      },
      "source": [
        "Quite commonly, Python data scientists will use **boolean masks** (in other words, vectors of True/False values). I am only using `.head()` to supress the output of too many rows - this is typical strategy in inspecting data and expressions."
      ]
    },
    {
      "cell_type": "code",
      "metadata": {
        "id": "RVtRXWYA2l9Z"
      },
      "source": [
        "gm_df.loc[ gm_df['year']==2007 ]"
      ],
      "execution_count": null,
      "outputs": []
    },
    {
      "cell_type": "code",
      "metadata": {
        "id": "MXPKAM8g2l9b"
      },
      "source": [
        "gm_df['year']==2007"
      ],
      "execution_count": null,
      "outputs": []
    },
    {
      "cell_type": "markdown",
      "metadata": {
        "id": "RYqs4ktn2l9c"
      },
      "source": [
        "How about which countries have had life expectancy equals to or greater than 80 years?"
      ]
    },
    {
      "cell_type": "code",
      "metadata": {
        "id": "I-S1140C2l9d"
      },
      "source": [
        "gm_df.loc[ gm_df['lifeExp']>=80 ]"
      ],
      "execution_count": null,
      "outputs": []
    },
    {
      "cell_type": "markdown",
      "metadata": {
        "id": "IY9XlFAl2l9e"
      },
      "source": [
        "OK, some countries appear more than once. Can I get a quick list of unique country names? Yes, I can. It is worth emphasising that can **chain** DataFrame-producing statements, creating pipelines. The output of one method becomes the input of another."
      ]
    },
    {
      "cell_type": "code",
      "metadata": {
        "id": "2Sk4nQeo2l9e"
      },
      "source": [
        "gm_df.loc[ gm_df['lifeExp']>=80 ]['country'].drop_duplicates()"
      ],
      "execution_count": null,
      "outputs": []
    },
    {
      "cell_type": "markdown",
      "metadata": {
        "id": "G0iTcA-Q2l9g"
      },
      "source": [
        "Confusing? You can split a single statement into several lines, by assigning intermediate results to variables."
      ]
    },
    {
      "cell_type": "code",
      "metadata": {
        "id": "Wh2qH3832l9g"
      },
      "source": [
        "# the subset of data for life expectancy equal to or greater than 80 years\n",
        "gm_gte80_df = gm_df.loc[ gm_df['lifeExp']>=80 ]\n",
        "gm_gte80_country_df = gm_gte80_df[ ['country'] ]\n",
        "gm_gte80_country_df.drop_duplicates()"
      ],
      "execution_count": null,
      "outputs": []
    },
    {
      "cell_type": "markdown",
      "metadata": {
        "id": "DTT9KDRj2l9i"
      },
      "source": [
        "**checkpoint**: could you write Code cells for retrieving the following subsets of data?\n",
        "\n",
        "* all the observations in 1952.\n",
        "* all those that have a GDP-per-capita greater than US$30K.\n",
        "* are there any instances where life expectancy was lower than 30 years?"
      ]
    },
    {
      "cell_type": "code",
      "metadata": {
        "id": "X3BipDaz-w1x"
      },
      "source": [
        "gm_df.loc[ gm_df['year']==1952 ]"
      ],
      "execution_count": null,
      "outputs": []
    },
    {
      "cell_type": "code",
      "metadata": {
        "id": "4sbM650T-8-j"
      },
      "source": [
        "gm_df.loc[ gm_df['gdpPercap']>30000 ]"
      ],
      "execution_count": null,
      "outputs": []
    },
    {
      "cell_type": "code",
      "metadata": {
        "id": "X-JaY94O_Yg-"
      },
      "source": [
        "gm_df.loc[ gm_df['lifeExp'] < 30 ]"
      ],
      "execution_count": null,
      "outputs": []
    },
    {
      "cell_type": "markdown",
      "metadata": {
        "id": "tvrw4DAg2l9j"
      },
      "source": [
        "### DataFrame Shape"
      ]
    },
    {
      "cell_type": "code",
      "metadata": {
        "id": "DAk0M6kS2l9j"
      },
      "source": [
        "gm_df.shape"
      ],
      "execution_count": null,
      "outputs": []
    },
    {
      "cell_type": "code",
      "metadata": {
        "id": "rp3rsy-L2l9k"
      },
      "source": [
        "len(gm_df)"
      ],
      "execution_count": null,
      "outputs": []
    },
    {
      "cell_type": "code",
      "metadata": {
        "id": "q7X9vBbZ2l9m"
      },
      "source": [
        "gm_df.shape[0]"
      ],
      "execution_count": null,
      "outputs": []
    },
    {
      "cell_type": "code",
      "metadata": {
        "id": "f_3wjdEs2l9o"
      },
      "source": [
        "gm_df.shape[1]"
      ],
      "execution_count": null,
      "outputs": []
    },
    {
      "cell_type": "markdown",
      "metadata": {
        "id": "2nUcOiUL2l9p"
      },
      "source": [
        "### Subsetting DataFrames: Multiple Conditions"
      ]
    },
    {
      "cell_type": "markdown",
      "metadata": {
        "id": "GKR4lhNC2l9p"
      },
      "source": [
        "Trust me - you will need the brackets to make sure that the evaluation order is correct."
      ]
    },
    {
      "cell_type": "code",
      "metadata": {
        "id": "Q13n961k2l9q"
      },
      "source": [
        "gm_df.loc[ (gm_df['year']==1952) & (gm_df['lifeExp']>70) ]"
      ],
      "execution_count": null,
      "outputs": []
    },
    {
      "cell_type": "code",
      "metadata": {
        "id": "SW-l3Js22l9r"
      },
      "source": [
        "gm_df.loc[ (gm_df['year']==2007) & (gm_df['lifeExp']>70) ]"
      ],
      "execution_count": null,
      "outputs": []
    },
    {
      "cell_type": "markdown",
      "metadata": {
        "id": "rm_ecFkn2l9t"
      },
      "source": [
        "Would you to like to know how many? `.shape` or `len` will help you here."
      ]
    },
    {
      "cell_type": "code",
      "metadata": {
        "id": "0p0o7Jd82l9t"
      },
      "source": [
        "the_subset_df = gm_df.loc[ (gm_df['year']==1952) & (gm_df['lifeExp']>70) ]\n",
        "len(the_subset_df)"
      ],
      "execution_count": null,
      "outputs": []
    },
    {
      "cell_type": "code",
      "metadata": {
        "id": "xAkUbYiG2l9w"
      },
      "source": [
        "the_subset_df = gm_df.loc[ (gm_df['year']==2007) & (gm_df['lifeExp']>70) ]\n",
        "len(the_subset_df)"
      ],
      "execution_count": null,
      "outputs": []
    },
    {
      "cell_type": "markdown",
      "metadata": {
        "id": "GiV4a87w2l9x"
      },
      "source": [
        "What is a suitable interpretation of these next two pieces of code?"
      ]
    },
    {
      "cell_type": "code",
      "metadata": {
        "id": "D1icT25r2l9y"
      },
      "source": [
        "gm_df.loc[ (gm_df['lifeExp']>=78) & (gm_df['lifeExp']<=80) ].head()"
      ],
      "execution_count": null,
      "outputs": []
    },
    {
      "cell_type": "code",
      "metadata": {
        "id": "0iQxEy_K2l91"
      },
      "source": [
        "gm_df.loc[ (gm_df['lifeExp']<30) | (gm_df['lifeExp']>81) ]"
      ],
      "execution_count": null,
      "outputs": []
    },
    {
      "cell_type": "markdown",
      "metadata": {
        "id": "RMPHM33Z2l92"
      },
      "source": [
        "### Sorting the Rows of a DataFrame"
      ]
    },
    {
      "cell_type": "code",
      "metadata": {
        "jupyter": {
          "outputs_hidden": true
        },
        "id": "vi_j394b2l92"
      },
      "source": [
        "# inline documentation on a method? Use the exclamation mark\n",
        "gm_df.sort_values?"
      ],
      "execution_count": null,
      "outputs": []
    },
    {
      "cell_type": "code",
      "metadata": {
        "id": "28vnBS5Y2l94"
      },
      "source": [
        "gm_2007_df = gm_df.loc[ gm_df['year']==2007 ]\n",
        "gm_2007_df.sort_values(by='pop', ascending=True)"
      ],
      "execution_count": null,
      "outputs": []
    },
    {
      "cell_type": "code",
      "metadata": {
        "id": "6t4id4Dw2l96"
      },
      "source": [
        "gm_2007_df.sort_values(by='pop', ascending=False).tail(10)"
      ],
      "execution_count": null,
      "outputs": []
    },
    {
      "cell_type": "markdown",
      "metadata": {
        "id": "ANuLwvA-2l98"
      },
      "source": [
        "### Exercises"
      ]
    },
    {
      "cell_type": "markdown",
      "metadata": {
        "id": "ptXbS_X32l98"
      },
      "source": [
        "As a reminder, this is the DataFrame we are starting with:"
      ]
    },
    {
      "cell_type": "code",
      "metadata": {
        "id": "dwKYM2q_2l99"
      },
      "source": [
        "gm_df.head(1)"
      ],
      "execution_count": null,
      "outputs": []
    },
    {
      "cell_type": "markdown",
      "metadata": {
        "id": "IsBs8YFQ2l9-"
      },
      "source": [
        "1. Select only the observations for the year of 1972."
      ]
    },
    {
      "cell_type": "code",
      "metadata": {
        "id": "oz8MTJtnKs3Z"
      },
      "source": [
        "gm_df.loc[ gm_df['year']==1972 ]"
      ],
      "execution_count": null,
      "outputs": []
    },
    {
      "cell_type": "markdown",
      "metadata": {
        "id": "idZ6JNez2l9_"
      },
      "source": [
        "2. For the resulting DataFrame of query above, how many data instances there are?"
      ]
    },
    {
      "cell_type": "code",
      "metadata": {
        "id": "4s9VJ2acK0Wi"
      },
      "source": [
        "# one way of doing it...\n",
        "gm_df.loc[ gm_df['year']==1972 ].shape"
      ],
      "execution_count": null,
      "outputs": []
    },
    {
      "cell_type": "code",
      "metadata": {
        "id": "aCBnxRCUK536"
      },
      "source": [
        "# or...\n",
        "len(gm_df.loc[ gm_df['year']==1972 ])"
      ],
      "execution_count": null,
      "outputs": []
    },
    {
      "cell_type": "markdown",
      "metadata": {
        "id": "nAT7nkMV2l9_"
      },
      "source": [
        "3. Obtain the rows for Brazil only."
      ]
    },
    {
      "cell_type": "code",
      "metadata": {
        "id": "U_T5rUuLLbWV"
      },
      "source": [
        "gm_df.loc[ gm_df['country']=='Brazil' ]"
      ],
      "execution_count": null,
      "outputs": []
    },
    {
      "cell_type": "markdown",
      "metadata": {
        "id": "hHFOTASv2l9_"
      },
      "source": [
        "4. What are the years for which observations have been recorded? (you might want to check what methods such as `.unique()` and `.value_counts()` can do for you here."
      ]
    },
    {
      "cell_type": "code",
      "metadata": {
        "id": "b43bMPEVOjmz"
      },
      "source": [
        "gm_df"
      ],
      "execution_count": null,
      "outputs": []
    },
    {
      "cell_type": "code",
      "metadata": {
        "id": "tba67Qr4LjuW"
      },
      "source": [
        "gm_df['year'].drop_duplicates().shape"
      ],
      "execution_count": null,
      "outputs": []
    },
    {
      "cell_type": "markdown",
      "metadata": {
        "id": "6VSLgk-42l9_"
      },
      "source": [
        "5. And how many different years?"
      ]
    },
    {
      "cell_type": "code",
      "metadata": {
        "id": "H5Ja1v_aLpo_"
      },
      "source": [
        "len(gm_df['year'].unique())"
      ],
      "execution_count": null,
      "outputs": []
    },
    {
      "cell_type": "markdown",
      "metadata": {
        "id": "IFPUhC-O2l-A"
      },
      "source": [
        "6. What are top-10 countries in 2007 with respect to life expectancy?"
      ]
    },
    {
      "cell_type": "code",
      "metadata": {
        "id": "FaDhs7COMI77"
      },
      "source": [
        "gm_df.query(\"year==2007\").sort_values(by='lifeExp', ascending=False).head(10)"
      ],
      "execution_count": null,
      "outputs": []
    },
    {
      "cell_type": "markdown",
      "metadata": {
        "id": "YeGERUOw2l-A"
      },
      "source": [
        "7. Obtain the subset of observations for Asia in 2007."
      ]
    },
    {
      "cell_type": "code",
      "metadata": {
        "id": "yfbLr7MCM6aJ"
      },
      "source": [
        "gm_df.loc[ (gm_df['year']==2007) & (gm_df['continent']=='Asia') ].head()"
      ],
      "execution_count": null,
      "outputs": []
    },
    {
      "cell_type": "markdown",
      "metadata": {
        "id": "gDg2Wto52l-A"
      },
      "source": [
        "8. Produce the observations for South America for the period between 2000 and 2009."
      ]
    },
    {
      "cell_type": "code",
      "metadata": {
        "id": "3ydoqlJJNYvz"
      },
      "source": [
        "gm_df.loc[ (gm_df['continent']=='Americas') & (gm_df['year'].between(2000, 2009)) ]"
      ],
      "execution_count": null,
      "outputs": []
    },
    {
      "cell_type": "code",
      "metadata": {
        "id": "EhF_fatcN1CN"
      },
      "source": [
        "gm_df['continent'].unique()"
      ],
      "execution_count": null,
      "outputs": []
    },
    {
      "cell_type": "markdown",
      "metadata": {
        "id": "hVNHEccb2l-A"
      },
      "source": [
        "9. Show life expectancy and GDP-per-capita for Brazil."
      ]
    },
    {
      "cell_type": "markdown",
      "metadata": {
        "id": "5w-f1T9f2l-B"
      },
      "source": [
        "10. How many observations do we have for each continent?"
      ]
    },
    {
      "cell_type": "code",
      "metadata": {
        "id": "hnzGqbDZPggJ"
      },
      "source": [
        "gm_df.loc[ gm_df['year']==2007, 'continent'].value_counts()"
      ],
      "execution_count": null,
      "outputs": []
    },
    {
      "cell_type": "markdown",
      "metadata": {
        "id": "EbdRxcms2l-B"
      },
      "source": [
        "11. What is the life expectancy for Brazil measured in 2007?"
      ]
    },
    {
      "cell_type": "markdown",
      "metadata": {
        "id": "W58NvAmu2l-C"
      },
      "source": [
        "## Data Pre-Processing with the PIMA Case Study"
      ]
    },
    {
      "cell_type": "markdown",
      "metadata": {
        "id": "8Jr_XaeDSSXm"
      },
      "source": [
        "### Inspecting, Obtaining Quick Summaries, Visualising Distributions"
      ]
    },
    {
      "cell_type": "markdown",
      "metadata": {
        "id": "xyUR5MbokYfu"
      },
      "source": [
        "The [PIMA Indians Diabetes Dataset](https://www.kaggle.com/uciml/pima-indians-diabetes-database) was compiled by is the National Institute of Diabetes and Digestive and Kidney Diseases (US); the goal was to predict whether or not a patient had diabetes, based on certain diagnostic measurements (e.g., glucose level, diastolic blood pressure). It can be downloaded from [here](https://www.kaggle.com/uciml/pima-indians-diabetes-database#diabetes.csv).\n",
        "\n",
        "The [documentation](https://archive.ics.uci.edu/ml/datasets/diabetes) says\n",
        "\n",
        "> ...for Each Attribute: (all numeric-valued)\n",
        "   1. Number of times pregnant\n",
        "   2. Plasma glucose concentration at 2 hours in an oral glucose tolerance test\n",
        "   3. Diastolic blood pressure (mm Hg)\n",
        "   4. Triceps skin fold thickness (mm)\n",
        "   5. 2-Hour serum insulin (mu U/ml)\n",
        "   6. Body mass index (weight in kg/(height in m)^2)\n",
        "   7. Diabetes pedigree function\n",
        "   8. Age (years)\n",
        "   9. Class variable (0 or 1)"
      ]
    },
    {
      "cell_type": "code",
      "metadata": {
        "id": "KwA03kvukYfu"
      },
      "source": [
        "pima_df = pd.read_csv(\n",
        "    'https://raw.githubusercontent.com/gerberl/ai-cyber-foundry-data-mnpl-expl-workshop/main/data/diabetes.csv'\n",
        ")"
      ],
      "execution_count": null,
      "outputs": []
    },
    {
      "cell_type": "markdown",
      "metadata": {
        "id": "yjh4HhY_kYfw"
      },
      "source": [
        "Firstly, we will have a glimpse at the data, making a quick inspection of its structure and content."
      ]
    },
    {
      "cell_type": "code",
      "metadata": {
        "id": "DfgWcHchkYfx"
      },
      "source": [
        "pima_df.head()"
      ],
      "execution_count": null,
      "outputs": []
    },
    {
      "cell_type": "markdown",
      "metadata": {
        "id": "rRGgBKLvkYfz"
      },
      "source": [
        "Now, we shall see summary of the features and their data types - roughly, the distinction is between numbers (discrete and continuous) and strings; also, provides an idea of number of observations and the number of missing values for each feature."
      ]
    },
    {
      "cell_type": "code",
      "metadata": {
        "id": "syU1U1tlkYfz"
      },
      "source": [
        "pima_df.info()"
      ],
      "execution_count": null,
      "outputs": []
    },
    {
      "cell_type": "markdown",
      "metadata": {
        "id": "LSuwWJ99kYf2"
      },
      "source": [
        "In this case, no missing values seem to have been recorded (we will see later that this might not be the case). The low-level `numpy` data types here usually tell us that `int64` are whole numbers (integers), `float64` are continuous values (floats), and `object` are strings."
      ]
    },
    {
      "cell_type": "markdown",
      "metadata": {
        "id": "qCpeJTdhkYf2"
      },
      "source": [
        "If you'd like, you can always check the names (and the order) of the columns:"
      ]
    },
    {
      "cell_type": "code",
      "metadata": {
        "id": "KJZA24g_kYf3"
      },
      "source": [
        "pima_df.columns"
      ],
      "execution_count": null,
      "outputs": []
    },
    {
      "cell_type": "markdown",
      "metadata": {
        "id": "FE3bijTukYf5"
      },
      "source": [
        "The returned value is a `pandas` `Index`; recall that a DataFrame is 2D structure composed of rows and columns; columns are defined by an __index__; a column name is an index __label__."
      ]
    },
    {
      "cell_type": "markdown",
      "metadata": {
        "id": "aVSCuHdAkYf5"
      },
      "source": [
        "You can also check what the row index looks like. In this case, it is not very interesting: a sequence of integers has been created automatically to represent each row uniquely."
      ]
    },
    {
      "cell_type": "code",
      "metadata": {
        "id": "_e5zCz1ckYf6"
      },
      "source": [
        "pima_df.index"
      ],
      "execution_count": null,
      "outputs": []
    },
    {
      "cell_type": "markdown",
      "metadata": {
        "id": "qgAtAyHFkYf8"
      },
      "source": [
        "Obtain a table of crucial summaries of a univariate data distribution; the usual *5-number summary* (min, max, 1st quartile, 3rd quartile, median), and mean and stardard deviation. Let us use `Age` as an example."
      ]
    },
    {
      "cell_type": "code",
      "metadata": {
        "id": "2-qWuk2RkYf8"
      },
      "source": [
        "pima_df['Pregnancies'].describe()"
      ],
      "execution_count": null,
      "outputs": []
    },
    {
      "cell_type": "markdown",
      "metadata": {
        "id": "gCK6-W-tkYf-"
      },
      "source": [
        "It is normally useful to, in addition, inspect data distributions with plots. For quantitative data, a histogram is one of the first go-to structures. Let us do it for `Pregnancies`."
      ]
    },
    {
      "cell_type": "code",
      "metadata": {
        "id": "7uEsQkBlkYf-"
      },
      "source": [
        "pima_df['Pregnancies'].plot.hist();"
      ],
      "execution_count": null,
      "outputs": []
    },
    {
      "cell_type": "markdown",
      "metadata": {
        "id": "VKKpHkVqkYgA"
      },
      "source": [
        "The semicolon at the end is simply to supress some unncessary text-based output."
      ]
    },
    {
      "cell_type": "markdown",
      "metadata": {
        "id": "KVYA86BvkYgA"
      },
      "source": [
        "The bins are arbitrary; different binning might results in slightly different shapes. For that reason, a kernel-density estimate (KDE) is commonly preferred or simply used in addition. We will look at the KDE for `Pregnancies`, firstly, using the DataFrame's plot capabilities (recall that `pandas` provides a wrapper on `matplolib`'s functionality to make our lifes easier)."
      ]
    },
    {
      "cell_type": "code",
      "metadata": {
        "id": "5Hl02Cv6kYgA"
      },
      "source": [
        "pima_df['Pregnancies'].plot.hist(bins=18);"
      ],
      "execution_count": null,
      "outputs": []
    },
    {
      "cell_type": "code",
      "metadata": {
        "id": "3dblSQk1kYgC"
      },
      "source": [
        "pima_df['Pregnancies'].plot.kde();"
      ],
      "execution_count": null,
      "outputs": []
    },
    {
      "cell_type": "markdown",
      "metadata": {
        "id": "_YXGG2FqkYgE"
      },
      "source": [
        "One can combine histograms and KDEs, for example, with `seaborn`'s `.distplot()`. Let us do it for diastolic blood pressure."
      ]
    },
    {
      "cell_type": "code",
      "metadata": {
        "id": "3o1G1rWVkYgE"
      },
      "source": [
        "# I would like to update this to my latest style (see notebooks on HCXAI work)\n",
        "sns.distplot(pima_df['BloodPressure']);"
      ],
      "execution_count": null,
      "outputs": []
    },
    {
      "cell_type": "markdown",
      "metadata": {
        "id": "mI3wzmSIkYgG"
      },
      "source": [
        "What are all those zero (or close to zero) observations?"
      ]
    },
    {
      "cell_type": "markdown",
      "metadata": {
        "id": "xuooeS1JkYgG"
      },
      "source": [
        "A box-plot is quite useful for visualising the five-number summary as well as identify any __outliers__. The latter can just be unusual or extreme values, or noisy, missing, or erroneous data."
      ]
    },
    {
      "cell_type": "code",
      "metadata": {
        "id": "o0mnTgoikYgH"
      },
      "source": [
        "sns.boxplot(pima_df['BloodPressure']);"
      ],
      "execution_count": null,
      "outputs": []
    },
    {
      "cell_type": "code",
      "metadata": {
        "id": "vemOvFm2kYgI"
      },
      "source": [
        "pima_df.loc[ pima_df['BloodPressure']==0 ].sample(5)"
      ],
      "execution_count": null,
      "outputs": []
    },
    {
      "cell_type": "code",
      "metadata": {
        "id": "m0-CwCl5kYgK"
      },
      "source": [
        "pima_df.loc[ pima_df['BloodPressure'].between(20,35) ].head()"
      ],
      "execution_count": null,
      "outputs": []
    },
    {
      "cell_type": "code",
      "metadata": {
        "id": "RGpmlukJkYgM"
      },
      "source": [
        "sns.distplot(pima_df.loc[ pima_df['BloodPressure']!=0 ]['BloodPressure']);"
      ],
      "execution_count": null,
      "outputs": []
    },
    {
      "cell_type": "markdown",
      "metadata": {
        "id": "9BdnIDgjkYgO"
      },
      "source": [
        "For categorical variables - in our case study, there seems to be only `outcome`, the statistical summaries and the options for data distribution plots change. For example:"
      ]
    },
    {
      "cell_type": "code",
      "metadata": {
        "id": "NZXd_KprkYgO"
      },
      "source": [
        "pima_df['Outcome'].value_counts()"
      ],
      "execution_count": null,
      "outputs": []
    },
    {
      "cell_type": "code",
      "metadata": {
        "id": "3iKMgRgDkYgP"
      },
      "source": [
        "pima_df['Outcome'].value_counts().plot.bar();"
      ],
      "execution_count": null,
      "outputs": []
    },
    {
      "cell_type": "markdown",
      "metadata": {
        "id": "XMyiqp9KkYgR"
      },
      "source": [
        "As shown, it is useful to see it as a bar chart). We can use the DataFrame plotting functionality for that, and also customise the `matplotlib` `axis` object (for example, by setting `x` and `y` labels)."
      ]
    },
    {
      "cell_type": "code",
      "metadata": {
        "id": "iFoF-Qv3kYgR"
      },
      "source": [
        "ax = pima_df['Outcome'].value_counts(sort=False).plot.bar()\n",
        "ax.set_xlabel('Outcome (Non-Diabetic/Diabetic)')\n",
        "ax.set_ylabel('Number of Patients')\n",
        "ax.set_ylim(0,600);"
      ],
      "execution_count": null,
      "outputs": []
    },
    {
      "cell_type": "markdown",
      "metadata": {
        "id": "_pXCPpR0kYgT"
      },
      "source": [
        "Help with a method? Documentation in the notebook?"
      ]
    },
    {
      "cell_type": "code",
      "metadata": {
        "id": "22VG1OWOkYgT"
      },
      "source": [
        "sns.barplot?"
      ],
      "execution_count": null,
      "outputs": []
    },
    {
      "cell_type": "markdown",
      "metadata": {
        "id": "kDyo9zTnkYgV"
      },
      "source": [
        "Again, we can `seaborn`'s alternatives for plotting the frequency distribution."
      ]
    },
    {
      "cell_type": "code",
      "metadata": {
        "id": "_hOToB_ikYgW"
      },
      "source": [
        "sns.countplot(pima_df['Outcome']);"
      ],
      "execution_count": null,
      "outputs": []
    },
    {
      "cell_type": "markdown",
      "metadata": {
        "id": "tuYpi9I0kYgX"
      },
      "source": [
        "Note that as `outcome` is expressed as numbers, `pandas` would have infered its data type as `int64` or something similar, despite `outcome` being, in reality, a categorical feature. Some methods such as `.describe()` would rely on this assumption:"
      ]
    },
    {
      "cell_type": "code",
      "metadata": {
        "id": "GLPRabeDkYgY"
      },
      "source": [
        "pima_df['Outcome'].describe()"
      ],
      "execution_count": null,
      "outputs": []
    },
    {
      "cell_type": "markdown",
      "metadata": {
        "id": "4Nb9miw8kYga"
      },
      "source": [
        "It makes sense to tell `pandas` that `Outcome` is categorical: one approach is to convert it to the data type `category` as follows:"
      ]
    },
    {
      "cell_type": "code",
      "metadata": {
        "id": "Up6yODZPkYga"
      },
      "source": [
        "pima_df['Outcome'] = pima_df['Outcome'].astype('category')"
      ],
      "execution_count": null,
      "outputs": []
    },
    {
      "cell_type": "code",
      "metadata": {
        "id": "EMl4kwrykYgc"
      },
      "source": [
        "pima_df['Outcome'].describe()"
      ],
      "execution_count": null,
      "outputs": []
    },
    {
      "cell_type": "code",
      "metadata": {
        "id": "l_lRqosMkYge"
      },
      "source": [
        "pima_df['Outcome'].value_counts()"
      ],
      "execution_count": null,
      "outputs": []
    },
    {
      "cell_type": "markdown",
      "metadata": {
        "id": "Paaei0_FkYgh"
      },
      "source": [
        "**checkpoint**: it is probably a good idea now for you to review the above and replicate the analysis on other features of the dataset. What can you learn from the data distribution and, in some cases, outliers?"
      ]
    },
    {
      "cell_type": "markdown",
      "metadata": {
        "id": "KFT6I9G9kYgq"
      },
      "source": [
        "### Missing Values, Distributions in Groups"
      ]
    },
    {
      "cell_type": "markdown",
      "metadata": {
        "id": "KC40wynakYgq"
      },
      "source": [
        "How many missing values do we actually have for `BloodPressure`?"
      ]
    },
    {
      "cell_type": "code",
      "metadata": {
        "id": "SzR6g7rLkYgq"
      },
      "source": [
        "len(pima_df.loc[ pima_df['BloodPressure']==0 ])"
      ],
      "execution_count": null,
      "outputs": []
    },
    {
      "cell_type": "markdown",
      "metadata": {
        "id": "7zl5Go39kYgs"
      },
      "source": [
        "And for both `BMI` and `SkinThickness`?"
      ]
    },
    {
      "cell_type": "code",
      "metadata": {
        "id": "FI3xYDxSkYgs"
      },
      "source": [
        "len(pima_df.loc[ (pima_df['BMI']==0) & (pima_df['SkinThickness']==0) ])"
      ],
      "execution_count": null,
      "outputs": []
    },
    {
      "cell_type": "markdown",
      "metadata": {
        "id": "B8sM3nfEkYgu"
      },
      "source": [
        "Let us have quick look at a random sample of the above:"
      ]
    },
    {
      "cell_type": "code",
      "metadata": {
        "id": "N8CCkd_EkYgu"
      },
      "source": [
        "no_BMI_SkinThickness_df = pima_df.loc[ (pima_df['BMI']==0) & (pima_df['SkinThickness']==0) ]"
      ],
      "execution_count": null,
      "outputs": []
    },
    {
      "cell_type": "code",
      "metadata": {
        "id": "urRhsZfukYgw"
      },
      "source": [
        "no_BMI_SkinThickness_df.sample(5)"
      ],
      "execution_count": null,
      "outputs": []
    },
    {
      "cell_type": "markdown",
      "metadata": {
        "id": "ifxEkWcNkYgx"
      },
      "source": [
        "What is the distribution of `Outcome` over those with 3 or more pregnancies, and how does it compare to those below?"
      ]
    },
    {
      "cell_type": "code",
      "metadata": {
        "id": "O-nIGCplkYgy"
      },
      "source": [
        "sns.countplot(x=pima_df.loc[ pima_df['Pregnancies']>=3 ]['Outcome']);"
      ],
      "execution_count": null,
      "outputs": []
    },
    {
      "cell_type": "code",
      "metadata": {
        "id": "jcqQ9Ij-kYg0"
      },
      "source": [
        "sns.countplot(x=pima_df.loc[ pima_df['Pregnancies']<3 ]['Outcome']);"
      ],
      "execution_count": null,
      "outputs": []
    },
    {
      "cell_type": "markdown",
      "metadata": {
        "id": "e8DlwyFvkYg2"
      },
      "source": [
        "We could also have a look at the top and the bottom 10% of BMI."
      ]
    },
    {
      "cell_type": "code",
      "metadata": {
        "id": "1d0i6oZHkYg2"
      },
      "source": [
        "# the median\n",
        "pima_df['Pregnancies'].quantile(.5)"
      ],
      "execution_count": null,
      "outputs": []
    },
    {
      "cell_type": "code",
      "metadata": {
        "id": "TPrKgPXvkYg4"
      },
      "source": [
        "bmi_90_percentile = pima_df['BMI'].quantile(0.90)\n",
        "bmi_90_percentile"
      ],
      "execution_count": null,
      "outputs": []
    },
    {
      "cell_type": "code",
      "metadata": {
        "id": "_oD5xogPkYg6"
      },
      "source": [
        "bmi_10_percentile = pima_df['BMI'].quantile(0.10)\n",
        "bmi_10_percentile"
      ],
      "execution_count": null,
      "outputs": []
    },
    {
      "cell_type": "code",
      "metadata": {
        "id": "zwRNz5_HkYg8"
      },
      "source": [
        "sns.countplot(pima_df.loc[ pima_df['BMI']>=bmi_90_percentile, 'Outcome']);"
      ],
      "execution_count": null,
      "outputs": []
    },
    {
      "cell_type": "code",
      "metadata": {
        "id": "PMN0mSVJkYg-"
      },
      "source": [
        "sns.countplot(pima_df.loc[ pima_df['BMI']>=bmi_10_percentile, 'Outcome']);"
      ],
      "execution_count": null,
      "outputs": []
    },
    {
      "cell_type": "markdown",
      "metadata": {
        "id": "F3M1AInJkYg_"
      },
      "source": [
        "**checkpoint**:\n",
        "\n",
        "* for those above average in terms of BMI and skin thickness, what are the numbers of diabetics and non-diabetics? How does that compare to the whole dataset?\n",
        "\n",
        "* Take a sample of those with BMI and skin thickness above average.\n",
        "\n",
        "* for those with diabetes, what do the data distributions for number of pregnancies and diastolic blood pressure look like? How do they compare with those without diabetes?\n"
      ]
    },
    {
      "cell_type": "markdown",
      "metadata": {
        "id": "k9hAQzzPN0Ed"
      },
      "source": [
        "## Data Understanding and Exploration Challenge on the Titanic Dataset"
      ]
    },
    {
      "cell_type": "markdown",
      "metadata": {
        "id": "O0bMuhTvXqmP"
      },
      "source": [
        "*add brief description from notebook; adapt PDF and link to it; need to upload to the GitHub repo a copy of the dataset*"
      ]
    },
    {
      "cell_type": "code",
      "metadata": {
        "id": "HV0RzCnDX47_"
      },
      "source": [
        ""
      ],
      "execution_count": null,
      "outputs": []
    },
    {
      "cell_type": "markdown",
      "metadata": {
        "id": "4gtz3OauygzS"
      },
      "source": [
        "## Reshaping Data"
      ]
    },
    {
      "cell_type": "markdown",
      "metadata": {
        "id": "siZHH1u6ygzS"
      },
      "source": [
        "We will make use of the familiar `gapminder` for some of examples and exercises."
      ]
    },
    {
      "cell_type": "code",
      "metadata": {
        "id": "MWsV1Ks6ygzS"
      },
      "source": [
        "dataset_location = 'https://github.com/jennybc/gapminder/blob/master/inst/extdata/gapminder.tsv?raw=True'\n",
        "gm_df = pd.read_csv(\n",
        "    dataset_location,\n",
        "    sep='\\t'\n",
        ")"
      ],
      "execution_count": null,
      "outputs": []
    },
    {
      "cell_type": "markdown",
      "metadata": {
        "id": "rscDu8_4ygzS"
      },
      "source": [
        "A quick reminder of structure and contents of the dataset:"
      ]
    },
    {
      "cell_type": "code",
      "metadata": {
        "id": "RzS3kG6UygzS"
      },
      "source": [
        "gm_df.sample()"
      ],
      "execution_count": null,
      "outputs": []
    },
    {
      "cell_type": "code",
      "metadata": {
        "id": "ZiH76te54i1r"
      },
      "source": [
        "gm_df.head()"
      ],
      "execution_count": null,
      "outputs": []
    },
    {
      "cell_type": "markdown",
      "metadata": {
        "id": "LbHt--UXygzS"
      },
      "source": [
        "### Changing Row Indices"
      ]
    },
    {
      "cell_type": "markdown",
      "metadata": {
        "id": "61kUdWuBygzS"
      },
      "source": [
        "We have discussed in more than one occasion that DataFrames are indexed by **row** and **column** indices. By default, `pandas` created a range of integers for the **row labels**:"
      ]
    },
    {
      "cell_type": "code",
      "metadata": {
        "id": "7XVxusPSygzS"
      },
      "source": [
        "gm_df.index"
      ],
      "execution_count": null,
      "outputs": []
    },
    {
      "cell_type": "markdown",
      "metadata": {
        "id": "REc7aRPMygzS"
      },
      "source": [
        "And the **column labels** match the header of the `.csv` file:"
      ]
    },
    {
      "cell_type": "code",
      "metadata": {
        "id": "mM-BJmsKygzS"
      },
      "source": [
        "gm_df.columns"
      ],
      "execution_count": null,
      "outputs": []
    },
    {
      "cell_type": "markdown",
      "metadata": {
        "id": "jwfPJDWwygzS"
      },
      "source": [
        "To address one or more rows, one would normally use `.loc` with the corresponding labels:"
      ]
    },
    {
      "cell_type": "code",
      "metadata": {
        "id": "VW1EAmGUygzS"
      },
      "source": [
        "gm_df.loc[249]"
      ],
      "execution_count": null,
      "outputs": []
    },
    {
      "cell_type": "markdown",
      "metadata": {
        "id": "UIpetBsxygzS"
      },
      "source": [
        "In many scenarios, one might want to make a row index more meaningful, into something that corresponds to intrinsic properties of the data. For example, if you we were looking a student dataset, we could use student IDs or (albeit, not as good) full names. More often than not, row labels are useful when they stand as unique identifiers for observations."
      ]
    },
    {
      "cell_type": "markdown",
      "metadata": {
        "id": "4lBGHvSKygzS"
      },
      "source": [
        "We can use `.set_index()` and `.reset_index()` for turning a column into a row index, and vice-versa. Let us illustrate with a subset of `gapminder`."
      ]
    },
    {
      "cell_type": "code",
      "metadata": {
        "id": "UP7Vd6JpygzS"
      },
      "source": [
        "australia_df = gm_df.loc[ gm_df['country']=='Australia' ]"
      ],
      "execution_count": null,
      "outputs": []
    },
    {
      "cell_type": "code",
      "metadata": {
        "id": "cadjbDUNygzS"
      },
      "source": [
        "australia_df"
      ],
      "execution_count": null,
      "outputs": []
    },
    {
      "cell_type": "markdown",
      "metadata": {
        "id": "pSKo3ws_ygzS"
      },
      "source": [
        "I will take a subset of columns for making the demonstration easier. Instead of `.loc` for selecting the columns of interest, I am **droping** those I do not wish to keep."
      ]
    },
    {
      "cell_type": "code",
      "metadata": {
        "id": "AaeLBTQEygzS"
      },
      "source": [
        "australia_df = australia_df.drop(\n",
        "    # columns=['country','continent', 'gdpPercap', 'pop']\n",
        "    columns=['country','continent']\n",
        ")"
      ],
      "execution_count": null,
      "outputs": []
    },
    {
      "cell_type": "code",
      "metadata": {
        "id": "9cXAWeesygzS"
      },
      "source": [
        "australia_df"
      ],
      "execution_count": null,
      "outputs": []
    },
    {
      "cell_type": "code",
      "metadata": {
        "id": "L7AaGtHRygzS"
      },
      "source": [
        "australia_df = australia_df.set_index('year')"
      ],
      "execution_count": null,
      "outputs": []
    },
    {
      "cell_type": "code",
      "metadata": {
        "id": "wZtC-YYSygzS"
      },
      "source": [
        "australia_df"
      ],
      "execution_count": null,
      "outputs": []
    },
    {
      "cell_type": "code",
      "metadata": {
        "id": "jbXrq-ONygzS"
      },
      "source": [
        "australia_df.index"
      ],
      "execution_count": null,
      "outputs": []
    },
    {
      "cell_type": "code",
      "metadata": {
        "id": "4TfAy4weygzS"
      },
      "source": [
        "australia_df.loc[[2002]]"
      ],
      "execution_count": null,
      "outputs": []
    },
    {
      "cell_type": "code",
      "metadata": {
        "id": "JMcN7Oe3ygzS"
      },
      "source": [
        "australia_df.loc[1992:2007]"
      ],
      "execution_count": null,
      "outputs": []
    },
    {
      "cell_type": "markdown",
      "metadata": {
        "id": "akmwo5etygzS"
      },
      "source": [
        "**checkpoint**:\n",
        "\n",
        "Take a subset of `gapminder` for `Americas` and `1952`; it makes sense to assign it to a variable (with a meaningful name). Then, make `country` the row index, and try some indexing expressions with `.loc` for selecting unique observations from that subset."
      ]
    },
    {
      "cell_type": "code",
      "metadata": {
        "id": "FOQcW-Z-APig"
      },
      "source": [
        "americas_df = gm_df.loc[ \n",
        "    (gm_df['continent']=='Americas') & (gm_df['year']==1952)\n",
        "]"
      ],
      "execution_count": null,
      "outputs": []
    },
    {
      "cell_type": "code",
      "metadata": {
        "id": "cWdgjDwfAy-0"
      },
      "source": [
        "americas_df.head()"
      ],
      "execution_count": null,
      "outputs": []
    },
    {
      "cell_type": "code",
      "metadata": {
        "id": "HfE2VxOgA4Gs"
      },
      "source": [
        "americas_df = americas_df.set_index('country')"
      ],
      "execution_count": null,
      "outputs": []
    },
    {
      "cell_type": "code",
      "metadata": {
        "id": "g0_6zUXOBETO"
      },
      "source": [
        "americas_df.head()"
      ],
      "execution_count": null,
      "outputs": []
    },
    {
      "cell_type": "code",
      "metadata": {
        "id": "scasZFCAA--G"
      },
      "source": [
        "americas_df.loc['Brazil']"
      ],
      "execution_count": null,
      "outputs": []
    },
    {
      "cell_type": "code",
      "metadata": {
        "id": "UmZdrlSdGSxz"
      },
      "source": [
        "americas_df.head(3)"
      ],
      "execution_count": null,
      "outputs": []
    },
    {
      "cell_type": "code",
      "metadata": {
        "id": "wUEMfotNGbxT"
      },
      "source": [
        "americas_df.reset_index('country').head(3)"
      ],
      "execution_count": null,
      "outputs": []
    },
    {
      "cell_type": "markdown",
      "metadata": {
        "id": "QB_Llfu6ygzT"
      },
      "source": [
        "### Hierarchical Indices: A Very Brief Look"
      ]
    },
    {
      "cell_type": "markdown",
      "metadata": {
        "id": "phpV6G4fygzT"
      },
      "source": [
        "More than one column can be pushed into the row index; then, the latter becomes a **hierarchical index**. Each column occupies an index **level**. There are all sorts of complex operations and transformation that we can apply on and with them; for now, we are only looking at reshaping operations such as `set_index` and `reset_index`. \n",
        "\n",
        "Further information can be found in the the [`pandas` online documentation](https://pandas.pydata.org/pandas-docs/stable/user_guide/advanced.html#advanced-indexing-with-hierarchical-index), as well as in the **Python Data Science Handbook**."
      ]
    },
    {
      "cell_type": "markdown",
      "metadata": {
        "id": "zGQ9kAASygzT"
      },
      "source": [
        "For illustration, we will take again a subset of `gapminder` - this time, only for countries in `Oceania`."
      ]
    },
    {
      "cell_type": "code",
      "metadata": {
        "id": "t-OkoTQDygzT"
      },
      "source": [
        "oceania_df = gm_df.loc[ gm_df['continent']=='Oceania' ]\n",
        "oceania_df = oceania_df.drop(\n",
        "    columns=['continent', 'gdpPercap', 'pop']\n",
        ")\n",
        "oceania_df.sample(5)"
      ],
      "execution_count": null,
      "outputs": []
    },
    {
      "cell_type": "markdown",
      "metadata": {
        "id": "ccEacn-EygzT"
      },
      "source": [
        "Wouldn't it be more convenient to address a specific row given a country name and year?"
      ]
    },
    {
      "cell_type": "code",
      "metadata": {
        "id": "uLDEfdkvygzT"
      },
      "source": [
        "oceania_df = oceania_df.set_index(['country', 'year'])\n",
        "oceania_df"
      ],
      "execution_count": null,
      "outputs": []
    },
    {
      "cell_type": "code",
      "metadata": {
        "id": "2IsWepDQygzT"
      },
      "source": [
        "oceania_df.loc['Australia']"
      ],
      "execution_count": null,
      "outputs": []
    },
    {
      "cell_type": "code",
      "metadata": {
        "id": "xe2jsd7iygzT"
      },
      "source": [
        "oceania_df.loc[('Australia', 2007)]"
      ],
      "execution_count": null,
      "outputs": []
    },
    {
      "cell_type": "markdown",
      "metadata": {
        "id": "k2rQy8nkygzT"
      },
      "source": [
        "**checkpoint**:\n",
        "\n",
        "In a similar fashion, obtain a subset for 2007 observations and use both `continent` and `country` as row index. Try a few `.loc` expressions using pairs of continent and country labels, as well as partial matching on a single `continent`."
      ]
    },
    {
      "cell_type": "code",
      "metadata": {
        "id": "j51HHDqrJDbn"
      },
      "source": [
        "year_df = gm_df.query(\"year==2007\").set_index(['continent', 'country'])"
      ],
      "execution_count": null,
      "outputs": []
    },
    {
      "cell_type": "code",
      "metadata": {
        "id": "WT3wNvS3JMK3"
      },
      "source": [
        "year_df.head()"
      ],
      "execution_count": null,
      "outputs": []
    },
    {
      "cell_type": "code",
      "metadata": {
        "id": "PbCbzvaVJwhz"
      },
      "source": [
        "year_df.loc['Oceania']"
      ],
      "execution_count": null,
      "outputs": []
    },
    {
      "cell_type": "code",
      "metadata": {
        "id": "O0fFsIBmJ1p7"
      },
      "source": [
        "year_df.loc[('Oceania', 'New Zealand')]"
      ],
      "execution_count": null,
      "outputs": []
    },
    {
      "cell_type": "markdown",
      "metadata": {
        "id": "YR-prYRcygzT"
      },
      "source": [
        "### Long and Wide Data Formats"
      ]
    },
    {
      "cell_type": "markdown",
      "metadata": {
        "id": "YT_EC1IjygzT"
      },
      "source": [
        "In short: typically, the columns of the dataset represent properties of the data but, in a number of situations (say, because of the way the data was recorded, or for making comparisons and plotting easier), values are shown are columns."
      ]
    },
    {
      "cell_type": "code",
      "metadata": {
        "id": "r8NJzk9SygzT"
      },
      "source": [
        "oceania_df.head()"
      ],
      "execution_count": null,
      "outputs": []
    },
    {
      "cell_type": "markdown",
      "metadata": {
        "id": "2hrbCqcWygzT"
      },
      "source": [
        "I just want to produce a small dataset with values as column label. `.unstack()` transforms **a set of row labels into a set of columns labels** (the opposite is `.stack()`; further examples on the Python Data Science Handbook)."
      ]
    },
    {
      "cell_type": "code",
      "metadata": {
        "id": "w0rOl1qLygzT"
      },
      "source": [
        "oceania_wide_df = oceania_df.unstack('year')['lifeExp']\n",
        "oceania_wide_df"
      ],
      "execution_count": null,
      "outputs": []
    },
    {
      "cell_type": "code",
      "metadata": {
        "id": "LDWOd4crygzT"
      },
      "source": [
        "oceania_wide_df.index"
      ],
      "execution_count": null,
      "outputs": []
    },
    {
      "cell_type": "code",
      "metadata": {
        "id": "sR0lK-znygzT"
      },
      "source": [
        "oceania_wide_df.columns"
      ],
      "execution_count": null,
      "outputs": []
    },
    {
      "cell_type": "markdown",
      "metadata": {
        "id": "40yyzRVCLmTf"
      },
      "source": [
        "The following takes the `.mean()` across rows - a mean life expectancy value for each year (the columns)."
      ]
    },
    {
      "cell_type": "code",
      "metadata": {
        "id": "N_P5wesGygzT"
      },
      "source": [
        "oceania_wide_df.mean()"
      ],
      "execution_count": null,
      "outputs": []
    },
    {
      "cell_type": "markdown",
      "metadata": {
        "id": "trLLPjeVygzT"
      },
      "source": [
        "Recapping:\n",
        "\n",
        "* `.set_index()` converts a column into a row index, and vice-versa. The values of a column are mapped into row labels. Its reverse is  `reset_index()`.\n",
        "\n",
        "* `.unstack()` converts a row index into a set of columns. `.stack()` is its reverse."
      ]
    },
    {
      "cell_type": "markdown",
      "metadata": {
        "id": "84J9__0uygzT"
      },
      "source": [
        "Usefully, one can swaps rows with columns via a **transpose** operation:"
      ]
    },
    {
      "cell_type": "code",
      "metadata": {
        "id": "8XZXiNzlygzT"
      },
      "source": [
        "oceania_wide_df"
      ],
      "execution_count": null,
      "outputs": []
    },
    {
      "cell_type": "code",
      "metadata": {
        "id": "y7W7btHDygzT"
      },
      "source": [
        "oceania_wide_df.T"
      ],
      "execution_count": null,
      "outputs": []
    },
    {
      "cell_type": "code",
      "metadata": {
        "id": "RsI0Wrz6ygzT"
      },
      "source": [
        "oceania_wide_df.T.index"
      ],
      "execution_count": null,
      "outputs": []
    },
    {
      "cell_type": "code",
      "metadata": {
        "id": "yACpqYNOygzT"
      },
      "source": [
        "oceania_wide_df.T.columns"
      ],
      "execution_count": null,
      "outputs": []
    },
    {
      "cell_type": "code",
      "metadata": {
        "id": "UCjodc9GNK40"
      },
      "source": [
        ""
      ],
      "execution_count": null,
      "outputs": []
    },
    {
      "cell_type": "markdown",
      "metadata": {
        "id": "wgwk-ykDl0sO"
      },
      "source": [
        "## Computations Across Columns and Rows"
      ]
    },
    {
      "cell_type": "markdown",
      "metadata": {
        "id": "XURVodqFl0sO"
      },
      "source": [
        "Let us focus on that `oceania_wide_df` from the previous section: it concerns a subset of the GapMinder data for the countries in `Oceania`, reshaped so as each year is a different column of the DataFrame."
      ]
    },
    {
      "cell_type": "code",
      "metadata": {
        "id": "ePwne-cvl0sO"
      },
      "source": [
        "oceania_df = gm_df.loc[ gm_df['continent']=='Oceania' ]\n",
        "oceania_df = oceania_df.drop(\n",
        "    columns=['continent', 'gdpPercap', 'pop']\n",
        ")\n",
        "oceania_df = oceania_df.set_index(['country', 'year'])\n",
        "oceania_df"
      ],
      "execution_count": null,
      "outputs": []
    },
    {
      "cell_type": "code",
      "metadata": {
        "id": "NNujFXFU9IZ9"
      },
      "source": [
        "oceania_wide_df = oceania_df.unstack('year')['lifeExp']\n",
        "oceania_wide_df"
      ],
      "execution_count": null,
      "outputs": []
    },
    {
      "cell_type": "markdown",
      "metadata": {
        "id": "2rYJ2SZql0sO"
      },
      "source": [
        "**Aggregation functions** that we have applied on single columns before work on **subsets of DataFrames** too. We can specify whether they should work across columns or rows."
      ]
    },
    {
      "cell_type": "code",
      "metadata": {
        "id": "WxVLh8EHl0sP"
      },
      "source": [
        "oceania_wide_df.mean(axis='columns')"
      ],
      "execution_count": null,
      "outputs": []
    },
    {
      "cell_type": "code",
      "metadata": {
        "id": "JvlWikiUl0sP"
      },
      "source": [
        "oceania_wide_df.mean(axis='rows')"
      ],
      "execution_count": null,
      "outputs": []
    },
    {
      "cell_type": "code",
      "metadata": {
        "id": "X2Oc0uDrl0sP"
      },
      "source": [
        "oceania_wide_df.max(axis='columns')"
      ],
      "execution_count": null,
      "outputs": []
    },
    {
      "cell_type": "code",
      "metadata": {
        "id": "sImDf0Xrl0sP"
      },
      "source": [
        "oceania_wide_df.max()"
      ],
      "execution_count": null,
      "outputs": []
    },
    {
      "cell_type": "code",
      "metadata": {
        "id": "Opk4I4Ac-ioA"
      },
      "source": [
        "oceania_wide_df.std()"
      ],
      "execution_count": null,
      "outputs": []
    },
    {
      "cell_type": "code",
      "metadata": {
        "id": "JoG5qJ5S_m9Z"
      },
      "source": [
        "oceania_wide_df.std(axis='columns')"
      ],
      "execution_count": null,
      "outputs": []
    },
    {
      "cell_type": "code",
      "metadata": {
        "id": "lk9A2ku1A8vk"
      },
      "source": [
        "oceania_wide_df.median(axis='columns')"
      ],
      "execution_count": null,
      "outputs": []
    },
    {
      "cell_type": "code",
      "metadata": {
        "id": "KsZsAC6eBgZp"
      },
      "source": [
        "oceania_wide_df.quantile(0.5, axis='columns')"
      ],
      "execution_count": null,
      "outputs": []
    },
    {
      "cell_type": "code",
      "metadata": {
        "id": "lwKWYhcEBvI4"
      },
      "source": [
        "oceania_wide_df.quantile(0.25, axis='columns')"
      ],
      "execution_count": null,
      "outputs": []
    },
    {
      "cell_type": "code",
      "metadata": {
        "id": "E9jes6G7CH-j"
      },
      "source": [
        "oceania_wide_df.quantile(0.75, axis='columns')"
      ],
      "execution_count": null,
      "outputs": []
    },
    {
      "cell_type": "markdown",
      "metadata": {
        "id": "6z3jrRwUCOdk"
      },
      "source": [
        "I wanted the IQR - third quartile - first quartile"
      ]
    },
    {
      "cell_type": "code",
      "metadata": {
        "id": "AfDfpFLhCXSE"
      },
      "source": [
        "(oceania_wide_df.quantile(0.75, axis='columns') - \n",
        "oceania_wide_df.quantile(0.25, axis='columns'))"
      ],
      "execution_count": null,
      "outputs": []
    },
    {
      "cell_type": "code",
      "metadata": {
        "id": "wUJ5grQkDQMj"
      },
      "source": [
        "sns.boxplot(x=oceania_wide_df.loc['Australia']);"
      ],
      "execution_count": null,
      "outputs": []
    },
    {
      "cell_type": "code",
      "metadata": {
        "id": "UNWbP22uJFhE"
      },
      "source": [
        ""
      ],
      "execution_count": null,
      "outputs": []
    },
    {
      "cell_type": "markdown",
      "metadata": {
        "id": "H7X0VVJQl9yw"
      },
      "source": [
        "## Feature Engineering and Vectorisation"
      ]
    },
    {
      "cell_type": "markdown",
      "metadata": {
        "id": "rxO04aXal9yw"
      },
      "source": [
        "### Derived Features and Index Aligment"
      ]
    },
    {
      "cell_type": "markdown",
      "metadata": {
        "id": "KPmMaCbPl9yw"
      },
      "source": [
        "For a particular year, we could obtain the total population of the countries listed in `gapminder` (as I am planning to make changes to that slice of the data, I am going to take a __copy__ of it)."
      ]
    },
    {
      "cell_type": "code",
      "metadata": {
        "id": "a-BoQofNl9yw"
      },
      "source": [
        "gm_2007_df = (gm_df.loc[ gm_df['year']==2007 ]).copy()"
      ],
      "execution_count": null,
      "outputs": []
    },
    {
      "cell_type": "code",
      "metadata": {
        "id": "Qa08x7_yl9yw"
      },
      "source": [
        "total_pop = gm_2007_df['pop'].sum()\n",
        "total_pop"
      ],
      "execution_count": null,
      "outputs": []
    },
    {
      "cell_type": "markdown",
      "metadata": {
        "id": "z8REieMHl9yw"
      },
      "source": [
        "With __vectorisation__, one can produce a derived feature, involving the column `pop`, to obtain **the percentage** of the **total population** for **each country**:"
      ]
    },
    {
      "cell_type": "code",
      "metadata": {
        "id": "XbW4ZmMHl9yw"
      },
      "source": [
        "(gm_2007_df['pop'] / total_pop * 100).head()"
      ],
      "execution_count": null,
      "outputs": []
    },
    {
      "cell_type": "markdown",
      "metadata": {
        "id": "MIwhfFhMl9yw"
      },
      "source": [
        "Thanks to __index alignment__, we can add this derived feature to our DataFrame by, for example, **assigning it** to a **non-existing column label** in the DataFrame:"
      ]
    },
    {
      "cell_type": "code",
      "metadata": {
        "id": "ZnWwXs7vl9yw"
      },
      "source": [
        "gm_2007_df.loc[:, 'pop_perc'] = gm_2007_df['pop'] / total_pop * 100"
      ],
      "execution_count": null,
      "outputs": []
    },
    {
      "cell_type": "code",
      "metadata": {
        "id": "AUKFRgKIl9yw"
      },
      "source": [
        "gm_2007_df.sort_values('pop_perc').tail()"
      ],
      "execution_count": null,
      "outputs": []
    },
    {
      "cell_type": "code",
      "metadata": {
        "id": "cW72GrbAMhKz"
      },
      "source": [
        "sns.distplot(gm_2007_df['pop_perc']);"
      ],
      "execution_count": null,
      "outputs": []
    },
    {
      "cell_type": "markdown",
      "metadata": {
        "id": "wgN_acDil9yw"
      },
      "source": [
        "I feel that I would rather see population in millions - again, we can produce a derived feature from a simple arithmetic expression and, this time, assign that to an existing column:"
      ]
    },
    {
      "cell_type": "code",
      "metadata": {
        "id": "WKDY2Uvml9yx"
      },
      "source": [
        "gm_2007_df['pop'] = gm_2007_df['pop'] / 1000000"
      ],
      "execution_count": null,
      "outputs": []
    },
    {
      "cell_type": "code",
      "metadata": {
        "id": "UZT40gnMl9yx"
      },
      "source": [
        "gm_2007_df.sort_values('pop_perc').tail()"
      ],
      "execution_count": null,
      "outputs": []
    },
    {
      "cell_type": "markdown",
      "metadata": {
        "id": "ar8XRVmtl9yx"
      },
      "source": [
        "**checkpoint**: Can we reverse-engineer the countries' GDPs?"
      ]
    },
    {
      "cell_type": "code",
      "metadata": {
        "id": "yTCty_Q-Ohl6"
      },
      "source": [
        "gm_2007_df['pop'] = gm_2007_df['pop'] * 1000000"
      ],
      "execution_count": null,
      "outputs": []
    },
    {
      "cell_type": "code",
      "metadata": {
        "id": "V3A7gTa5O6zE"
      },
      "source": [
        "gm_2007_df.sort_values('pop').tail()"
      ],
      "execution_count": null,
      "outputs": []
    },
    {
      "cell_type": "code",
      "metadata": {
        "id": "dta1bqtSPG1W"
      },
      "source": [
        "gm_2007_df['gdp'] = gm_2007_df['gdpPercap'] * gm_2007_df['pop'] / 1000000000"
      ],
      "execution_count": null,
      "outputs": []
    },
    {
      "cell_type": "code",
      "metadata": {
        "id": "gvA7lE_VPb71"
      },
      "source": [
        "gm_2007_df.sort_values('pop').tail()"
      ],
      "execution_count": null,
      "outputs": []
    },
    {
      "cell_type": "markdown",
      "metadata": {
        "id": "0IQlLvlhl9yx"
      },
      "source": [
        "More on index alignment and vectorised operations can be found [in this section]() in our main textbook."
      ]
    },
    {
      "cell_type": "markdown",
      "metadata": {
        "id": "z-mNq-Cul9yx"
      },
      "source": [
        "Comparing values of subsets works well when they **share** the same **index**:"
      ]
    },
    {
      "cell_type": "code",
      "metadata": {
        "id": "YRIvox9el9yx"
      },
      "source": [
        "china_df = gm_df.loc[ gm_df['country']=='China' ].set_index('year')"
      ],
      "execution_count": null,
      "outputs": []
    },
    {
      "cell_type": "code",
      "metadata": {
        "id": "iZ9qwLoVl9yx"
      },
      "source": [
        "china_df.head(3)"
      ],
      "execution_count": null,
      "outputs": []
    },
    {
      "cell_type": "code",
      "metadata": {
        "id": "ccwbuK1jl9yx"
      },
      "source": [
        "afg_df = gm_df.loc[ gm_df['country']=='Afghanistan' ].set_index('year')"
      ],
      "execution_count": null,
      "outputs": []
    },
    {
      "cell_type": "code",
      "metadata": {
        "id": "yiuLUTPJl9yx"
      },
      "source": [
        "afg_df.head(3)"
      ],
      "execution_count": null,
      "outputs": []
    },
    {
      "cell_type": "code",
      "metadata": {
        "id": "PX4rvEwcl9yx"
      },
      "source": [
        "china_df['lifeExp'] - afg_df['lifeExp']"
      ],
      "execution_count": null,
      "outputs": []
    },
    {
      "cell_type": "markdown",
      "metadata": {
        "id": "4YA7CDH-l9yx"
      },
      "source": [
        "This gives us a nice opportunity to illustrate the use of `concat` for aligning slices (that share an index) into a new DataFrame. Notice also the use of `.columns` for renaming."
      ]
    },
    {
      "cell_type": "code",
      "metadata": {
        "id": "qiibvGTAl9yx"
      },
      "source": [
        "df = pd.concat([ \n",
        "    china_df['lifeExp'], afg_df['lifeExp'], china_df['lifeExp'] - afg_df['lifeExp']\n",
        "], axis='columns')\n",
        "df"
      ],
      "execution_count": null,
      "outputs": []
    },
    {
      "cell_type": "code",
      "metadata": {
        "id": "YpoyU885l9yx"
      },
      "source": [
        "df.columns = [ 'China_lifeExp', 'Afghanistan_lifeExp', 'lifeExp_diff']\n",
        "df"
      ],
      "execution_count": null,
      "outputs": []
    },
    {
      "cell_type": "markdown",
      "metadata": {
        "id": "JQ2yMP_8l9yx"
      },
      "source": [
        "**checkpoint**: using `states_df` below, obtain:\n",
        "\n",
        "* population density (assuming area is given in square Km, we are looking for number of people per Km<sup>2</sup>). Add it to the DataFrame as a new feature.\n",
        "\n",
        "* by how much a state's area is greater or smaller than the mean area.\n",
        "\n",
        "* the state populations in millions."
      ]
    },
    {
      "cell_type": "markdown",
      "metadata": {
        "id": "z0F2Ul69l9yx"
      },
      "source": [
        "This is a tiny dataset on US states (used in the Python Data Science Handbook) that is useful for illustration:"
      ]
    },
    {
      "cell_type": "code",
      "metadata": {
        "id": "RDo7km7Zl9yx"
      },
      "source": [
        "states_df = pd.DataFrame(\n",
        "    {\n",
        "        'area': {'California': 423967, 'Texas': 695662,\n",
        "                  'New York': 141297, 'Florida': 170312,\n",
        "                  'Illinois': 149995},\n",
        "        'pop': {'California': 38332521, 'Texas': 26448193,\n",
        "                 'New York': 19651127, 'Florida': 19552860,\n",
        "                 'Illinois': 12882135}\n",
        "    }\n",
        ")"
      ],
      "execution_count": null,
      "outputs": []
    },
    {
      "cell_type": "markdown",
      "metadata": {
        "id": "Fdc4WNTul9yx"
      },
      "source": [
        "Notice, here, that we instantiate a DataFrame from a Python data structure - in this case, a dictionary, where each key (a column label) points to a dictionary associating US state names to area and population. Normally, we would creating DataFrames from data residing in data files or databases, but this approach can be useful for testing/debugging/learning purposes.\n",
        "\n",
        "More on dictionaries? You could take a look at [this section](https://jakevdp.github.io/WhirlwindTourOfPython/06-built-in-data-structures.html#Dictionaries) of A Whirlwind Tour of Python."
      ]
    },
    {
      "cell_type": "code",
      "metadata": {
        "id": "KQf7UyKjl9yx"
      },
      "source": [
        "states_df"
      ],
      "execution_count": null,
      "outputs": []
    },
    {
      "cell_type": "markdown",
      "metadata": {
        "id": "Fhcfoxn6l9yx"
      },
      "source": [
        "### Transformations to Feature Domains"
      ]
    },
    {
      "cell_type": "markdown",
      "metadata": {
        "id": "DOdL8RxLl9yx"
      },
      "source": [
        "#### Discretisation (with `pd.cut()`)"
      ]
    },
    {
      "cell_type": "markdown",
      "metadata": {
        "id": "uHGdGRzrl9yx"
      },
      "source": [
        "Back to the PIMA Diabetes dataset - one could think of working with BMI as **categorical** rather than a **continuous** data type. **Discretising** (i.e., changing from continuous to discrete categories) can be achived, for example, via the [`pd.cut()`](https://pandas.pydata.org/pandas-docs/stable/reference/api/pandas.cut.html) function as the example below shows.\n",
        "\n",
        "The standard definition (e.g., from Wikipedia) of different BMI bands is:\n",
        "\n",
        "* *Underweight*: < 18.5.\n",
        "* *Normal weight*: between 18.5 and 25.\n",
        "* *Overweight*: between 25 to 30.\n",
        "* *Obese*: 30 or greater."
      ]
    },
    {
      "cell_type": "code",
      "metadata": {
        "id": "IbUeR7fil9yx"
      },
      "source": [
        "pima_df = pd.read_csv('./data/pima-indians-diabetes/diabetes.csv')"
      ],
      "execution_count": null,
      "outputs": []
    },
    {
      "cell_type": "code",
      "metadata": {
        "id": "CXtCBPIkl9yx"
      },
      "source": [
        "pima_df.loc[[1]]"
      ],
      "execution_count": null,
      "outputs": []
    },
    {
      "cell_type": "code",
      "metadata": {
        "id": "LJ6gbARul9yx"
      },
      "source": [
        "max_BMI = pima_df['BMI'].max()\n",
        "pd.cut(\n",
        "    pima_df['BMI'],\n",
        "    bins=[0, 18.5, 25, 30, max_BMI + 0.001],\n",
        "    right=False,\n",
        "    include_lowest=True\n",
        ").head(1)"
      ],
      "execution_count": null,
      "outputs": []
    },
    {
      "cell_type": "markdown",
      "metadata": {
        "id": "sdsJluL3l9yx"
      },
      "source": [
        "Notice that `pandas` creates a `category` that is **ordinal** (`[low < normal < overweight < obese]`), and that the parameters `right` and `include_lowest` indicate whether the intervals are open or closed, and at which endpoint."
      ]
    },
    {
      "cell_type": "code",
      "metadata": {
        "id": "Ro3yR8ypl9yx"
      },
      "source": [
        "pima_df['BMI_cat'] = pd.cut(\n",
        "    pima_df['BMI'],\n",
        "    bins=[0, 18.5, 25, 30, max_BMI + 0.001],\n",
        "    labels=['low', 'normal', 'overweight', 'obese'],\n",
        "    right=False,\n",
        "    include_lowest=True\n",
        ")"
      ],
      "execution_count": null,
      "outputs": []
    },
    {
      "cell_type": "code",
      "metadata": {
        "id": "TpQd4-Uxl9yx"
      },
      "source": [
        "pima_df.head()"
      ],
      "execution_count": null,
      "outputs": []
    },
    {
      "cell_type": "code",
      "metadata": {
        "id": "UHUE6vS-l9yx"
      },
      "source": [
        "pima_df['BMI_cat'].value_counts()"
      ],
      "execution_count": null,
      "outputs": []
    },
    {
      "cell_type": "markdown",
      "metadata": {
        "id": "dbkIUH8Ul9yx"
      },
      "source": [
        "#### Mapping domain into a different set of values (with `.map()`):"
      ]
    },
    {
      "cell_type": "code",
      "metadata": {
        "id": "SI7zfCEkl9yx"
      },
      "source": [
        "pima_df['Outcome'].map({1: 'Diabetic', 0: 'Non-Diabetic'})"
      ],
      "execution_count": null,
      "outputs": []
    },
    {
      "cell_type": "code",
      "metadata": {
        "id": "d7Mxfcgal9yx"
      },
      "source": [
        "pima_df['Outcome_cat'] = pima_df['Outcome'].map({1: 'Diabetic', 0: 'Non-Diabetic'})"
      ],
      "execution_count": null,
      "outputs": []
    },
    {
      "cell_type": "code",
      "metadata": {
        "id": "Mj15cQZql9yx"
      },
      "source": [
        "pima_df.head(5)"
      ],
      "execution_count": null,
      "outputs": []
    },
    {
      "cell_type": "markdown",
      "metadata": {
        "id": "95aX_O4ul9yx"
      },
      "source": [
        "Another example of vectorised transformations - this time, on categories (which are strings). More on vectorised string operations [here](https://jakevdp.github.io/PythonDataScienceHandbook/03.10-working-with-strings.html)."
      ]
    },
    {
      "cell_type": "code",
      "metadata": {
        "id": "z69nBiJnl9yx"
      },
      "source": [
        "pima_df['BMI_cat'] = pima_df['BMI_cat'].str.title()"
      ],
      "execution_count": null,
      "outputs": []
    },
    {
      "cell_type": "markdown",
      "metadata": {
        "id": "Mm_eUFZMl9yx"
      },
      "source": [
        "#### Transformation of Scale (Into Orders of Magnitude)"
      ]
    },
    {
      "cell_type": "code",
      "metadata": {
        "id": "R1i3F08Dl9yx"
      },
      "source": [
        "titanic_df = pd.read_csv('./data/titanic-kaggle/train.csv')"
      ],
      "execution_count": null,
      "outputs": []
    },
    {
      "cell_type": "code",
      "metadata": {
        "id": "mwG8LEDGl9yx"
      },
      "source": [
        "titanic_df.sample()"
      ],
      "execution_count": null,
      "outputs": []
    },
    {
      "cell_type": "code",
      "metadata": {
        "id": "UGprwZ3il9yx"
      },
      "source": [
        "sns.distplot(titanic_df['Fare']);"
      ],
      "execution_count": null,
      "outputs": []
    },
    {
      "cell_type": "code",
      "metadata": {
        "id": "v6b511c7l9yx"
      },
      "source": [
        "np.log(titanic_df.loc[ titanic_df['Fare']>0, 'Fare' ])"
      ],
      "execution_count": null,
      "outputs": []
    },
    {
      "cell_type": "code",
      "metadata": {
        "id": "z6dckkQIl9yx"
      },
      "source": [
        "# https://matplotlib.org/3.1.1/api/axes_api.html#ticks-and-tick-labels\n",
        "ax = sns.distplot(np.log10(titanic_df.loc[ titanic_df['Fare']>0, 'Fare' ]))\n",
        "ax.set_xticks(range(0,4))\n",
        "ax.set_xticklabels(np.power(10, range(0,4)));"
      ],
      "execution_count": null,
      "outputs": []
    },
    {
      "cell_type": "code",
      "metadata": {
        "id": "YFFMCFggarvB"
      },
      "source": [
        ""
      ],
      "execution_count": null,
      "outputs": []
    },
    {
      "cell_type": "markdown",
      "metadata": {
        "id": "W2onsL3H8qqW"
      },
      "source": [
        "## Grouping and Aggregating Data\n"
      ]
    },
    {
      "cell_type": "markdown",
      "metadata": {
        "id": "JvB766ip8qqW"
      },
      "source": [
        "### Split, Apply, Combine"
      ]
    },
    {
      "cell_type": "markdown",
      "metadata": {
        "id": "v-vcmiL38qqW"
      },
      "source": [
        "A quick example: let us obtain the mean averages of `lifeExp`, `pop`, and `gdpPercap` per country:"
      ]
    },
    {
      "cell_type": "code",
      "metadata": {
        "id": "44eGQ9x08qqW"
      },
      "source": [
        "gm_df.groupby('country')[['lifeExp', 'gdpPercap']].mean().head()"
      ],
      "execution_count": null,
      "outputs": []
    },
    {
      "cell_type": "markdown",
      "metadata": {
        "id": "9n2wS8HD8qqW"
      },
      "source": [
        "Illustration from the textbook: https://jakevdp.github.io/PythonDataScienceHandbook/03.08-aggregation-and-grouping.html#Split,-apply,-combine."
      ]
    },
    {
      "cell_type": "markdown",
      "metadata": {
        "id": "_-DX0yOn8qqW"
      },
      "source": [
        "How many observations for each continent?"
      ]
    },
    {
      "cell_type": "code",
      "metadata": {
        "id": "987i5l-j8qqW"
      },
      "source": [
        "gm_df.groupby('continent').size()"
      ],
      "execution_count": null,
      "outputs": []
    },
    {
      "cell_type": "code",
      "metadata": {
        "id": "M4NNFgje8qqW"
      },
      "source": [
        "gm_df['continent'].value_counts()"
      ],
      "execution_count": null,
      "outputs": []
    },
    {
      "cell_type": "markdown",
      "metadata": {
        "id": "4IdrEi9c8qqW"
      },
      "source": [
        "The highest life expectancy by continent and year?"
      ]
    },
    {
      "cell_type": "code",
      "metadata": {
        "id": "AvhHwPpH8qqW"
      },
      "source": [
        "gm_df.groupby(['continent', 'year'])[['lifeExp']].max()"
      ],
      "execution_count": null,
      "outputs": []
    },
    {
      "cell_type": "markdown",
      "metadata": {
        "id": "dcMAYaZr8qqW"
      },
      "source": [
        "`.unstack()` is normally quite useful in combination with grouping. We've seen it before - it turns row labels into column labels:"
      ]
    },
    {
      "cell_type": "code",
      "metadata": {
        "id": "u5ZkfiXOFl1v"
      },
      "source": [
        "gm_df.groupby(['continent', 'year'])[['lifeExp']].mean().head()"
      ],
      "execution_count": null,
      "outputs": []
    },
    {
      "cell_type": "code",
      "metadata": {
        "id": "2cUpy01m8qqW"
      },
      "source": [
        "gm_df.groupby(['continent', 'year'])['lifeExp'].mean().unstack('year')"
      ],
      "execution_count": null,
      "outputs": []
    },
    {
      "cell_type": "markdown",
      "metadata": {
        "id": "GrS9pqNT8qqW"
      },
      "source": [
        "A more complex expression (which could surely be broken down) shows how grouping and reshaping can give us some more interesting plots for groups comparisons and insights:"
      ]
    },
    {
      "cell_type": "code",
      "metadata": {
        "id": "7EigcW6E8qqW"
      },
      "source": [
        "gm_df.groupby(['continent', 'year'])['lifeExp'].mean().unstack('year').loc[:, 1992:2007].plot.bar();"
      ],
      "execution_count": null,
      "outputs": []
    },
    {
      "cell_type": "markdown",
      "metadata": {
        "id": "neRa0CJT8qqW"
      },
      "source": [
        "Aside - **breaking down long statements/pipelines** (the brackets are needed so that Python doesn't complain, for example, about all the whitespace between method calls and their objects):"
      ]
    },
    {
      "cell_type": "code",
      "metadata": {
        "id": "_XMv6DUb8qqW"
      },
      "source": [
        "(gm_df\n",
        "     .groupby(['continent', 'year'])\n",
        "     ['lifeExp']\n",
        "     .mean()\n",
        "     .unstack('year')\n",
        "     .loc[:, 1992:2007]\n",
        "     .plot.bar()\n",
        ");"
      ],
      "execution_count": null,
      "outputs": []
    },
    {
      "cell_type": "code",
      "metadata": {
        "id": "0KJplY32MLYD"
      },
      "source": [
        "sns.heatmap(gm_df\n",
        "     .groupby(['continent', 'year'])\n",
        "     ['lifeExp']\n",
        "     .mean()\n",
        "     .unstack('year')\n",
        "     .loc[:, 1992:2007]\n",
        ");"
      ],
      "execution_count": null,
      "outputs": []
    },
    {
      "cell_type": "markdown",
      "metadata": {
        "id": "cd6cT-sD8qqW"
      },
      "source": [
        "### **Challenge**: Experimenting with Grouping on `titanic`"
      ]
    },
    {
      "cell_type": "markdown",
      "metadata": {
        "id": "vHp_fjYy8qqW"
      },
      "source": [
        "Some of questions involving grouping that one might try to answer about the `titanic` dataset are:"
      ]
    },
    {
      "cell_type": "code",
      "metadata": {
        "id": "TLlaEYQR8qqW"
      },
      "source": [
        "titanic_df = pd.read_csv(\n",
        "    'https://raw.githubusercontent.com/gerberl/ai-cyber-foundry-data-mnpl-expl-workshop/main/data/titanic-kaggle.csv'\n",
        ")"
      ],
      "execution_count": null,
      "outputs": []
    },
    {
      "cell_type": "code",
      "metadata": {
        "id": "FcHCHXGY8qqW"
      },
      "source": [
        "titanic_df.head()"
      ],
      "execution_count": null,
      "outputs": []
    },
    {
      "cell_type": "markdown",
      "metadata": {
        "id": "CQO6a9AA8qqW"
      },
      "source": [
        "What is total number of passangers by sex?"
      ]
    },
    {
      "cell_type": "code",
      "metadata": {
        "id": "DYsFCAMT8qqW"
      },
      "source": [
        "titanic_df.groupby('Sex').size()"
      ],
      "execution_count": null,
      "outputs": []
    },
    {
      "cell_type": "markdown",
      "metadata": {
        "id": "kF5zgJsA8qqW"
      },
      "source": [
        "What is the number of passangers by port of embarkment?"
      ]
    },
    {
      "cell_type": "code",
      "metadata": {
        "id": "m7Y0ILU88qqW"
      },
      "source": [
        "titanic_df.groupby('Embarked').size()"
      ],
      "execution_count": null,
      "outputs": []
    },
    {
      "cell_type": "markdown",
      "metadata": {
        "id": "gOalSisi8qqW"
      },
      "source": [
        "What is the mean age by sex?"
      ]
    },
    {
      "cell_type": "code",
      "metadata": {
        "id": "5fclAphA8qqW"
      },
      "source": [
        "titanic_df.groupby('Sex')[['Age']].mean()"
      ],
      "execution_count": null,
      "outputs": []
    },
    {
      "cell_type": "markdown",
      "metadata": {
        "id": "uvlRRO0t8qqW"
      },
      "source": [
        "How many passengers travelled alone, by sex?"
      ]
    },
    {
      "cell_type": "code",
      "metadata": {
        "id": "Mnj58W8e8qqW"
      },
      "source": [
        ""
      ],
      "execution_count": null,
      "outputs": []
    },
    {
      "cell_type": "markdown",
      "metadata": {
        "id": "Af4OxpFN8qqW"
      },
      "source": [
        "What is the mean fare value by class?"
      ]
    },
    {
      "cell_type": "code",
      "metadata": {
        "id": "D6uVWKEJ8qqW"
      },
      "source": [
        ""
      ],
      "execution_count": null,
      "outputs": []
    },
    {
      "cell_type": "markdown",
      "metadata": {
        "id": "i6TmW8D58qqW"
      },
      "source": [
        "How many passengers survived and died, by class?"
      ]
    },
    {
      "cell_type": "code",
      "metadata": {
        "id": "7Pf9-Z8D8qqW"
      },
      "source": [
        ""
      ],
      "execution_count": null,
      "outputs": []
    },
    {
      "cell_type": "markdown",
      "metadata": {
        "id": "Z_d_y_5E8qqW"
      },
      "source": [
        "How many passengers survived and died, by sex?"
      ]
    },
    {
      "cell_type": "code",
      "metadata": {
        "id": "TFQX7cim8qqW"
      },
      "source": [
        ""
      ],
      "execution_count": null,
      "outputs": []
    },
    {
      "cell_type": "markdown",
      "metadata": {
        "id": "PoLX3hq_8qqW"
      },
      "source": [
        "What are the highest values for `sibsp` (number of siblings/spouses) and `parch` (number of parents/children) by sex?"
      ]
    },
    {
      "cell_type": "code",
      "metadata": {
        "id": "v_xWnf3-8qqW"
      },
      "source": [
        ""
      ],
      "execution_count": null,
      "outputs": []
    },
    {
      "cell_type": "markdown",
      "metadata": {
        "id": "MRjzGQFU8qqW"
      },
      "source": [
        "Compare the average fear paid by men and women, broken down in the three different classes."
      ]
    },
    {
      "cell_type": "code",
      "metadata": {
        "id": "wHN1rv-d8qqW"
      },
      "source": [
        ""
      ],
      "execution_count": null,
      "outputs": []
    },
    {
      "cell_type": "markdown",
      "metadata": {
        "id": "P4SOKLlIbOai"
      },
      "source": [
        "## Multivariate Data Distributions, Relationships, and Plots\n",
        "In terms of data exploration, most of what we have covered so far concerned univariate data distributions. For example, for quantitative features, we have analysed summary statistics, such as median and IQR, and plotted KDEs and histograms to gain insights in their data distribution; also, to learn whether those contained missing or noisy values, and outliers.\n",
        "\n",
        "We expand now our exploratory data analysis to multivariate distributions. In other words, we will investigate how the data in distributed for two or more features jointly. By and large, at this stage, this will be done visually, with the help of some sophisticated plots offered by seaborn. This will allow us, for example, to identify potential relationships between features to help answer some interesting questions (e.g., is BMI associated with diabetes?, has life expectancy varied predictably according to year?); also, to inform subsequent data science stages such as building machine learning models to predict outcomes based on useful predictors (e.g., use travelling class and sex to predict whether travellers survived).\n",
        "\n",
        "As a reminder, the topic of data visualisation is going to be given a more formal treatment in the second part of the unit. Right now, we are only interested in quickly plotting some charts to help us with data understanding and exploration."
      ]
    },
    {
      "cell_type": "markdown",
      "metadata": {
        "id": "kap_YucRZ1vQ"
      },
      "source": [
        "### Firstly, Some Useful Data Transformations"
      ]
    },
    {
      "cell_type": "markdown",
      "metadata": {
        "id": "M8F8rBCUZ1vQ"
      },
      "source": [
        "#### A Reminder of Types of Features"
      ]
    },
    {
      "cell_type": "markdown",
      "metadata": {
        "id": "_y7VAbq6Z1vQ"
      },
      "source": [
        "As a refresher: typically, in Data Science, we deal with two main types of features, **quantitative** and **qualitative**, which are normally classified into:\n",
        "\n",
        "* quantitative:\n",
        "    - **continuous**: e.g., temperature, BMI, GDP per capita (**numeric**); timestamp of sales transaction (**time**) \n",
        "    - **discrete**: number of pregnancies, age (**numeric**); year, month, day of the week, 4h-interval (**time**)\n",
        "* qualitative:\n",
        "    - **categorical**:\n",
        "        + **unordered**: continent, outcome (of diagnosis), travelling class\n",
        "        + **ordinal**: review (e.g., from `poor` to `outstanding`), temperature (`low`, `medium`, `high`).\n",
        "        "
      ]
    },
    {
      "cell_type": "markdown",
      "metadata": {
        "id": "teC44oM8Z1vQ"
      },
      "source": [
        "#### Discretisation"
      ]
    },
    {
      "cell_type": "markdown",
      "metadata": {
        "id": "Hb_w-aIBZ1vQ"
      },
      "source": [
        "At times, it is useful, for certain data science or machine learning tasks, to encode the data differently. A useful, relevant transformation here is that of **discretisation** - converting a quantitative into a categorical one."
      ]
    },
    {
      "cell_type": "markdown",
      "metadata": {
        "id": "DoS8faHNZ1vQ"
      },
      "source": [
        "For example, one could think of working with BMI as categorical rather than a continuous data type. Discretisation can be achieved practically, say, via [`pd.cut()`](https://pandas.pydata.org/pandas-docs/stable/reference/api/pandas.cut.html) function as the example below shows.\n",
        "\n",
        "The standard definition (e.g., from Wikipedia) of different BMI bands is:\n",
        "\n",
        "* *Underweight*: < 18.5.\n",
        "* *Normal weight*: between 18.5 and 25.\n",
        "* *Overweight*: between 25 to 30.\n",
        "* *Obese*: 30 or greater."
      ]
    },
    {
      "cell_type": "code",
      "metadata": {
        "id": "Ve7HGDkKZ1vQ"
      },
      "source": [
        "max_BMI = pima_df['BMI'].max()\n",
        "pima_df['BMI_cat'] = pd.cut(\n",
        "    pima_df['BMI'],\n",
        "    bins=[0, 18.5, 25, 30, max_BMI + 0.001],\n",
        "    labels=['low', 'normal', 'overweight', 'obese'],\n",
        "    right=False,\n",
        "    include_lowest=True\n",
        ")"
      ],
      "execution_count": null,
      "outputs": []
    },
    {
      "cell_type": "code",
      "metadata": {
        "id": "ZaMAPi_OZ1vQ"
      },
      "source": [
        "pima_df.sample(5, random_state=42)"
      ],
      "execution_count": null,
      "outputs": []
    },
    {
      "cell_type": "markdown",
      "metadata": {
        "id": "CyX7CS-9Z1vQ"
      },
      "source": [
        "Notice that `pandas` creates a `category` that is **ordinal** (`[low < normal < overweight < obese]`), and that the parameters `right` and `include_lowest` indicate whether the intervals are open or closed, and at which endpoint."
      ]
    },
    {
      "cell_type": "code",
      "metadata": {
        "id": "bzHUYsELZ1vQ"
      },
      "source": [
        "pima_df['BMI_cat'].head(1)"
      ],
      "execution_count": null,
      "outputs": []
    },
    {
      "cell_type": "markdown",
      "metadata": {
        "id": "MKsIxduDZ1vQ"
      },
      "source": [
        "One could also simply map a set of distinct (discrete) values into categorical ones with `.map()`:"
      ]
    },
    {
      "cell_type": "code",
      "metadata": {
        "id": "_hDGrK5wZ1vQ"
      },
      "source": [
        "pima_df['Outcome'].head(5)"
      ],
      "execution_count": null,
      "outputs": []
    },
    {
      "cell_type": "code",
      "metadata": {
        "id": "WJXQZK8cZ1vQ"
      },
      "source": [
        "pima_df['Outcome'].map({1: 'Diabetic', 0: 'Non-Diabetic'}).astype('category')"
      ],
      "execution_count": null,
      "outputs": []
    },
    {
      "cell_type": "code",
      "metadata": {
        "id": "uGGXnhvnZ1vR"
      },
      "source": [
        "pima_df['Outcome_cat'] = pima_df['Outcome'].map({1: 'Diabetic', 0: 'Non-Diabetic'})"
      ],
      "execution_count": null,
      "outputs": []
    },
    {
      "cell_type": "code",
      "metadata": {
        "id": "NI53AVcyZ1vR"
      },
      "source": [
        "pima_df.head(5)"
      ],
      "execution_count": null,
      "outputs": []
    },
    {
      "cell_type": "markdown",
      "metadata": {
        "id": "1vsDNQhOZ1vR"
      },
      "source": [
        "### Plotting Grids (via `plt.subplots()`)"
      ]
    },
    {
      "cell_type": "markdown",
      "metadata": {
        "id": "G15KhxnXZ1vR"
      },
      "source": [
        "Just to refresh our minds, a KDE/histogram has been quite useful for understanding data distributions of quantitative features."
      ]
    },
    {
      "cell_type": "code",
      "metadata": {
        "id": "X48VEcfGZ1vR"
      },
      "source": [
        "sns.distplot(pima_df['BMI']);"
      ],
      "execution_count": null,
      "outputs": []
    },
    {
      "cell_type": "markdown",
      "metadata": {
        "id": "yqok9j6hZ1vR"
      },
      "source": [
        "A nice addition - one can have multiple plots in a more convenient layout with `matplotlib`'s `.subplots()`. It produces a `Figure` object (assigned to `fig`) and a collection of `Axis` objects (assigned to `axs`). In the example below, it produces a 2x2 grid; to address a specific axis, we need two dimensions (e.g., `axs[1,0]` for second row and first column)."
      ]
    },
    {
      "cell_type": "code",
      "metadata": {
        "id": "pmBmcRGNZ1vR"
      },
      "source": [
        "fig, axs = plt.subplots(2, 2, figsize=(16,8))\n",
        "sns.distplot(pima_df['BMI'].loc[ pima_df['BMI']>0 ], ax=axs[0,0])\n",
        "sns.distplot(pima_df['BloodPressure'].loc[ pima_df['BloodPressure']>0 ], ax=axs[0,1])\n",
        "sns.distplot(pima_df['SkinThickness'].loc[ pima_df['SkinThickness']>0 ], ax=axs[1,0])\n",
        "sns.distplot(pima_df['Age'].loc[ pima_df['Age']>0 ], ax=axs[1,1]);"
      ],
      "execution_count": null,
      "outputs": []
    },
    {
      "cell_type": "markdown",
      "metadata": {
        "id": "qB6oZS_EZ1vR"
      },
      "source": [
        "There is plenty of copy-and-pasting above...\n",
        "\n",
        "Below, I have a more flexible fragment code that relies on a loop and an iterable. Not to worry if you don't fully understand it - but keep it as reference for future work and independent study. It is worth mentioning:\n",
        "\n",
        "* `.reshape(-1)` will change the two dimensional array of axes into a unidimensional one, which is useful for iteration purposes.\n",
        "\n",
        "* `iter(axs.reshape(-1))` gives me an object that allows for iterating over each axis, one by one.\n",
        "\n",
        "* `for col in cols`: iterates over the list of columns labels defined by `cols`. At each iteration, `col` binds to one of the labels. In turn, `next(axs_it)` produces the next axis to be plotted on. In the first iteration, `col` is `BMI`, and `cur_ax` will point to the top-left axis."
      ]
    },
    {
      "cell_type": "code",
      "metadata": {
        "id": "TUDgPW9-Z1vR"
      },
      "source": [
        "(fig, axs) = plt.subplots(2, 2, figsize=(16,8))\n",
        "axs_it = iter(axs.reshape(-1))\n",
        "cols = [ 'BMI', 'BloodPressure', 'SkinThickness', 'Age' ]\n",
        "for col in cols:\n",
        "    cur_ax = next(axs_it)\n",
        "    sns.distplot(pima_df[col].loc[ pima_df[col]>0 ], ax=cur_ax);"
      ],
      "execution_count": null,
      "outputs": []
    },
    {
      "cell_type": "markdown",
      "metadata": {
        "id": "4njV8dbAZ1vR"
      },
      "source": [
        "### Relationships: Two Quantitative Features\n",
        "\n",
        "The vastly popular way of analysing the visually relationship of two quantitative features is a **scatter plot**. `seaborn` offers the useful `.jointplot()` which, among other things, can display marginal data distributions too."
      ]
    },
    {
      "cell_type": "code",
      "metadata": {
        "id": "8FlUGUXWZ1vR"
      },
      "source": [
        "df = pima_df.query('BMI>0 and SkinThickness>0')\n",
        "sns.jointplot(data=df, x='BMI', y='SkinThickness', height=7);"
      ],
      "execution_count": null,
      "outputs": []
    },
    {
      "cell_type": "markdown",
      "metadata": {
        "id": "XZSQOMd8Z1vR"
      },
      "source": [
        "Just by looking at the scatter plot above, is there anything that we can say about a **relationship between `BMI` and `SkinThickness`**? As the values of BMI change (i.e., increase or decrease), do we see, broadly, an associate change in skin thickness?\n",
        "\n",
        "We can ask `.jointplot()` to help us by displaying a regression line. The shaded area works like a confidence interval - it shows the regression lines produced for many resamplings of the underlying data."
      ]
    },
    {
      "cell_type": "code",
      "metadata": {
        "id": "r5ltItS-Z1vR"
      },
      "source": [
        "sns.jointplot(data=df, x='BMI', y='SkinThickness', kind=\"reg\", height=7);"
      ],
      "execution_count": null,
      "outputs": []
    },
    {
      "cell_type": "markdown",
      "metadata": {
        "id": "LWDSL9wHZ1vR"
      },
      "source": [
        "Too many data points will cause **saturation** - the `alpha` parameter is available for a number of types of plots."
      ]
    },
    {
      "cell_type": "code",
      "metadata": {
        "id": "adhyleitZ1vR"
      },
      "source": [
        "sns.jointplot(data=df, x='BMI', y='SkinThickness', alpha=0.3, height=7);"
      ],
      "execution_count": null,
      "outputs": []
    },
    {
      "cell_type": "markdown",
      "metadata": {
        "id": "_ZOls_0WZ1vR"
      },
      "source": [
        "Also, one can divide the space into a grid of hexagons - the shade of colour matches the data density."
      ]
    },
    {
      "cell_type": "code",
      "metadata": {
        "id": "f2HRldEOZ1vR"
      },
      "source": [
        "sns.jointplot(data=df, x='BMI', y='SkinThickness', kind=\"hex\", height=7);"
      ],
      "execution_count": null,
      "outputs": []
    },
    {
      "cell_type": "markdown",
      "metadata": {
        "id": "pB5YwFiBZ1vR"
      },
      "source": [
        "Anyone familiar with contour plots? You've seen it in maps with landscape features."
      ]
    },
    {
      "cell_type": "code",
      "metadata": {
        "id": "vVuLOEdMZ1vR"
      },
      "source": [
        "sns.jointplot(data=df, x='BMI', y='SkinThickness', kind=\"kde\", height=7);"
      ],
      "execution_count": null,
      "outputs": []
    },
    {
      "cell_type": "markdown",
      "metadata": {
        "id": "u5EuI4i8Z1vS"
      },
      "source": [
        "### Pairs of Features in a Plot Grid"
      ]
    },
    {
      "cell_type": "code",
      "metadata": {
        "id": "E5zZehcnZ1vS"
      },
      "source": [
        "cols = [ 'Glucose', 'BMI', 'SkinThickness', 'BloodPressure' ]\n",
        "mask = (pima_df['Glucose']>0) & (pima_df['BloodPressure']>0) & \\\n",
        "    (pima_df['SkinThickness']>0) & (pima_df['BMI']>0)\n",
        "df = pima_df.loc[ mask, cols ]\n",
        "sns.pairplot(df, height=3);"
      ],
      "execution_count": null,
      "outputs": []
    },
    {
      "cell_type": "code",
      "metadata": {
        "id": "_x3e4EC-Z1vS"
      },
      "source": [
        "sns.pairplot(df, height=3, plot_kws=dict(alpha=0.3));"
      ],
      "execution_count": null,
      "outputs": []
    },
    {
      "cell_type": "code",
      "metadata": {
        "id": "9XbTdCyEZ1vS"
      },
      "source": [
        "sns.pairplot(df, height=3, kind=\"reg\");"
      ],
      "execution_count": null,
      "outputs": []
    },
    {
      "cell_type": "markdown",
      "metadata": {
        "id": "ZoKRXPvrZ1vS"
      },
      "source": [
        "Please don't worry too much about the following right now, as it will be revisited later, but we can quickly obtain some **objective metrics** that quantify the relationship of pairs of features. Here, the strength of association is between **-1** and **1**; the absolute value tells us about its strength and the sign, its direction. Roughly, ~0.7,0.8 is strong, ~0.4,0.5 is moderate, ~0.2 is weak."
      ]
    },
    {
      "cell_type": "code",
      "metadata": {
        "id": "8IfXdETcZ1vS"
      },
      "source": [
        "df.corr()"
      ],
      "execution_count": null,
      "outputs": []
    },
    {
      "cell_type": "markdown",
      "metadata": {
        "id": "EvgAKbR0Z1vS"
      },
      "source": [
        "### Adding a Third, Categorical Feature\n",
        "\n",
        "Use **colour** (`hue`) as a third dimension:"
      ]
    },
    {
      "cell_type": "code",
      "metadata": {
        "id": "7P-ZAG4FZ1vS"
      },
      "source": [
        "cols = [ 'Glucose', 'BMI', 'SkinThickness', 'BloodPressure', 'Outcome_cat' ]\n",
        "mask = (pima_df['Glucose']>0) & (pima_df['BloodPressure']>0) & \\\n",
        "    (pima_df['SkinThickness']>0) & (pima_df['BMI']>0)\n",
        "df = pima_df.loc[ mask, cols ]\n",
        "sns.scatterplot(data=df, x='BMI', y='SkinThickness', hue='Outcome_cat');"
      ],
      "execution_count": null,
      "outputs": []
    },
    {
      "cell_type": "code",
      "metadata": {
        "id": "ROJn3vZyZ1vS"
      },
      "source": [
        "sns.pairplot(data=df, hue='Outcome_cat', height=3.5);"
      ],
      "execution_count": null,
      "outputs": []
    },
    {
      "cell_type": "markdown",
      "metadata": {
        "id": "C79a0K0hZ1vS"
      },
      "source": [
        "What do the plots in the diagonal tell us?"
      ]
    },
    {
      "cell_type": "markdown",
      "metadata": {
        "id": "_LZQ-CvIZ1vS"
      },
      "source": [
        "### One Categorical, One Quantitative Feature"
      ]
    },
    {
      "cell_type": "code",
      "metadata": {
        "id": "04WbofvlZ1vS"
      },
      "source": [
        "plt.figure(figsize=(12/1.5,8/1.5))\n",
        "sns.boxplot(pima_df.loc[pima_df['Glucose']>0, 'Glucose']);"
      ],
      "execution_count": null,
      "outputs": []
    },
    {
      "cell_type": "code",
      "metadata": {
        "id": "gQYwfl85Z1vV"
      },
      "source": [
        "sns.boxplot(x='Outcome_cat', y='Glucose', data=pima_df.loc[pima_df['Glucose']>0]);"
      ],
      "execution_count": null,
      "outputs": []
    },
    {
      "cell_type": "code",
      "metadata": {
        "id": "NqnTe5H5Z1vV"
      },
      "source": [
        "plt.figure(figsize=(12/1.2,8/1.2))\n",
        "sns.boxplot(x='year', y='lifeExp', data=gm_df.loc[ gm_df['continent']=='Europe' ]);"
      ],
      "execution_count": null,
      "outputs": []
    },
    {
      "cell_type": "markdown",
      "metadata": {
        "id": "6CDhrQkqZ1vV"
      },
      "source": [
        "What are those outliers?"
      ]
    },
    {
      "cell_type": "code",
      "metadata": {
        "id": "CWOKA9pLZ1vV"
      },
      "source": [
        "gm_df.loc[ gm_df['continent']=='Europe' ].loc[ gm_df['lifeExp']<50 ]"
      ],
      "execution_count": null,
      "outputs": []
    },
    {
      "cell_type": "code",
      "metadata": {
        "id": "g6lacQKiZ1vV"
      },
      "source": [
        "sns.violinplot(pima_df['Glucose'], height=8/1.5, aspect=8/5);"
      ],
      "execution_count": null,
      "outputs": []
    },
    {
      "cell_type": "code",
      "metadata": {
        "id": "sKHNz0ztZ1vV"
      },
      "source": [
        "sns.violinplot(x='Outcome_cat', y='Glucose', data=pima_df);"
      ],
      "execution_count": null,
      "outputs": []
    },
    {
      "cell_type": "code",
      "metadata": {
        "id": "cLidvWvHZ1vV"
      },
      "source": [
        "sns.violinplot(x='year', y='lifeExp', data=gm_df);"
      ],
      "execution_count": null,
      "outputs": []
    },
    {
      "cell_type": "code",
      "metadata": {
        "id": "KTPsezQIZ1vV"
      },
      "source": [
        "sns.stripplot(x='year', y='lifeExp', data=gm_df, jitter=True);"
      ],
      "execution_count": null,
      "outputs": []
    },
    {
      "cell_type": "code",
      "metadata": {
        "id": "bd2jihPoZ1vV"
      },
      "source": [
        "cur_ax = sns.boxplot(x='year', y='lifeExp', data=gm_df)\n",
        "sns.stripplot(x='year', y='lifeExp', data=gm_df, jitter=True, linewidth=0.5, ax=cur_ax);"
      ],
      "execution_count": null,
      "outputs": []
    },
    {
      "cell_type": "code",
      "metadata": {
        "id": "qRgni48iZ1vV"
      },
      "source": [
        "sns.stripplot(x='year', y='lifeExp', data=gm_df, hue='continent', jitter=True);"
      ],
      "execution_count": null,
      "outputs": []
    },
    {
      "cell_type": "markdown",
      "metadata": {
        "id": "W0DFOAyAZ1vV"
      },
      "source": [
        "Again - what are those outliers?"
      ]
    },
    {
      "cell_type": "code",
      "metadata": {
        "id": "FPh-0ltsZ1vV"
      },
      "source": [
        "gm_df.query('year==1977 and lifeExp<40')"
      ],
      "execution_count": null,
      "outputs": []
    },
    {
      "cell_type": "markdown",
      "metadata": {
        "id": "IhqaBk5KZ1vV"
      },
      "source": [
        "### Two Categorical Features"
      ]
    },
    {
      "cell_type": "code",
      "metadata": {
        "id": "gitQ9DoUZ1vV"
      },
      "source": [
        "pima_df.groupby(by=['Outcome_cat', 'BMI_cat']).size().unstack()"
      ],
      "execution_count": null,
      "outputs": []
    },
    {
      "cell_type": "code",
      "metadata": {
        "id": "1WsE-_NHZ1vV"
      },
      "source": [
        "pima_df.groupby(by=['Outcome_cat', 'BMI_cat']).size().unstack().plot.bar();"
      ],
      "execution_count": null,
      "outputs": []
    },
    {
      "cell_type": "code",
      "metadata": {
        "id": "0d1pTa-JZ1vW"
      },
      "source": [
        "pima_df.groupby(by=['Outcome_cat', 'BMI_cat']).size().unstack().plot.bar(stacked=True);"
      ],
      "execution_count": null,
      "outputs": []
    },
    {
      "cell_type": "code",
      "metadata": {
        "id": "twYLKEK1Z1vW"
      },
      "source": [
        "sns.countplot(data=pima_df, x='BMI_cat', hue='Outcome_cat');"
      ],
      "execution_count": null,
      "outputs": []
    },
    {
      "cell_type": "code",
      "metadata": {
        "id": "77Kr2IO0Z1vW"
      },
      "source": [
        "sns.catplot(data=pima_df, x='Outcome_cat', col='BMI_cat', kind=\"count\", col_wrap=2);"
      ],
      "execution_count": null,
      "outputs": []
    },
    {
      "cell_type": "code",
      "metadata": {
        "id": "E2BOOnQcZ1vW"
      },
      "source": [
        "sns.catplot(\n",
        "    data=pima_df, \n",
        "    col='Outcome_cat', \n",
        "    y='BMI_cat', \n",
        "    kind=\"count\", \n",
        "    col_wrap=2,\n",
        ");"
      ],
      "execution_count": null,
      "outputs": []
    },
    {
      "cell_type": "markdown",
      "metadata": {
        "id": "N-OOZszdZ1vW"
      },
      "source": [
        "## Checkpoint\n",
        "\n",
        "Perform a similar exploratory data analysis, using different combinations of quantitative and categorical features, on the `titanic` dataset. For a richer set of features, you might want to use `seaborn`'s build-in version of the data:"
      ]
    },
    {
      "cell_type": "code",
      "metadata": {
        "id": "mlUAuS2eZ1vW"
      },
      "source": [
        "titanic_df = sns.load_dataset('titanic')"
      ],
      "execution_count": null,
      "outputs": []
    },
    {
      "cell_type": "code",
      "metadata": {
        "scrolled": false,
        "id": "88020K2lZ1vW"
      },
      "source": [
        "titanic_df.head()"
      ],
      "execution_count": null,
      "outputs": []
    },
    {
      "cell_type": "code",
      "metadata": {
        "id": "BpWQDq69Z1vW"
      },
      "source": [
        ""
      ],
      "execution_count": null,
      "outputs": []
    }
  ]
}